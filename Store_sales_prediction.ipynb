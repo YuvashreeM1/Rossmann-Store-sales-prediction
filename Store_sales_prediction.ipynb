{
  "nbformat": 4,
  "nbformat_minor": 5,
  "metadata": {
    "kernelspec": {
      "display_name": "Python 3",
      "language": "python",
      "name": "python3"
    },
    "language_info": {
      "codemirror_mode": {
        "name": "ipython",
        "version": 3
      },
      "file_extension": ".py",
      "mimetype": "text/x-python",
      "name": "python",
      "nbconvert_exporter": "python",
      "pygments_lexer": "ipython3",
      "version": "3.7.10"
    },
    "papermill": {
      "default_parameters": {},
      "duration": 1560.109062,
      "end_time": "2021-11-17T09:23:01.032262",
      "environment_variables": {},
      "exception": null,
      "input_path": "__notebook__.ipynb",
      "output_path": "__notebook__.ipynb",
      "parameters": {},
      "start_time": "2021-11-17T08:57:00.923200",
      "version": "2.3.3"
    },
    "colab": {
      "name": "Store_sales_prediction.ipynb",
      "provenance": []
    }
  },
  "cells": [
    {
      "cell_type": "markdown",
      "metadata": {
        "id": "67752fd9",
        "papermill": {
          "duration": 0.062123,
          "end_time": "2021-11-17T08:57:10.457844",
          "exception": false,
          "start_time": "2021-11-17T08:57:10.395721",
          "status": "completed"
        },
        "tags": []
      },
      "source": [
        "\n",
        "#*Rossman Store Sales Prediction*\n",
        "\n",
        "---\n",
        "\n",
        "\n",
        "\n",
        "Rossmann operates over 3,000 drug stores in 7 European countries. Currently, Rossmann store managers are tasked with predicting their daily sales for up to six weeks in advance. Store sales are influenced by many factors, including promotions, competition, school and state holidays, seasonality, and locality.\n",
        "\n",
        "With thousands of individual managers predicting sales based on their unique circumstances, the accuracy of results can be quite varied. You are provided with historical sales data for 1,115 Rossmann stores. The task is to forecast the \"Sales\" column for the test set. Note that some stores in the dataset were temporarily closed for refurbishment."
      ],
      "id": "67752fd9"
    },
    {
      "cell_type": "markdown",
      "metadata": {
        "id": "1d265718",
        "papermill": {
          "duration": 0.137797,
          "end_time": "2021-11-17T08:57:10.661204",
          "exception": false,
          "start_time": "2021-11-17T08:57:10.523407",
          "status": "completed"
        },
        "tags": []
      },
      "source": [
        "Downloading the required libraries"
      ],
      "id": "1d265718"
    },
    {
      "cell_type": "code",
      "metadata": {
        "execution": {
          "iopub.execute_input": "2021-11-17T08:57:10.791668Z",
          "iopub.status.busy": "2021-11-17T08:57:10.790530Z",
          "iopub.status.idle": "2021-11-17T08:57:10.799668Z",
          "shell.execute_reply": "2021-11-17T08:57:10.800167Z",
          "shell.execute_reply.started": "2021-11-17T08:24:50.704809Z"
        },
        "id": "26d6f9f5",
        "papermill": {
          "duration": 0.072896,
          "end_time": "2021-11-17T08:57:10.800483",
          "exception": false,
          "start_time": "2021-11-17T08:57:10.727587",
          "status": "completed"
        },
        "tags": [],
        "colab": {
          "resources": {
            "http://localhost:8080/nbextensions/google.colab/files.js": {
              "data": "Ly8gQ29weXJpZ2h0IDIwMTcgR29vZ2xlIExMQwovLwovLyBMaWNlbnNlZCB1bmRlciB0aGUgQXBhY2hlIExpY2Vuc2UsIFZlcnNpb24gMi4wICh0aGUgIkxpY2Vuc2UiKTsKLy8geW91IG1heSBub3QgdXNlIHRoaXMgZmlsZSBleGNlcHQgaW4gY29tcGxpYW5jZSB3aXRoIHRoZSBMaWNlbnNlLgovLyBZb3UgbWF5IG9idGFpbiBhIGNvcHkgb2YgdGhlIExpY2Vuc2UgYXQKLy8KLy8gICAgICBodHRwOi8vd3d3LmFwYWNoZS5vcmcvbGljZW5zZXMvTElDRU5TRS0yLjAKLy8KLy8gVW5sZXNzIHJlcXVpcmVkIGJ5IGFwcGxpY2FibGUgbGF3IG9yIGFncmVlZCB0byBpbiB3cml0aW5nLCBzb2Z0d2FyZQovLyBkaXN0cmlidXRlZCB1bmRlciB0aGUgTGljZW5zZSBpcyBkaXN0cmlidXRlZCBvbiBhbiAiQVMgSVMiIEJBU0lTLAovLyBXSVRIT1VUIFdBUlJBTlRJRVMgT1IgQ09ORElUSU9OUyBPRiBBTlkgS0lORCwgZWl0aGVyIGV4cHJlc3Mgb3IgaW1wbGllZC4KLy8gU2VlIHRoZSBMaWNlbnNlIGZvciB0aGUgc3BlY2lmaWMgbGFuZ3VhZ2UgZ292ZXJuaW5nIHBlcm1pc3Npb25zIGFuZAovLyBsaW1pdGF0aW9ucyB1bmRlciB0aGUgTGljZW5zZS4KCi8qKgogKiBAZmlsZW92ZXJ2aWV3IEhlbHBlcnMgZm9yIGdvb2dsZS5jb2xhYiBQeXRob24gbW9kdWxlLgogKi8KKGZ1bmN0aW9uKHNjb3BlKSB7CmZ1bmN0aW9uIHNwYW4odGV4dCwgc3R5bGVBdHRyaWJ1dGVzID0ge30pIHsKICBjb25zdCBlbGVtZW50ID0gZG9jdW1lbnQuY3JlYXRlRWxlbWVudCgnc3BhbicpOwogIGVsZW1lbnQudGV4dENvbnRlbnQgPSB0ZXh0OwogIGZvciAoY29uc3Qga2V5IG9mIE9iamVjdC5rZXlzKHN0eWxlQXR0cmlidXRlcykpIHsKICAgIGVsZW1lbnQuc3R5bGVba2V5XSA9IHN0eWxlQXR0cmlidXRlc1trZXldOwogIH0KICByZXR1cm4gZWxlbWVudDsKfQoKLy8gTWF4IG51bWJlciBvZiBieXRlcyB3aGljaCB3aWxsIGJlIHVwbG9hZGVkIGF0IGEgdGltZS4KY29uc3QgTUFYX1BBWUxPQURfU0laRSA9IDEwMCAqIDEwMjQ7CgpmdW5jdGlvbiBfdXBsb2FkRmlsZXMoaW5wdXRJZCwgb3V0cHV0SWQpIHsKICBjb25zdCBzdGVwcyA9IHVwbG9hZEZpbGVzU3RlcChpbnB1dElkLCBvdXRwdXRJZCk7CiAgY29uc3Qgb3V0cHV0RWxlbWVudCA9IGRvY3VtZW50LmdldEVsZW1lbnRCeUlkKG91dHB1dElkKTsKICAvLyBDYWNoZSBzdGVwcyBvbiB0aGUgb3V0cHV0RWxlbWVudCB0byBtYWtlIGl0IGF2YWlsYWJsZSBmb3IgdGhlIG5leHQgY2FsbAogIC8vIHRvIHVwbG9hZEZpbGVzQ29udGludWUgZnJvbSBQeXRob24uCiAgb3V0cHV0RWxlbWVudC5zdGVwcyA9IHN0ZXBzOwoKICByZXR1cm4gX3VwbG9hZEZpbGVzQ29udGludWUob3V0cHV0SWQpOwp9CgovLyBUaGlzIGlzIHJvdWdobHkgYW4gYXN5bmMgZ2VuZXJhdG9yIChub3Qgc3VwcG9ydGVkIGluIHRoZSBicm93c2VyIHlldCksCi8vIHdoZXJlIHRoZXJlIGFyZSBtdWx0aXBsZSBhc3luY2hyb25vdXMgc3RlcHMgYW5kIHRoZSBQeXRob24gc2lkZSBpcyBnb2luZwovLyB0byBwb2xsIGZvciBjb21wbGV0aW9uIG9mIGVhY2ggc3RlcC4KLy8gVGhpcyB1c2VzIGEgUHJvbWlzZSB0byBibG9jayB0aGUgcHl0aG9uIHNpZGUgb24gY29tcGxldGlvbiBvZiBlYWNoIHN0ZXAsCi8vIHRoZW4gcGFzc2VzIHRoZSByZXN1bHQgb2YgdGhlIHByZXZpb3VzIHN0ZXAgYXMgdGhlIGlucHV0IHRvIHRoZSBuZXh0IHN0ZXAuCmZ1bmN0aW9uIF91cGxvYWRGaWxlc0NvbnRpbnVlKG91dHB1dElkKSB7CiAgY29uc3Qgb3V0cHV0RWxlbWVudCA9IGRvY3VtZW50LmdldEVsZW1lbnRCeUlkKG91dHB1dElkKTsKICBjb25zdCBzdGVwcyA9IG91dHB1dEVsZW1lbnQuc3RlcHM7CgogIGNvbnN0IG5leHQgPSBzdGVwcy5uZXh0KG91dHB1dEVsZW1lbnQubGFzdFByb21pc2VWYWx1ZSk7CiAgcmV0dXJuIFByb21pc2UucmVzb2x2ZShuZXh0LnZhbHVlLnByb21pc2UpLnRoZW4oKHZhbHVlKSA9PiB7CiAgICAvLyBDYWNoZSB0aGUgbGFzdCBwcm9taXNlIHZhbHVlIHRvIG1ha2UgaXQgYXZhaWxhYmxlIHRvIHRoZSBuZXh0CiAgICAvLyBzdGVwIG9mIHRoZSBnZW5lcmF0b3IuCiAgICBvdXRwdXRFbGVtZW50Lmxhc3RQcm9taXNlVmFsdWUgPSB2YWx1ZTsKICAgIHJldHVybiBuZXh0LnZhbHVlLnJlc3BvbnNlOwogIH0pOwp9CgovKioKICogR2VuZXJhdG9yIGZ1bmN0aW9uIHdoaWNoIGlzIGNhbGxlZCBiZXR3ZWVuIGVhY2ggYXN5bmMgc3RlcCBvZiB0aGUgdXBsb2FkCiAqIHByb2Nlc3MuCiAqIEBwYXJhbSB7c3RyaW5nfSBpbnB1dElkIEVsZW1lbnQgSUQgb2YgdGhlIGlucHV0IGZpbGUgcGlja2VyIGVsZW1lbnQuCiAqIEBwYXJhbSB7c3RyaW5nfSBvdXRwdXRJZCBFbGVtZW50IElEIG9mIHRoZSBvdXRwdXQgZGlzcGxheS4KICogQHJldHVybiB7IUl0ZXJhYmxlPCFPYmplY3Q+fSBJdGVyYWJsZSBvZiBuZXh0IHN0ZXBzLgogKi8KZnVuY3Rpb24qIHVwbG9hZEZpbGVzU3RlcChpbnB1dElkLCBvdXRwdXRJZCkgewogIGNvbnN0IGlucHV0RWxlbWVudCA9IGRvY3VtZW50LmdldEVsZW1lbnRCeUlkKGlucHV0SWQpOwogIGlucHV0RWxlbWVudC5kaXNhYmxlZCA9IGZhbHNlOwoKICBjb25zdCBvdXRwdXRFbGVtZW50ID0gZG9jdW1lbnQuZ2V0RWxlbWVudEJ5SWQob3V0cHV0SWQpOwogIG91dHB1dEVsZW1lbnQuaW5uZXJIVE1MID0gJyc7CgogIGNvbnN0IHBpY2tlZFByb21pc2UgPSBuZXcgUHJvbWlzZSgocmVzb2x2ZSkgPT4gewogICAgaW5wdXRFbGVtZW50LmFkZEV2ZW50TGlzdGVuZXIoJ2NoYW5nZScsIChlKSA9PiB7CiAgICAgIHJlc29sdmUoZS50YXJnZXQuZmlsZXMpOwogICAgfSk7CiAgfSk7CgogIGNvbnN0IGNhbmNlbCA9IGRvY3VtZW50LmNyZWF0ZUVsZW1lbnQoJ2J1dHRvbicpOwogIGlucHV0RWxlbWVudC5wYXJlbnRFbGVtZW50LmFwcGVuZENoaWxkKGNhbmNlbCk7CiAgY2FuY2VsLnRleHRDb250ZW50ID0gJ0NhbmNlbCB1cGxvYWQnOwogIGNvbnN0IGNhbmNlbFByb21pc2UgPSBuZXcgUHJvbWlzZSgocmVzb2x2ZSkgPT4gewogICAgY2FuY2VsLm9uY2xpY2sgPSAoKSA9PiB7CiAgICAgIHJlc29sdmUobnVsbCk7CiAgICB9OwogIH0pOwoKICAvLyBXYWl0IGZvciB0aGUgdXNlciB0byBwaWNrIHRoZSBmaWxlcy4KICBjb25zdCBmaWxlcyA9IHlpZWxkIHsKICAgIHByb21pc2U6IFByb21pc2UucmFjZShbcGlja2VkUHJvbWlzZSwgY2FuY2VsUHJvbWlzZV0pLAogICAgcmVzcG9uc2U6IHsKICAgICAgYWN0aW9uOiAnc3RhcnRpbmcnLAogICAgfQogIH07CgogIGNhbmNlbC5yZW1vdmUoKTsKCiAgLy8gRGlzYWJsZSB0aGUgaW5wdXQgZWxlbWVudCBzaW5jZSBmdXJ0aGVyIHBpY2tzIGFyZSBub3QgYWxsb3dlZC4KICBpbnB1dEVsZW1lbnQuZGlzYWJsZWQgPSB0cnVlOwoKICBpZiAoIWZpbGVzKSB7CiAgICByZXR1cm4gewogICAgICByZXNwb25zZTogewogICAgICAgIGFjdGlvbjogJ2NvbXBsZXRlJywKICAgICAgfQogICAgfTsKICB9CgogIGZvciAoY29uc3QgZmlsZSBvZiBmaWxlcykgewogICAgY29uc3QgbGkgPSBkb2N1bWVudC5jcmVhdGVFbGVtZW50KCdsaScpOwogICAgbGkuYXBwZW5kKHNwYW4oZmlsZS5uYW1lLCB7Zm9udFdlaWdodDogJ2JvbGQnfSkpOwogICAgbGkuYXBwZW5kKHNwYW4oCiAgICAgICAgYCgke2ZpbGUudHlwZSB8fCAnbi9hJ30pIC0gJHtmaWxlLnNpemV9IGJ5dGVzLCBgICsKICAgICAgICBgbGFzdCBtb2RpZmllZDogJHsKICAgICAgICAgICAgZmlsZS5sYXN0TW9kaWZpZWREYXRlID8gZmlsZS5sYXN0TW9kaWZpZWREYXRlLnRvTG9jYWxlRGF0ZVN0cmluZygpIDoKICAgICAgICAgICAgICAgICAgICAgICAgICAgICAgICAgICAgJ24vYSd9IC0gYCkpOwogICAgY29uc3QgcGVyY2VudCA9IHNwYW4oJzAlIGRvbmUnKTsKICAgIGxpLmFwcGVuZENoaWxkKHBlcmNlbnQpOwoKICAgIG91dHB1dEVsZW1lbnQuYXBwZW5kQ2hpbGQobGkpOwoKICAgIGNvbnN0IGZpbGVEYXRhUHJvbWlzZSA9IG5ldyBQcm9taXNlKChyZXNvbHZlKSA9PiB7CiAgICAgIGNvbnN0IHJlYWRlciA9IG5ldyBGaWxlUmVhZGVyKCk7CiAgICAgIHJlYWRlci5vbmxvYWQgPSAoZSkgPT4gewogICAgICAgIHJlc29sdmUoZS50YXJnZXQucmVzdWx0KTsKICAgICAgfTsKICAgICAgcmVhZGVyLnJlYWRBc0FycmF5QnVmZmVyKGZpbGUpOwogICAgfSk7CiAgICAvLyBXYWl0IGZvciB0aGUgZGF0YSB0byBiZSByZWFkeS4KICAgIGxldCBmaWxlRGF0YSA9IHlpZWxkIHsKICAgICAgcHJvbWlzZTogZmlsZURhdGFQcm9taXNlLAogICAgICByZXNwb25zZTogewogICAgICAgIGFjdGlvbjogJ2NvbnRpbnVlJywKICAgICAgfQogICAgfTsKCiAgICAvLyBVc2UgYSBjaHVua2VkIHNlbmRpbmcgdG8gYXZvaWQgbWVzc2FnZSBzaXplIGxpbWl0cy4gU2VlIGIvNjIxMTU2NjAuCiAgICBsZXQgcG9zaXRpb24gPSAwOwogICAgZG8gewogICAgICBjb25zdCBsZW5ndGggPSBNYXRoLm1pbihmaWxlRGF0YS5ieXRlTGVuZ3RoIC0gcG9zaXRpb24sIE1BWF9QQVlMT0FEX1NJWkUpOwogICAgICBjb25zdCBjaHVuayA9IG5ldyBVaW50OEFycmF5KGZpbGVEYXRhLCBwb3NpdGlvbiwgbGVuZ3RoKTsKICAgICAgcG9zaXRpb24gKz0gbGVuZ3RoOwoKICAgICAgY29uc3QgYmFzZTY0ID0gYnRvYShTdHJpbmcuZnJvbUNoYXJDb2RlLmFwcGx5KG51bGwsIGNodW5rKSk7CiAgICAgIHlpZWxkIHsKICAgICAgICByZXNwb25zZTogewogICAgICAgICAgYWN0aW9uOiAnYXBwZW5kJywKICAgICAgICAgIGZpbGU6IGZpbGUubmFtZSwKICAgICAgICAgIGRhdGE6IGJhc2U2NCwKICAgICAgICB9LAogICAgICB9OwoKICAgICAgbGV0IHBlcmNlbnREb25lID0gZmlsZURhdGEuYnl0ZUxlbmd0aCA9PT0gMCA/CiAgICAgICAgICAxMDAgOgogICAgICAgICAgTWF0aC5yb3VuZCgocG9zaXRpb24gLyBmaWxlRGF0YS5ieXRlTGVuZ3RoKSAqIDEwMCk7CiAgICAgIHBlcmNlbnQudGV4dENvbnRlbnQgPSBgJHtwZXJjZW50RG9uZX0lIGRvbmVgOwoKICAgIH0gd2hpbGUgKHBvc2l0aW9uIDwgZmlsZURhdGEuYnl0ZUxlbmd0aCk7CiAgfQoKICAvLyBBbGwgZG9uZS4KICB5aWVsZCB7CiAgICByZXNwb25zZTogewogICAgICBhY3Rpb246ICdjb21wbGV0ZScsCiAgICB9CiAgfTsKfQoKc2NvcGUuZ29vZ2xlID0gc2NvcGUuZ29vZ2xlIHx8IHt9OwpzY29wZS5nb29nbGUuY29sYWIgPSBzY29wZS5nb29nbGUuY29sYWIgfHwge307CnNjb3BlLmdvb2dsZS5jb2xhYi5fZmlsZXMgPSB7CiAgX3VwbG9hZEZpbGVzLAogIF91cGxvYWRGaWxlc0NvbnRpbnVlLAp9Owp9KShzZWxmKTsK",
              "ok": true,
              "headers": [
                [
                  "content-type",
                  "application/javascript"
                ]
              ],
              "status": 200,
              "status_text": ""
            }
          },
          "base_uri": "https://localhost:8080/",
          "height": 142
        },
        "outputId": "152b64ad-a426-4f86-ebf6-dcd9ecd5aa58"
      },
      "source": [
        "import numpy as np\n",
        "import matplotlib.pyplot as plt\n",
        "import pandas as pd\n",
        "import numpy as np\n",
        "import matplotlib.pyplot as plt\n",
        "import seaborn as sns\n",
        "import matplotlib\n",
        "%matplotlib inline\n",
        "from google.colab import files\n",
        "uploaded = files.upload()"
      ],
      "id": "26d6f9f5",
      "execution_count": 28,
      "outputs": [
        {
          "output_type": "display_data",
          "data": {
            "text/html": [
              "\n",
              "     <input type=\"file\" id=\"files-3926f5d1-34f2-4dca-845b-342e87a23102\" name=\"files[]\" multiple disabled\n",
              "        style=\"border:none\" />\n",
              "     <output id=\"result-3926f5d1-34f2-4dca-845b-342e87a23102\">\n",
              "      Upload widget is only available when the cell has been executed in the\n",
              "      current browser session. Please rerun this cell to enable.\n",
              "      </output>\n",
              "      <script src=\"/nbextensions/google.colab/files.js\"></script> "
            ],
            "text/plain": [
              "<IPython.core.display.HTML object>"
            ]
          },
          "metadata": {}
        },
        {
          "output_type": "stream",
          "name": "stdout",
          "text": [
            "Saving store.csv to store.csv\n",
            "Saving test.csv to test.csv\n",
            "Saving train.csv to train.csv\n"
          ]
        }
      ]
    },
    {
      "cell_type": "code",
      "metadata": {
        "execution": {
          "iopub.execute_input": "2021-11-17T08:57:12.336021Z",
          "iopub.status.busy": "2021-11-17T08:57:12.335261Z",
          "iopub.status.idle": "2021-11-17T08:57:13.487455Z",
          "shell.execute_reply": "2021-11-17T08:57:13.488015Z",
          "shell.execute_reply.started": "2021-11-17T08:24:50.749003Z"
        },
        "id": "2b12b50c",
        "papermill": {
          "duration": 1.216825,
          "end_time": "2021-11-17T08:57:13.488203",
          "exception": false,
          "start_time": "2021-11-17T08:57:12.271378",
          "status": "completed"
        },
        "tags": [],
        "colab": {
          "base_uri": "https://localhost:8080/"
        },
        "outputId": "162f3cdc-58e6-4186-ae1b-0aae5e741c58"
      },
      "source": [
        "import io\n",
        "ross_df = pd.read_csv(io.BytesIO(uploaded['train.csv']))\n",
        "store_df = pd.read_csv(io.BytesIO(uploaded['store.csv']))\n",
        "test_df = pd.read_csv(io.BytesIO(uploaded['test.csv']))\n"
      ],
      "id": "2b12b50c",
      "execution_count": 29,
      "outputs": [
        {
          "output_type": "stream",
          "name": "stderr",
          "text": [
            "/usr/local/lib/python3.7/dist-packages/IPython/core/interactiveshell.py:2718: DtypeWarning: Columns (7) have mixed types.Specify dtype option on import or set low_memory=False.\n",
            "  interactivity=interactivity, compiler=compiler, result=result)\n"
          ]
        }
      ]
    },
    {
      "cell_type": "code",
      "metadata": {
        "execution": {
          "iopub.execute_input": "2021-11-17T08:57:13.628571Z",
          "iopub.status.busy": "2021-11-17T08:57:13.627669Z",
          "iopub.status.idle": "2021-11-17T08:57:13.646780Z",
          "shell.execute_reply": "2021-11-17T08:57:13.646235Z",
          "shell.execute_reply.started": "2021-11-17T08:24:51.701469Z"
        },
        "id": "63b6ed13",
        "papermill": {
          "duration": 0.095355,
          "end_time": "2021-11-17T08:57:13.646968",
          "exception": false,
          "start_time": "2021-11-17T08:57:13.551613",
          "status": "completed"
        },
        "tags": [],
        "colab": {
          "base_uri": "https://localhost:8080/",
          "height": 424
        },
        "outputId": "96cf37f5-aba0-43a7-adf7-4ba9ff9f9b92"
      },
      "source": [
        "ross_df"
      ],
      "id": "63b6ed13",
      "execution_count": 30,
      "outputs": [
        {
          "output_type": "execute_result",
          "data": {
            "text/html": [
              "<div>\n",
              "<style scoped>\n",
              "    .dataframe tbody tr th:only-of-type {\n",
              "        vertical-align: middle;\n",
              "    }\n",
              "\n",
              "    .dataframe tbody tr th {\n",
              "        vertical-align: top;\n",
              "    }\n",
              "\n",
              "    .dataframe thead th {\n",
              "        text-align: right;\n",
              "    }\n",
              "</style>\n",
              "<table border=\"1\" class=\"dataframe\">\n",
              "  <thead>\n",
              "    <tr style=\"text-align: right;\">\n",
              "      <th></th>\n",
              "      <th>Store</th>\n",
              "      <th>DayOfWeek</th>\n",
              "      <th>Date</th>\n",
              "      <th>Sales</th>\n",
              "      <th>Customers</th>\n",
              "      <th>Open</th>\n",
              "      <th>Promo</th>\n",
              "      <th>StateHoliday</th>\n",
              "      <th>SchoolHoliday</th>\n",
              "    </tr>\n",
              "  </thead>\n",
              "  <tbody>\n",
              "    <tr>\n",
              "      <th>0</th>\n",
              "      <td>1</td>\n",
              "      <td>5</td>\n",
              "      <td>2015-07-31</td>\n",
              "      <td>5263</td>\n",
              "      <td>555</td>\n",
              "      <td>1</td>\n",
              "      <td>1</td>\n",
              "      <td>0</td>\n",
              "      <td>1</td>\n",
              "    </tr>\n",
              "    <tr>\n",
              "      <th>1</th>\n",
              "      <td>2</td>\n",
              "      <td>5</td>\n",
              "      <td>2015-07-31</td>\n",
              "      <td>6064</td>\n",
              "      <td>625</td>\n",
              "      <td>1</td>\n",
              "      <td>1</td>\n",
              "      <td>0</td>\n",
              "      <td>1</td>\n",
              "    </tr>\n",
              "    <tr>\n",
              "      <th>2</th>\n",
              "      <td>3</td>\n",
              "      <td>5</td>\n",
              "      <td>2015-07-31</td>\n",
              "      <td>8314</td>\n",
              "      <td>821</td>\n",
              "      <td>1</td>\n",
              "      <td>1</td>\n",
              "      <td>0</td>\n",
              "      <td>1</td>\n",
              "    </tr>\n",
              "    <tr>\n",
              "      <th>3</th>\n",
              "      <td>4</td>\n",
              "      <td>5</td>\n",
              "      <td>2015-07-31</td>\n",
              "      <td>13995</td>\n",
              "      <td>1498</td>\n",
              "      <td>1</td>\n",
              "      <td>1</td>\n",
              "      <td>0</td>\n",
              "      <td>1</td>\n",
              "    </tr>\n",
              "    <tr>\n",
              "      <th>4</th>\n",
              "      <td>5</td>\n",
              "      <td>5</td>\n",
              "      <td>2015-07-31</td>\n",
              "      <td>4822</td>\n",
              "      <td>559</td>\n",
              "      <td>1</td>\n",
              "      <td>1</td>\n",
              "      <td>0</td>\n",
              "      <td>1</td>\n",
              "    </tr>\n",
              "    <tr>\n",
              "      <th>...</th>\n",
              "      <td>...</td>\n",
              "      <td>...</td>\n",
              "      <td>...</td>\n",
              "      <td>...</td>\n",
              "      <td>...</td>\n",
              "      <td>...</td>\n",
              "      <td>...</td>\n",
              "      <td>...</td>\n",
              "      <td>...</td>\n",
              "    </tr>\n",
              "    <tr>\n",
              "      <th>1017204</th>\n",
              "      <td>1111</td>\n",
              "      <td>2</td>\n",
              "      <td>2013-01-01</td>\n",
              "      <td>0</td>\n",
              "      <td>0</td>\n",
              "      <td>0</td>\n",
              "      <td>0</td>\n",
              "      <td>a</td>\n",
              "      <td>1</td>\n",
              "    </tr>\n",
              "    <tr>\n",
              "      <th>1017205</th>\n",
              "      <td>1112</td>\n",
              "      <td>2</td>\n",
              "      <td>2013-01-01</td>\n",
              "      <td>0</td>\n",
              "      <td>0</td>\n",
              "      <td>0</td>\n",
              "      <td>0</td>\n",
              "      <td>a</td>\n",
              "      <td>1</td>\n",
              "    </tr>\n",
              "    <tr>\n",
              "      <th>1017206</th>\n",
              "      <td>1113</td>\n",
              "      <td>2</td>\n",
              "      <td>2013-01-01</td>\n",
              "      <td>0</td>\n",
              "      <td>0</td>\n",
              "      <td>0</td>\n",
              "      <td>0</td>\n",
              "      <td>a</td>\n",
              "      <td>1</td>\n",
              "    </tr>\n",
              "    <tr>\n",
              "      <th>1017207</th>\n",
              "      <td>1114</td>\n",
              "      <td>2</td>\n",
              "      <td>2013-01-01</td>\n",
              "      <td>0</td>\n",
              "      <td>0</td>\n",
              "      <td>0</td>\n",
              "      <td>0</td>\n",
              "      <td>a</td>\n",
              "      <td>1</td>\n",
              "    </tr>\n",
              "    <tr>\n",
              "      <th>1017208</th>\n",
              "      <td>1115</td>\n",
              "      <td>2</td>\n",
              "      <td>2013-01-01</td>\n",
              "      <td>0</td>\n",
              "      <td>0</td>\n",
              "      <td>0</td>\n",
              "      <td>0</td>\n",
              "      <td>a</td>\n",
              "      <td>1</td>\n",
              "    </tr>\n",
              "  </tbody>\n",
              "</table>\n",
              "<p>1017209 rows × 9 columns</p>\n",
              "</div>"
            ],
            "text/plain": [
              "         Store  DayOfWeek        Date  ...  Promo  StateHoliday  SchoolHoliday\n",
              "0            1          5  2015-07-31  ...      1             0              1\n",
              "1            2          5  2015-07-31  ...      1             0              1\n",
              "2            3          5  2015-07-31  ...      1             0              1\n",
              "3            4          5  2015-07-31  ...      1             0              1\n",
              "4            5          5  2015-07-31  ...      1             0              1\n",
              "...        ...        ...         ...  ...    ...           ...            ...\n",
              "1017204   1111          2  2013-01-01  ...      0             a              1\n",
              "1017205   1112          2  2013-01-01  ...      0             a              1\n",
              "1017206   1113          2  2013-01-01  ...      0             a              1\n",
              "1017207   1114          2  2013-01-01  ...      0             a              1\n",
              "1017208   1115          2  2013-01-01  ...      0             a              1\n",
              "\n",
              "[1017209 rows x 9 columns]"
            ]
          },
          "metadata": {},
          "execution_count": 30
        }
      ]
    },
    {
      "cell_type": "code",
      "metadata": {
        "execution": {
          "iopub.execute_input": "2021-11-17T08:57:13.795368Z",
          "iopub.status.busy": "2021-11-17T08:57:13.794358Z",
          "iopub.status.idle": "2021-11-17T08:57:13.798024Z",
          "shell.execute_reply": "2021-11-17T08:57:13.798488Z",
          "shell.execute_reply.started": "2021-11-17T08:24:51.730575Z"
        },
        "id": "7cefe828",
        "papermill": {
          "duration": 0.089562,
          "end_time": "2021-11-17T08:57:13.798662",
          "exception": false,
          "start_time": "2021-11-17T08:57:13.709100",
          "status": "completed"
        },
        "tags": [],
        "colab": {
          "base_uri": "https://localhost:8080/",
          "height": 444
        },
        "outputId": "f2373c6b-914b-4e33-d81f-87af3b036695"
      },
      "source": [
        "store_df"
      ],
      "id": "7cefe828",
      "execution_count": 31,
      "outputs": [
        {
          "output_type": "execute_result",
          "data": {
            "text/html": [
              "<div>\n",
              "<style scoped>\n",
              "    .dataframe tbody tr th:only-of-type {\n",
              "        vertical-align: middle;\n",
              "    }\n",
              "\n",
              "    .dataframe tbody tr th {\n",
              "        vertical-align: top;\n",
              "    }\n",
              "\n",
              "    .dataframe thead th {\n",
              "        text-align: right;\n",
              "    }\n",
              "</style>\n",
              "<table border=\"1\" class=\"dataframe\">\n",
              "  <thead>\n",
              "    <tr style=\"text-align: right;\">\n",
              "      <th></th>\n",
              "      <th>Store</th>\n",
              "      <th>StoreType</th>\n",
              "      <th>Assortment</th>\n",
              "      <th>CompetitionDistance</th>\n",
              "      <th>CompetitionOpenSinceMonth</th>\n",
              "      <th>CompetitionOpenSinceYear</th>\n",
              "      <th>Promo2</th>\n",
              "      <th>Promo2SinceWeek</th>\n",
              "      <th>Promo2SinceYear</th>\n",
              "      <th>PromoInterval</th>\n",
              "    </tr>\n",
              "  </thead>\n",
              "  <tbody>\n",
              "    <tr>\n",
              "      <th>0</th>\n",
              "      <td>1</td>\n",
              "      <td>c</td>\n",
              "      <td>a</td>\n",
              "      <td>1270.0</td>\n",
              "      <td>9.0</td>\n",
              "      <td>2008.0</td>\n",
              "      <td>0</td>\n",
              "      <td>NaN</td>\n",
              "      <td>NaN</td>\n",
              "      <td>NaN</td>\n",
              "    </tr>\n",
              "    <tr>\n",
              "      <th>1</th>\n",
              "      <td>2</td>\n",
              "      <td>a</td>\n",
              "      <td>a</td>\n",
              "      <td>570.0</td>\n",
              "      <td>11.0</td>\n",
              "      <td>2007.0</td>\n",
              "      <td>1</td>\n",
              "      <td>13.0</td>\n",
              "      <td>2010.0</td>\n",
              "      <td>Jan,Apr,Jul,Oct</td>\n",
              "    </tr>\n",
              "    <tr>\n",
              "      <th>2</th>\n",
              "      <td>3</td>\n",
              "      <td>a</td>\n",
              "      <td>a</td>\n",
              "      <td>14130.0</td>\n",
              "      <td>12.0</td>\n",
              "      <td>2006.0</td>\n",
              "      <td>1</td>\n",
              "      <td>14.0</td>\n",
              "      <td>2011.0</td>\n",
              "      <td>Jan,Apr,Jul,Oct</td>\n",
              "    </tr>\n",
              "    <tr>\n",
              "      <th>3</th>\n",
              "      <td>4</td>\n",
              "      <td>c</td>\n",
              "      <td>c</td>\n",
              "      <td>620.0</td>\n",
              "      <td>9.0</td>\n",
              "      <td>2009.0</td>\n",
              "      <td>0</td>\n",
              "      <td>NaN</td>\n",
              "      <td>NaN</td>\n",
              "      <td>NaN</td>\n",
              "    </tr>\n",
              "    <tr>\n",
              "      <th>4</th>\n",
              "      <td>5</td>\n",
              "      <td>a</td>\n",
              "      <td>a</td>\n",
              "      <td>29910.0</td>\n",
              "      <td>4.0</td>\n",
              "      <td>2015.0</td>\n",
              "      <td>0</td>\n",
              "      <td>NaN</td>\n",
              "      <td>NaN</td>\n",
              "      <td>NaN</td>\n",
              "    </tr>\n",
              "    <tr>\n",
              "      <th>...</th>\n",
              "      <td>...</td>\n",
              "      <td>...</td>\n",
              "      <td>...</td>\n",
              "      <td>...</td>\n",
              "      <td>...</td>\n",
              "      <td>...</td>\n",
              "      <td>...</td>\n",
              "      <td>...</td>\n",
              "      <td>...</td>\n",
              "      <td>...</td>\n",
              "    </tr>\n",
              "    <tr>\n",
              "      <th>1110</th>\n",
              "      <td>1111</td>\n",
              "      <td>a</td>\n",
              "      <td>a</td>\n",
              "      <td>1900.0</td>\n",
              "      <td>6.0</td>\n",
              "      <td>2014.0</td>\n",
              "      <td>1</td>\n",
              "      <td>31.0</td>\n",
              "      <td>2013.0</td>\n",
              "      <td>Jan,Apr,Jul,Oct</td>\n",
              "    </tr>\n",
              "    <tr>\n",
              "      <th>1111</th>\n",
              "      <td>1112</td>\n",
              "      <td>c</td>\n",
              "      <td>c</td>\n",
              "      <td>1880.0</td>\n",
              "      <td>4.0</td>\n",
              "      <td>2006.0</td>\n",
              "      <td>0</td>\n",
              "      <td>NaN</td>\n",
              "      <td>NaN</td>\n",
              "      <td>NaN</td>\n",
              "    </tr>\n",
              "    <tr>\n",
              "      <th>1112</th>\n",
              "      <td>1113</td>\n",
              "      <td>a</td>\n",
              "      <td>c</td>\n",
              "      <td>9260.0</td>\n",
              "      <td>NaN</td>\n",
              "      <td>NaN</td>\n",
              "      <td>0</td>\n",
              "      <td>NaN</td>\n",
              "      <td>NaN</td>\n",
              "      <td>NaN</td>\n",
              "    </tr>\n",
              "    <tr>\n",
              "      <th>1113</th>\n",
              "      <td>1114</td>\n",
              "      <td>a</td>\n",
              "      <td>c</td>\n",
              "      <td>870.0</td>\n",
              "      <td>NaN</td>\n",
              "      <td>NaN</td>\n",
              "      <td>0</td>\n",
              "      <td>NaN</td>\n",
              "      <td>NaN</td>\n",
              "      <td>NaN</td>\n",
              "    </tr>\n",
              "    <tr>\n",
              "      <th>1114</th>\n",
              "      <td>1115</td>\n",
              "      <td>d</td>\n",
              "      <td>c</td>\n",
              "      <td>5350.0</td>\n",
              "      <td>NaN</td>\n",
              "      <td>NaN</td>\n",
              "      <td>1</td>\n",
              "      <td>22.0</td>\n",
              "      <td>2012.0</td>\n",
              "      <td>Mar,Jun,Sept,Dec</td>\n",
              "    </tr>\n",
              "  </tbody>\n",
              "</table>\n",
              "<p>1115 rows × 10 columns</p>\n",
              "</div>"
            ],
            "text/plain": [
              "      Store StoreType  ... Promo2SinceYear     PromoInterval\n",
              "0         1         c  ...             NaN               NaN\n",
              "1         2         a  ...          2010.0   Jan,Apr,Jul,Oct\n",
              "2         3         a  ...          2011.0   Jan,Apr,Jul,Oct\n",
              "3         4         c  ...             NaN               NaN\n",
              "4         5         a  ...             NaN               NaN\n",
              "...     ...       ...  ...             ...               ...\n",
              "1110   1111         a  ...          2013.0   Jan,Apr,Jul,Oct\n",
              "1111   1112         c  ...             NaN               NaN\n",
              "1112   1113         a  ...             NaN               NaN\n",
              "1113   1114         a  ...             NaN               NaN\n",
              "1114   1115         d  ...          2012.0  Mar,Jun,Sept,Dec\n",
              "\n",
              "[1115 rows x 10 columns]"
            ]
          },
          "metadata": {},
          "execution_count": 31
        }
      ]
    },
    {
      "cell_type": "code",
      "metadata": {
        "execution": {
          "iopub.execute_input": "2021-11-17T08:57:13.926707Z",
          "iopub.status.busy": "2021-11-17T08:57:13.926035Z",
          "iopub.status.idle": "2021-11-17T08:57:13.940923Z",
          "shell.execute_reply": "2021-11-17T08:57:13.941440Z",
          "shell.execute_reply.started": "2021-11-17T08:24:51.755460Z"
        },
        "id": "34c57287",
        "papermill": {
          "duration": 0.080572,
          "end_time": "2021-11-17T08:57:13.941614",
          "exception": false,
          "start_time": "2021-11-17T08:57:13.861042",
          "status": "completed"
        },
        "tags": [],
        "colab": {
          "base_uri": "https://localhost:8080/",
          "height": 424
        },
        "outputId": "ef7886b6-de50-496d-c2e3-54794389edbe"
      },
      "source": [
        "test_df"
      ],
      "id": "34c57287",
      "execution_count": 32,
      "outputs": [
        {
          "output_type": "execute_result",
          "data": {
            "text/html": [
              "<div>\n",
              "<style scoped>\n",
              "    .dataframe tbody tr th:only-of-type {\n",
              "        vertical-align: middle;\n",
              "    }\n",
              "\n",
              "    .dataframe tbody tr th {\n",
              "        vertical-align: top;\n",
              "    }\n",
              "\n",
              "    .dataframe thead th {\n",
              "        text-align: right;\n",
              "    }\n",
              "</style>\n",
              "<table border=\"1\" class=\"dataframe\">\n",
              "  <thead>\n",
              "    <tr style=\"text-align: right;\">\n",
              "      <th></th>\n",
              "      <th>Id</th>\n",
              "      <th>Store</th>\n",
              "      <th>DayOfWeek</th>\n",
              "      <th>Date</th>\n",
              "      <th>Open</th>\n",
              "      <th>Promo</th>\n",
              "      <th>StateHoliday</th>\n",
              "      <th>SchoolHoliday</th>\n",
              "    </tr>\n",
              "  </thead>\n",
              "  <tbody>\n",
              "    <tr>\n",
              "      <th>0</th>\n",
              "      <td>1</td>\n",
              "      <td>1</td>\n",
              "      <td>4</td>\n",
              "      <td>2015-09-17</td>\n",
              "      <td>1.0</td>\n",
              "      <td>1</td>\n",
              "      <td>0</td>\n",
              "      <td>0</td>\n",
              "    </tr>\n",
              "    <tr>\n",
              "      <th>1</th>\n",
              "      <td>2</td>\n",
              "      <td>3</td>\n",
              "      <td>4</td>\n",
              "      <td>2015-09-17</td>\n",
              "      <td>1.0</td>\n",
              "      <td>1</td>\n",
              "      <td>0</td>\n",
              "      <td>0</td>\n",
              "    </tr>\n",
              "    <tr>\n",
              "      <th>2</th>\n",
              "      <td>3</td>\n",
              "      <td>7</td>\n",
              "      <td>4</td>\n",
              "      <td>2015-09-17</td>\n",
              "      <td>1.0</td>\n",
              "      <td>1</td>\n",
              "      <td>0</td>\n",
              "      <td>0</td>\n",
              "    </tr>\n",
              "    <tr>\n",
              "      <th>3</th>\n",
              "      <td>4</td>\n",
              "      <td>8</td>\n",
              "      <td>4</td>\n",
              "      <td>2015-09-17</td>\n",
              "      <td>1.0</td>\n",
              "      <td>1</td>\n",
              "      <td>0</td>\n",
              "      <td>0</td>\n",
              "    </tr>\n",
              "    <tr>\n",
              "      <th>4</th>\n",
              "      <td>5</td>\n",
              "      <td>9</td>\n",
              "      <td>4</td>\n",
              "      <td>2015-09-17</td>\n",
              "      <td>1.0</td>\n",
              "      <td>1</td>\n",
              "      <td>0</td>\n",
              "      <td>0</td>\n",
              "    </tr>\n",
              "    <tr>\n",
              "      <th>...</th>\n",
              "      <td>...</td>\n",
              "      <td>...</td>\n",
              "      <td>...</td>\n",
              "      <td>...</td>\n",
              "      <td>...</td>\n",
              "      <td>...</td>\n",
              "      <td>...</td>\n",
              "      <td>...</td>\n",
              "    </tr>\n",
              "    <tr>\n",
              "      <th>41083</th>\n",
              "      <td>41084</td>\n",
              "      <td>1111</td>\n",
              "      <td>6</td>\n",
              "      <td>2015-08-01</td>\n",
              "      <td>1.0</td>\n",
              "      <td>0</td>\n",
              "      <td>0</td>\n",
              "      <td>0</td>\n",
              "    </tr>\n",
              "    <tr>\n",
              "      <th>41084</th>\n",
              "      <td>41085</td>\n",
              "      <td>1112</td>\n",
              "      <td>6</td>\n",
              "      <td>2015-08-01</td>\n",
              "      <td>1.0</td>\n",
              "      <td>0</td>\n",
              "      <td>0</td>\n",
              "      <td>0</td>\n",
              "    </tr>\n",
              "    <tr>\n",
              "      <th>41085</th>\n",
              "      <td>41086</td>\n",
              "      <td>1113</td>\n",
              "      <td>6</td>\n",
              "      <td>2015-08-01</td>\n",
              "      <td>1.0</td>\n",
              "      <td>0</td>\n",
              "      <td>0</td>\n",
              "      <td>0</td>\n",
              "    </tr>\n",
              "    <tr>\n",
              "      <th>41086</th>\n",
              "      <td>41087</td>\n",
              "      <td>1114</td>\n",
              "      <td>6</td>\n",
              "      <td>2015-08-01</td>\n",
              "      <td>1.0</td>\n",
              "      <td>0</td>\n",
              "      <td>0</td>\n",
              "      <td>0</td>\n",
              "    </tr>\n",
              "    <tr>\n",
              "      <th>41087</th>\n",
              "      <td>41088</td>\n",
              "      <td>1115</td>\n",
              "      <td>6</td>\n",
              "      <td>2015-08-01</td>\n",
              "      <td>1.0</td>\n",
              "      <td>0</td>\n",
              "      <td>0</td>\n",
              "      <td>1</td>\n",
              "    </tr>\n",
              "  </tbody>\n",
              "</table>\n",
              "<p>41088 rows × 8 columns</p>\n",
              "</div>"
            ],
            "text/plain": [
              "          Id  Store  DayOfWeek  ... Promo  StateHoliday  SchoolHoliday\n",
              "0          1      1          4  ...     1             0              0\n",
              "1          2      3          4  ...     1             0              0\n",
              "2          3      7          4  ...     1             0              0\n",
              "3          4      8          4  ...     1             0              0\n",
              "4          5      9          4  ...     1             0              0\n",
              "...      ...    ...        ...  ...   ...           ...            ...\n",
              "41083  41084   1111          6  ...     0             0              0\n",
              "41084  41085   1112          6  ...     0             0              0\n",
              "41085  41086   1113          6  ...     0             0              0\n",
              "41086  41087   1114          6  ...     0             0              0\n",
              "41087  41088   1115          6  ...     0             0              1\n",
              "\n",
              "[41088 rows x 8 columns]"
            ]
          },
          "metadata": {},
          "execution_count": 32
        }
      ]
    },
    {
      "cell_type": "markdown",
      "metadata": {
        "id": "de208383",
        "papermill": {
          "duration": 0.062535,
          "end_time": "2021-11-17T08:57:14.206065",
          "exception": false,
          "start_time": "2021-11-17T08:57:14.143530",
          "status": "completed"
        },
        "tags": []
      },
      "source": [
        "Merge the information from `store_df` into `train_df` and `test_df`."
      ],
      "id": "de208383"
    },
    {
      "cell_type": "code",
      "metadata": {
        "execution": {
          "iopub.execute_input": "2021-11-17T08:57:14.333465Z",
          "iopub.status.busy": "2021-11-17T08:57:14.332787Z",
          "iopub.status.idle": "2021-11-17T08:57:14.793046Z",
          "shell.execute_reply": "2021-11-17T08:57:14.792454Z",
          "shell.execute_reply.started": "2021-11-17T08:24:51.798545Z"
        },
        "id": "6f934bb1",
        "papermill": {
          "duration": 0.525632,
          "end_time": "2021-11-17T08:57:14.793202",
          "exception": false,
          "start_time": "2021-11-17T08:57:14.267570",
          "status": "completed"
        },
        "tags": []
      },
      "source": [
        "merged_df = ross_df.merge(store_df, how='left', on='Store')\n",
        "merged_test_df = test_df.merge(store_df, how='left', on='Store')"
      ],
      "id": "6f934bb1",
      "execution_count": 33,
      "outputs": []
    },
    {
      "cell_type": "code",
      "metadata": {
        "execution": {
          "iopub.execute_input": "2021-11-17T08:57:14.926868Z",
          "iopub.status.busy": "2021-11-17T08:57:14.926074Z",
          "iopub.status.idle": "2021-11-17T08:57:14.947304Z",
          "shell.execute_reply": "2021-11-17T08:57:14.947817Z",
          "shell.execute_reply.started": "2021-11-17T08:24:52.220370Z"
        },
        "id": "3bccca64",
        "papermill": {
          "duration": 0.0905,
          "end_time": "2021-11-17T08:57:14.948015",
          "exception": false,
          "start_time": "2021-11-17T08:57:14.857515",
          "status": "completed"
        },
        "tags": [],
        "colab": {
          "base_uri": "https://localhost:8080/",
          "height": 617
        },
        "outputId": "ad5382a8-ca69-4f9f-8e64-9b72855da82f"
      },
      "source": [
        "merged_df"
      ],
      "id": "3bccca64",
      "execution_count": 34,
      "outputs": [
        {
          "output_type": "execute_result",
          "data": {
            "text/html": [
              "<div>\n",
              "<style scoped>\n",
              "    .dataframe tbody tr th:only-of-type {\n",
              "        vertical-align: middle;\n",
              "    }\n",
              "\n",
              "    .dataframe tbody tr th {\n",
              "        vertical-align: top;\n",
              "    }\n",
              "\n",
              "    .dataframe thead th {\n",
              "        text-align: right;\n",
              "    }\n",
              "</style>\n",
              "<table border=\"1\" class=\"dataframe\">\n",
              "  <thead>\n",
              "    <tr style=\"text-align: right;\">\n",
              "      <th></th>\n",
              "      <th>Store</th>\n",
              "      <th>DayOfWeek</th>\n",
              "      <th>Date</th>\n",
              "      <th>Sales</th>\n",
              "      <th>Customers</th>\n",
              "      <th>Open</th>\n",
              "      <th>Promo</th>\n",
              "      <th>StateHoliday</th>\n",
              "      <th>SchoolHoliday</th>\n",
              "      <th>StoreType</th>\n",
              "      <th>Assortment</th>\n",
              "      <th>CompetitionDistance</th>\n",
              "      <th>CompetitionOpenSinceMonth</th>\n",
              "      <th>CompetitionOpenSinceYear</th>\n",
              "      <th>Promo2</th>\n",
              "      <th>Promo2SinceWeek</th>\n",
              "      <th>Promo2SinceYear</th>\n",
              "      <th>PromoInterval</th>\n",
              "    </tr>\n",
              "  </thead>\n",
              "  <tbody>\n",
              "    <tr>\n",
              "      <th>0</th>\n",
              "      <td>1</td>\n",
              "      <td>5</td>\n",
              "      <td>2015-07-31</td>\n",
              "      <td>5263</td>\n",
              "      <td>555</td>\n",
              "      <td>1</td>\n",
              "      <td>1</td>\n",
              "      <td>0</td>\n",
              "      <td>1</td>\n",
              "      <td>c</td>\n",
              "      <td>a</td>\n",
              "      <td>1270.0</td>\n",
              "      <td>9.0</td>\n",
              "      <td>2008.0</td>\n",
              "      <td>0</td>\n",
              "      <td>NaN</td>\n",
              "      <td>NaN</td>\n",
              "      <td>NaN</td>\n",
              "    </tr>\n",
              "    <tr>\n",
              "      <th>1</th>\n",
              "      <td>2</td>\n",
              "      <td>5</td>\n",
              "      <td>2015-07-31</td>\n",
              "      <td>6064</td>\n",
              "      <td>625</td>\n",
              "      <td>1</td>\n",
              "      <td>1</td>\n",
              "      <td>0</td>\n",
              "      <td>1</td>\n",
              "      <td>a</td>\n",
              "      <td>a</td>\n",
              "      <td>570.0</td>\n",
              "      <td>11.0</td>\n",
              "      <td>2007.0</td>\n",
              "      <td>1</td>\n",
              "      <td>13.0</td>\n",
              "      <td>2010.0</td>\n",
              "      <td>Jan,Apr,Jul,Oct</td>\n",
              "    </tr>\n",
              "    <tr>\n",
              "      <th>2</th>\n",
              "      <td>3</td>\n",
              "      <td>5</td>\n",
              "      <td>2015-07-31</td>\n",
              "      <td>8314</td>\n",
              "      <td>821</td>\n",
              "      <td>1</td>\n",
              "      <td>1</td>\n",
              "      <td>0</td>\n",
              "      <td>1</td>\n",
              "      <td>a</td>\n",
              "      <td>a</td>\n",
              "      <td>14130.0</td>\n",
              "      <td>12.0</td>\n",
              "      <td>2006.0</td>\n",
              "      <td>1</td>\n",
              "      <td>14.0</td>\n",
              "      <td>2011.0</td>\n",
              "      <td>Jan,Apr,Jul,Oct</td>\n",
              "    </tr>\n",
              "    <tr>\n",
              "      <th>3</th>\n",
              "      <td>4</td>\n",
              "      <td>5</td>\n",
              "      <td>2015-07-31</td>\n",
              "      <td>13995</td>\n",
              "      <td>1498</td>\n",
              "      <td>1</td>\n",
              "      <td>1</td>\n",
              "      <td>0</td>\n",
              "      <td>1</td>\n",
              "      <td>c</td>\n",
              "      <td>c</td>\n",
              "      <td>620.0</td>\n",
              "      <td>9.0</td>\n",
              "      <td>2009.0</td>\n",
              "      <td>0</td>\n",
              "      <td>NaN</td>\n",
              "      <td>NaN</td>\n",
              "      <td>NaN</td>\n",
              "    </tr>\n",
              "    <tr>\n",
              "      <th>4</th>\n",
              "      <td>5</td>\n",
              "      <td>5</td>\n",
              "      <td>2015-07-31</td>\n",
              "      <td>4822</td>\n",
              "      <td>559</td>\n",
              "      <td>1</td>\n",
              "      <td>1</td>\n",
              "      <td>0</td>\n",
              "      <td>1</td>\n",
              "      <td>a</td>\n",
              "      <td>a</td>\n",
              "      <td>29910.0</td>\n",
              "      <td>4.0</td>\n",
              "      <td>2015.0</td>\n",
              "      <td>0</td>\n",
              "      <td>NaN</td>\n",
              "      <td>NaN</td>\n",
              "      <td>NaN</td>\n",
              "    </tr>\n",
              "    <tr>\n",
              "      <th>...</th>\n",
              "      <td>...</td>\n",
              "      <td>...</td>\n",
              "      <td>...</td>\n",
              "      <td>...</td>\n",
              "      <td>...</td>\n",
              "      <td>...</td>\n",
              "      <td>...</td>\n",
              "      <td>...</td>\n",
              "      <td>...</td>\n",
              "      <td>...</td>\n",
              "      <td>...</td>\n",
              "      <td>...</td>\n",
              "      <td>...</td>\n",
              "      <td>...</td>\n",
              "      <td>...</td>\n",
              "      <td>...</td>\n",
              "      <td>...</td>\n",
              "      <td>...</td>\n",
              "    </tr>\n",
              "    <tr>\n",
              "      <th>1017204</th>\n",
              "      <td>1111</td>\n",
              "      <td>2</td>\n",
              "      <td>2013-01-01</td>\n",
              "      <td>0</td>\n",
              "      <td>0</td>\n",
              "      <td>0</td>\n",
              "      <td>0</td>\n",
              "      <td>a</td>\n",
              "      <td>1</td>\n",
              "      <td>a</td>\n",
              "      <td>a</td>\n",
              "      <td>1900.0</td>\n",
              "      <td>6.0</td>\n",
              "      <td>2014.0</td>\n",
              "      <td>1</td>\n",
              "      <td>31.0</td>\n",
              "      <td>2013.0</td>\n",
              "      <td>Jan,Apr,Jul,Oct</td>\n",
              "    </tr>\n",
              "    <tr>\n",
              "      <th>1017205</th>\n",
              "      <td>1112</td>\n",
              "      <td>2</td>\n",
              "      <td>2013-01-01</td>\n",
              "      <td>0</td>\n",
              "      <td>0</td>\n",
              "      <td>0</td>\n",
              "      <td>0</td>\n",
              "      <td>a</td>\n",
              "      <td>1</td>\n",
              "      <td>c</td>\n",
              "      <td>c</td>\n",
              "      <td>1880.0</td>\n",
              "      <td>4.0</td>\n",
              "      <td>2006.0</td>\n",
              "      <td>0</td>\n",
              "      <td>NaN</td>\n",
              "      <td>NaN</td>\n",
              "      <td>NaN</td>\n",
              "    </tr>\n",
              "    <tr>\n",
              "      <th>1017206</th>\n",
              "      <td>1113</td>\n",
              "      <td>2</td>\n",
              "      <td>2013-01-01</td>\n",
              "      <td>0</td>\n",
              "      <td>0</td>\n",
              "      <td>0</td>\n",
              "      <td>0</td>\n",
              "      <td>a</td>\n",
              "      <td>1</td>\n",
              "      <td>a</td>\n",
              "      <td>c</td>\n",
              "      <td>9260.0</td>\n",
              "      <td>NaN</td>\n",
              "      <td>NaN</td>\n",
              "      <td>0</td>\n",
              "      <td>NaN</td>\n",
              "      <td>NaN</td>\n",
              "      <td>NaN</td>\n",
              "    </tr>\n",
              "    <tr>\n",
              "      <th>1017207</th>\n",
              "      <td>1114</td>\n",
              "      <td>2</td>\n",
              "      <td>2013-01-01</td>\n",
              "      <td>0</td>\n",
              "      <td>0</td>\n",
              "      <td>0</td>\n",
              "      <td>0</td>\n",
              "      <td>a</td>\n",
              "      <td>1</td>\n",
              "      <td>a</td>\n",
              "      <td>c</td>\n",
              "      <td>870.0</td>\n",
              "      <td>NaN</td>\n",
              "      <td>NaN</td>\n",
              "      <td>0</td>\n",
              "      <td>NaN</td>\n",
              "      <td>NaN</td>\n",
              "      <td>NaN</td>\n",
              "    </tr>\n",
              "    <tr>\n",
              "      <th>1017208</th>\n",
              "      <td>1115</td>\n",
              "      <td>2</td>\n",
              "      <td>2013-01-01</td>\n",
              "      <td>0</td>\n",
              "      <td>0</td>\n",
              "      <td>0</td>\n",
              "      <td>0</td>\n",
              "      <td>a</td>\n",
              "      <td>1</td>\n",
              "      <td>d</td>\n",
              "      <td>c</td>\n",
              "      <td>5350.0</td>\n",
              "      <td>NaN</td>\n",
              "      <td>NaN</td>\n",
              "      <td>1</td>\n",
              "      <td>22.0</td>\n",
              "      <td>2012.0</td>\n",
              "      <td>Mar,Jun,Sept,Dec</td>\n",
              "    </tr>\n",
              "  </tbody>\n",
              "</table>\n",
              "<p>1017209 rows × 18 columns</p>\n",
              "</div>"
            ],
            "text/plain": [
              "         Store  DayOfWeek  ... Promo2SinceYear     PromoInterval\n",
              "0            1          5  ...             NaN               NaN\n",
              "1            2          5  ...          2010.0   Jan,Apr,Jul,Oct\n",
              "2            3          5  ...          2011.0   Jan,Apr,Jul,Oct\n",
              "3            4          5  ...             NaN               NaN\n",
              "4            5          5  ...             NaN               NaN\n",
              "...        ...        ...  ...             ...               ...\n",
              "1017204   1111          2  ...          2013.0   Jan,Apr,Jul,Oct\n",
              "1017205   1112          2  ...             NaN               NaN\n",
              "1017206   1113          2  ...             NaN               NaN\n",
              "1017207   1114          2  ...             NaN               NaN\n",
              "1017208   1115          2  ...          2012.0  Mar,Jun,Sept,Dec\n",
              "\n",
              "[1017209 rows x 18 columns]"
            ]
          },
          "metadata": {},
          "execution_count": 34
        }
      ]
    },
    {
      "cell_type": "markdown",
      "metadata": {
        "id": "198219a4",
        "papermill": {
          "duration": 0.062584,
          "end_time": "2021-11-17T08:57:15.074975",
          "exception": false,
          "start_time": "2021-11-17T08:57:15.012391",
          "status": "completed"
        },
        "tags": []
      },
      "source": [
        "### Data Preprocessing and Feature Engineering"
      ],
      "id": "198219a4"
    },
    {
      "cell_type": "code",
      "metadata": {
        "execution": {
          "iopub.execute_input": "2021-11-17T08:57:15.206661Z",
          "iopub.status.busy": "2021-11-17T08:57:15.205933Z",
          "iopub.status.idle": "2021-11-17T08:57:15.484856Z",
          "shell.execute_reply": "2021-11-17T08:57:15.484270Z",
          "shell.execute_reply.started": "2021-11-17T08:24:52.256243Z"
        },
        "id": "3dc06624",
        "papermill": {
          "duration": 0.34541,
          "end_time": "2021-11-17T08:57:15.485029",
          "exception": false,
          "start_time": "2021-11-17T08:57:15.139619",
          "status": "completed"
        },
        "tags": [],
        "colab": {
          "base_uri": "https://localhost:8080/"
        },
        "outputId": "7bd74d88-7748-40d9-cefd-cc74fd3e0966"
      },
      "source": [
        "merged_df.info()"
      ],
      "id": "3dc06624",
      "execution_count": 35,
      "outputs": [
        {
          "output_type": "stream",
          "name": "stdout",
          "text": [
            "<class 'pandas.core.frame.DataFrame'>\n",
            "Int64Index: 1017209 entries, 0 to 1017208\n",
            "Data columns (total 18 columns):\n",
            " #   Column                     Non-Null Count    Dtype  \n",
            "---  ------                     --------------    -----  \n",
            " 0   Store                      1017209 non-null  int64  \n",
            " 1   DayOfWeek                  1017209 non-null  int64  \n",
            " 2   Date                       1017209 non-null  object \n",
            " 3   Sales                      1017209 non-null  int64  \n",
            " 4   Customers                  1017209 non-null  int64  \n",
            " 5   Open                       1017209 non-null  int64  \n",
            " 6   Promo                      1017209 non-null  int64  \n",
            " 7   StateHoliday               1017209 non-null  object \n",
            " 8   SchoolHoliday              1017209 non-null  int64  \n",
            " 9   StoreType                  1017209 non-null  object \n",
            " 10  Assortment                 1017209 non-null  object \n",
            " 11  CompetitionDistance        1014567 non-null  float64\n",
            " 12  CompetitionOpenSinceMonth  693861 non-null   float64\n",
            " 13  CompetitionOpenSinceYear   693861 non-null   float64\n",
            " 14  Promo2                     1017209 non-null  int64  \n",
            " 15  Promo2SinceWeek            509178 non-null   float64\n",
            " 16  Promo2SinceYear            509178 non-null   float64\n",
            " 17  PromoInterval              509178 non-null   object \n",
            "dtypes: float64(5), int64(8), object(5)\n",
            "memory usage: 147.5+ MB\n"
          ]
        }
      ]
    },
    {
      "cell_type": "code",
      "metadata": {
        "execution": {
          "iopub.execute_input": "2021-11-17T08:57:15.619561Z",
          "iopub.status.busy": "2021-11-17T08:57:15.618867Z",
          "iopub.status.idle": "2021-11-17T08:57:15.623966Z",
          "shell.execute_reply": "2021-11-17T08:57:15.624475Z",
          "shell.execute_reply.started": "2021-11-17T08:24:52.828798Z"
        },
        "id": "5e60a176",
        "papermill": {
          "duration": 0.074499,
          "end_time": "2021-11-17T08:57:15.624667",
          "exception": false,
          "start_time": "2021-11-17T08:57:15.550168",
          "status": "completed"
        },
        "tags": []
      },
      "source": [
        "def split_date(df):\n",
        "  df['Date'] = pd.to_datetime(df['Date'])\n",
        "  df['Year'] = df.Date.dt.year\n",
        "  df['Month'] = df.Date.dt.month\n",
        "  df['Day'] = df.Date.dt.day\n",
        "  df['WeekOfYear'] = df.Date.dt.isocalendar().week"
      ],
      "id": "5e60a176",
      "execution_count": 36,
      "outputs": []
    },
    {
      "cell_type": "code",
      "metadata": {
        "execution": {
          "iopub.execute_input": "2021-11-17T08:57:15.759110Z",
          "iopub.status.busy": "2021-11-17T08:57:15.758505Z",
          "iopub.status.idle": "2021-11-17T08:57:16.538029Z",
          "shell.execute_reply": "2021-11-17T08:57:16.537448Z",
          "shell.execute_reply.started": "2021-11-17T08:24:52.835731Z"
        },
        "id": "9b407ab9",
        "papermill": {
          "duration": 0.84791,
          "end_time": "2021-11-17T08:57:16.538177",
          "exception": false,
          "start_time": "2021-11-17T08:57:15.690267",
          "status": "completed"
        },
        "tags": []
      },
      "source": [
        "split_date(merged_df)\n",
        "split_date(merged_test_df)"
      ],
      "id": "9b407ab9",
      "execution_count": 37,
      "outputs": []
    },
    {
      "cell_type": "code",
      "metadata": {
        "execution": {
          "iopub.execute_input": "2021-11-17T08:57:16.673121Z",
          "iopub.status.busy": "2021-11-17T08:57:16.672471Z",
          "iopub.status.idle": "2021-11-17T08:57:16.697181Z",
          "shell.execute_reply": "2021-11-17T08:57:16.697648Z",
          "shell.execute_reply.started": "2021-11-17T08:24:53.788769Z"
        },
        "id": "526479ef",
        "papermill": {
          "duration": 0.094983,
          "end_time": "2021-11-17T08:57:16.697846",
          "exception": false,
          "start_time": "2021-11-17T08:57:16.602863",
          "status": "completed"
        },
        "tags": [],
        "colab": {
          "base_uri": "https://localhost:8080/",
          "height": 617
        },
        "outputId": "adf701cf-79c4-4781-9e14-879df0d0a84b"
      },
      "source": [
        "merged_df"
      ],
      "id": "526479ef",
      "execution_count": 38,
      "outputs": [
        {
          "output_type": "execute_result",
          "data": {
            "text/html": [
              "<div>\n",
              "<style scoped>\n",
              "    .dataframe tbody tr th:only-of-type {\n",
              "        vertical-align: middle;\n",
              "    }\n",
              "\n",
              "    .dataframe tbody tr th {\n",
              "        vertical-align: top;\n",
              "    }\n",
              "\n",
              "    .dataframe thead th {\n",
              "        text-align: right;\n",
              "    }\n",
              "</style>\n",
              "<table border=\"1\" class=\"dataframe\">\n",
              "  <thead>\n",
              "    <tr style=\"text-align: right;\">\n",
              "      <th></th>\n",
              "      <th>Store</th>\n",
              "      <th>DayOfWeek</th>\n",
              "      <th>Date</th>\n",
              "      <th>Sales</th>\n",
              "      <th>Customers</th>\n",
              "      <th>Open</th>\n",
              "      <th>Promo</th>\n",
              "      <th>StateHoliday</th>\n",
              "      <th>SchoolHoliday</th>\n",
              "      <th>StoreType</th>\n",
              "      <th>Assortment</th>\n",
              "      <th>CompetitionDistance</th>\n",
              "      <th>CompetitionOpenSinceMonth</th>\n",
              "      <th>CompetitionOpenSinceYear</th>\n",
              "      <th>Promo2</th>\n",
              "      <th>Promo2SinceWeek</th>\n",
              "      <th>Promo2SinceYear</th>\n",
              "      <th>PromoInterval</th>\n",
              "      <th>Year</th>\n",
              "      <th>Month</th>\n",
              "      <th>Day</th>\n",
              "      <th>WeekOfYear</th>\n",
              "    </tr>\n",
              "  </thead>\n",
              "  <tbody>\n",
              "    <tr>\n",
              "      <th>0</th>\n",
              "      <td>1</td>\n",
              "      <td>5</td>\n",
              "      <td>2015-07-31</td>\n",
              "      <td>5263</td>\n",
              "      <td>555</td>\n",
              "      <td>1</td>\n",
              "      <td>1</td>\n",
              "      <td>0</td>\n",
              "      <td>1</td>\n",
              "      <td>c</td>\n",
              "      <td>a</td>\n",
              "      <td>1270.0</td>\n",
              "      <td>9.0</td>\n",
              "      <td>2008.0</td>\n",
              "      <td>0</td>\n",
              "      <td>NaN</td>\n",
              "      <td>NaN</td>\n",
              "      <td>NaN</td>\n",
              "      <td>2015</td>\n",
              "      <td>7</td>\n",
              "      <td>31</td>\n",
              "      <td>31</td>\n",
              "    </tr>\n",
              "    <tr>\n",
              "      <th>1</th>\n",
              "      <td>2</td>\n",
              "      <td>5</td>\n",
              "      <td>2015-07-31</td>\n",
              "      <td>6064</td>\n",
              "      <td>625</td>\n",
              "      <td>1</td>\n",
              "      <td>1</td>\n",
              "      <td>0</td>\n",
              "      <td>1</td>\n",
              "      <td>a</td>\n",
              "      <td>a</td>\n",
              "      <td>570.0</td>\n",
              "      <td>11.0</td>\n",
              "      <td>2007.0</td>\n",
              "      <td>1</td>\n",
              "      <td>13.0</td>\n",
              "      <td>2010.0</td>\n",
              "      <td>Jan,Apr,Jul,Oct</td>\n",
              "      <td>2015</td>\n",
              "      <td>7</td>\n",
              "      <td>31</td>\n",
              "      <td>31</td>\n",
              "    </tr>\n",
              "    <tr>\n",
              "      <th>2</th>\n",
              "      <td>3</td>\n",
              "      <td>5</td>\n",
              "      <td>2015-07-31</td>\n",
              "      <td>8314</td>\n",
              "      <td>821</td>\n",
              "      <td>1</td>\n",
              "      <td>1</td>\n",
              "      <td>0</td>\n",
              "      <td>1</td>\n",
              "      <td>a</td>\n",
              "      <td>a</td>\n",
              "      <td>14130.0</td>\n",
              "      <td>12.0</td>\n",
              "      <td>2006.0</td>\n",
              "      <td>1</td>\n",
              "      <td>14.0</td>\n",
              "      <td>2011.0</td>\n",
              "      <td>Jan,Apr,Jul,Oct</td>\n",
              "      <td>2015</td>\n",
              "      <td>7</td>\n",
              "      <td>31</td>\n",
              "      <td>31</td>\n",
              "    </tr>\n",
              "    <tr>\n",
              "      <th>3</th>\n",
              "      <td>4</td>\n",
              "      <td>5</td>\n",
              "      <td>2015-07-31</td>\n",
              "      <td>13995</td>\n",
              "      <td>1498</td>\n",
              "      <td>1</td>\n",
              "      <td>1</td>\n",
              "      <td>0</td>\n",
              "      <td>1</td>\n",
              "      <td>c</td>\n",
              "      <td>c</td>\n",
              "      <td>620.0</td>\n",
              "      <td>9.0</td>\n",
              "      <td>2009.0</td>\n",
              "      <td>0</td>\n",
              "      <td>NaN</td>\n",
              "      <td>NaN</td>\n",
              "      <td>NaN</td>\n",
              "      <td>2015</td>\n",
              "      <td>7</td>\n",
              "      <td>31</td>\n",
              "      <td>31</td>\n",
              "    </tr>\n",
              "    <tr>\n",
              "      <th>4</th>\n",
              "      <td>5</td>\n",
              "      <td>5</td>\n",
              "      <td>2015-07-31</td>\n",
              "      <td>4822</td>\n",
              "      <td>559</td>\n",
              "      <td>1</td>\n",
              "      <td>1</td>\n",
              "      <td>0</td>\n",
              "      <td>1</td>\n",
              "      <td>a</td>\n",
              "      <td>a</td>\n",
              "      <td>29910.0</td>\n",
              "      <td>4.0</td>\n",
              "      <td>2015.0</td>\n",
              "      <td>0</td>\n",
              "      <td>NaN</td>\n",
              "      <td>NaN</td>\n",
              "      <td>NaN</td>\n",
              "      <td>2015</td>\n",
              "      <td>7</td>\n",
              "      <td>31</td>\n",
              "      <td>31</td>\n",
              "    </tr>\n",
              "    <tr>\n",
              "      <th>...</th>\n",
              "      <td>...</td>\n",
              "      <td>...</td>\n",
              "      <td>...</td>\n",
              "      <td>...</td>\n",
              "      <td>...</td>\n",
              "      <td>...</td>\n",
              "      <td>...</td>\n",
              "      <td>...</td>\n",
              "      <td>...</td>\n",
              "      <td>...</td>\n",
              "      <td>...</td>\n",
              "      <td>...</td>\n",
              "      <td>...</td>\n",
              "      <td>...</td>\n",
              "      <td>...</td>\n",
              "      <td>...</td>\n",
              "      <td>...</td>\n",
              "      <td>...</td>\n",
              "      <td>...</td>\n",
              "      <td>...</td>\n",
              "      <td>...</td>\n",
              "      <td>...</td>\n",
              "    </tr>\n",
              "    <tr>\n",
              "      <th>1017204</th>\n",
              "      <td>1111</td>\n",
              "      <td>2</td>\n",
              "      <td>2013-01-01</td>\n",
              "      <td>0</td>\n",
              "      <td>0</td>\n",
              "      <td>0</td>\n",
              "      <td>0</td>\n",
              "      <td>a</td>\n",
              "      <td>1</td>\n",
              "      <td>a</td>\n",
              "      <td>a</td>\n",
              "      <td>1900.0</td>\n",
              "      <td>6.0</td>\n",
              "      <td>2014.0</td>\n",
              "      <td>1</td>\n",
              "      <td>31.0</td>\n",
              "      <td>2013.0</td>\n",
              "      <td>Jan,Apr,Jul,Oct</td>\n",
              "      <td>2013</td>\n",
              "      <td>1</td>\n",
              "      <td>1</td>\n",
              "      <td>1</td>\n",
              "    </tr>\n",
              "    <tr>\n",
              "      <th>1017205</th>\n",
              "      <td>1112</td>\n",
              "      <td>2</td>\n",
              "      <td>2013-01-01</td>\n",
              "      <td>0</td>\n",
              "      <td>0</td>\n",
              "      <td>0</td>\n",
              "      <td>0</td>\n",
              "      <td>a</td>\n",
              "      <td>1</td>\n",
              "      <td>c</td>\n",
              "      <td>c</td>\n",
              "      <td>1880.0</td>\n",
              "      <td>4.0</td>\n",
              "      <td>2006.0</td>\n",
              "      <td>0</td>\n",
              "      <td>NaN</td>\n",
              "      <td>NaN</td>\n",
              "      <td>NaN</td>\n",
              "      <td>2013</td>\n",
              "      <td>1</td>\n",
              "      <td>1</td>\n",
              "      <td>1</td>\n",
              "    </tr>\n",
              "    <tr>\n",
              "      <th>1017206</th>\n",
              "      <td>1113</td>\n",
              "      <td>2</td>\n",
              "      <td>2013-01-01</td>\n",
              "      <td>0</td>\n",
              "      <td>0</td>\n",
              "      <td>0</td>\n",
              "      <td>0</td>\n",
              "      <td>a</td>\n",
              "      <td>1</td>\n",
              "      <td>a</td>\n",
              "      <td>c</td>\n",
              "      <td>9260.0</td>\n",
              "      <td>NaN</td>\n",
              "      <td>NaN</td>\n",
              "      <td>0</td>\n",
              "      <td>NaN</td>\n",
              "      <td>NaN</td>\n",
              "      <td>NaN</td>\n",
              "      <td>2013</td>\n",
              "      <td>1</td>\n",
              "      <td>1</td>\n",
              "      <td>1</td>\n",
              "    </tr>\n",
              "    <tr>\n",
              "      <th>1017207</th>\n",
              "      <td>1114</td>\n",
              "      <td>2</td>\n",
              "      <td>2013-01-01</td>\n",
              "      <td>0</td>\n",
              "      <td>0</td>\n",
              "      <td>0</td>\n",
              "      <td>0</td>\n",
              "      <td>a</td>\n",
              "      <td>1</td>\n",
              "      <td>a</td>\n",
              "      <td>c</td>\n",
              "      <td>870.0</td>\n",
              "      <td>NaN</td>\n",
              "      <td>NaN</td>\n",
              "      <td>0</td>\n",
              "      <td>NaN</td>\n",
              "      <td>NaN</td>\n",
              "      <td>NaN</td>\n",
              "      <td>2013</td>\n",
              "      <td>1</td>\n",
              "      <td>1</td>\n",
              "      <td>1</td>\n",
              "    </tr>\n",
              "    <tr>\n",
              "      <th>1017208</th>\n",
              "      <td>1115</td>\n",
              "      <td>2</td>\n",
              "      <td>2013-01-01</td>\n",
              "      <td>0</td>\n",
              "      <td>0</td>\n",
              "      <td>0</td>\n",
              "      <td>0</td>\n",
              "      <td>a</td>\n",
              "      <td>1</td>\n",
              "      <td>d</td>\n",
              "      <td>c</td>\n",
              "      <td>5350.0</td>\n",
              "      <td>NaN</td>\n",
              "      <td>NaN</td>\n",
              "      <td>1</td>\n",
              "      <td>22.0</td>\n",
              "      <td>2012.0</td>\n",
              "      <td>Mar,Jun,Sept,Dec</td>\n",
              "      <td>2013</td>\n",
              "      <td>1</td>\n",
              "      <td>1</td>\n",
              "      <td>1</td>\n",
              "    </tr>\n",
              "  </tbody>\n",
              "</table>\n",
              "<p>1017209 rows × 22 columns</p>\n",
              "</div>"
            ],
            "text/plain": [
              "         Store  DayOfWeek       Date  Sales  ...  Year  Month  Day WeekOfYear\n",
              "0            1          5 2015-07-31   5263  ...  2015      7   31         31\n",
              "1            2          5 2015-07-31   6064  ...  2015      7   31         31\n",
              "2            3          5 2015-07-31   8314  ...  2015      7   31         31\n",
              "3            4          5 2015-07-31  13995  ...  2015      7   31         31\n",
              "4            5          5 2015-07-31   4822  ...  2015      7   31         31\n",
              "...        ...        ...        ...    ...  ...   ...    ...  ...        ...\n",
              "1017204   1111          2 2013-01-01      0  ...  2013      1    1          1\n",
              "1017205   1112          2 2013-01-01      0  ...  2013      1    1          1\n",
              "1017206   1113          2 2013-01-01      0  ...  2013      1    1          1\n",
              "1017207   1114          2 2013-01-01      0  ...  2013      1    1          1\n",
              "1017208   1115          2 2013-01-01      0  ...  2013      1    1          1\n",
              "\n",
              "[1017209 rows x 22 columns]"
            ]
          },
          "metadata": {},
          "execution_count": 38
        }
      ]
    },
    {
      "cell_type": "markdown",
      "metadata": {
        "id": "add394b5",
        "papermill": {
          "duration": 0.066477,
          "end_time": "2021-11-17T08:57:16.830728",
          "exception": false,
          "start_time": "2021-11-17T08:57:16.764251",
          "status": "completed"
        },
        "tags": []
      },
      "source": [
        "#### Stores Open/Closed"
      ],
      "id": "add394b5"
    },
    {
      "cell_type": "code",
      "metadata": {
        "execution": {
          "iopub.execute_input": "2021-11-17T08:57:16.961661Z",
          "iopub.status.busy": "2021-11-17T08:57:16.961081Z",
          "iopub.status.idle": "2021-11-17T08:57:17.202129Z",
          "shell.execute_reply": "2021-11-17T08:57:17.201486Z",
          "shell.execute_reply.started": "2021-11-17T08:24:53.826324Z"
        },
        "id": "3bde02c5",
        "papermill": {
          "duration": 0.307473,
          "end_time": "2021-11-17T08:57:17.202274",
          "exception": false,
          "start_time": "2021-11-17T08:57:16.894801",
          "status": "completed"
        },
        "tags": [],
        "colab": {
          "base_uri": "https://localhost:8080/"
        },
        "outputId": "9e9e8f01-9206-4b6b-f5fb-02cbb3e4d6be"
      },
      "source": [
        "merged_df[merged_df.Open == 0].Sales.value_counts()"
      ],
      "id": "3bde02c5",
      "execution_count": 39,
      "outputs": [
        {
          "output_type": "execute_result",
          "data": {
            "text/plain": [
              "0    172817\n",
              "Name: Sales, dtype: int64"
            ]
          },
          "metadata": {},
          "execution_count": 39
        }
      ]
    },
    {
      "cell_type": "markdown",
      "metadata": {
        "id": "07978904",
        "papermill": {
          "duration": 0.065494,
          "end_time": "2021-11-17T08:57:17.333391",
          "exception": false,
          "start_time": "2021-11-17T08:57:17.267897",
          "status": "completed"
        },
        "tags": []
      },
      "source": [
        "Instead of trying to model this relationship, it would be better to hard-code it in our predictions, and remove the rows where the store is closed. We won't remove any rows from the test set, since we need to make predictions for every row."
      ],
      "id": "07978904"
    },
    {
      "cell_type": "code",
      "metadata": {
        "execution": {
          "iopub.execute_input": "2021-11-17T08:57:17.469663Z",
          "iopub.status.busy": "2021-11-17T08:57:17.467925Z",
          "iopub.status.idle": "2021-11-17T08:57:17.634769Z",
          "shell.execute_reply": "2021-11-17T08:57:17.634234Z",
          "shell.execute_reply.started": "2021-11-17T08:24:54.063509Z"
        },
        "id": "c1abbd09",
        "papermill": {
          "duration": 0.23695,
          "end_time": "2021-11-17T08:57:17.634930",
          "exception": false,
          "start_time": "2021-11-17T08:57:17.397980",
          "status": "completed"
        },
        "tags": []
      },
      "source": [
        "merged_df = merged_df[merged_df.Open == 1].copy()"
      ],
      "id": "c1abbd09",
      "execution_count": 40,
      "outputs": []
    },
    {
      "cell_type": "code",
      "metadata": {
        "execution": {
          "iopub.execute_input": "2021-11-17T08:57:17.904339Z",
          "iopub.status.busy": "2021-11-17T08:57:17.903579Z",
          "iopub.status.idle": "2021-11-17T08:57:17.932017Z",
          "shell.execute_reply": "2021-11-17T08:57:17.931364Z",
          "shell.execute_reply.started": "2021-11-17T08:24:54.239716Z"
        },
        "id": "aa409cdf",
        "papermill": {
          "duration": 0.098533,
          "end_time": "2021-11-17T08:57:17.932164",
          "exception": false,
          "start_time": "2021-11-17T08:57:17.833631",
          "status": "completed"
        },
        "tags": [],
        "colab": {
          "base_uri": "https://localhost:8080/",
          "height": 617
        },
        "outputId": "2aae34be-eb5f-4b7c-b93b-07ace1d60a58"
      },
      "source": [
        "merged_df"
      ],
      "id": "aa409cdf",
      "execution_count": 41,
      "outputs": [
        {
          "output_type": "execute_result",
          "data": {
            "text/html": [
              "<div>\n",
              "<style scoped>\n",
              "    .dataframe tbody tr th:only-of-type {\n",
              "        vertical-align: middle;\n",
              "    }\n",
              "\n",
              "    .dataframe tbody tr th {\n",
              "        vertical-align: top;\n",
              "    }\n",
              "\n",
              "    .dataframe thead th {\n",
              "        text-align: right;\n",
              "    }\n",
              "</style>\n",
              "<table border=\"1\" class=\"dataframe\">\n",
              "  <thead>\n",
              "    <tr style=\"text-align: right;\">\n",
              "      <th></th>\n",
              "      <th>Store</th>\n",
              "      <th>DayOfWeek</th>\n",
              "      <th>Date</th>\n",
              "      <th>Sales</th>\n",
              "      <th>Customers</th>\n",
              "      <th>Open</th>\n",
              "      <th>Promo</th>\n",
              "      <th>StateHoliday</th>\n",
              "      <th>SchoolHoliday</th>\n",
              "      <th>StoreType</th>\n",
              "      <th>Assortment</th>\n",
              "      <th>CompetitionDistance</th>\n",
              "      <th>CompetitionOpenSinceMonth</th>\n",
              "      <th>CompetitionOpenSinceYear</th>\n",
              "      <th>Promo2</th>\n",
              "      <th>Promo2SinceWeek</th>\n",
              "      <th>Promo2SinceYear</th>\n",
              "      <th>PromoInterval</th>\n",
              "      <th>Year</th>\n",
              "      <th>Month</th>\n",
              "      <th>Day</th>\n",
              "      <th>WeekOfYear</th>\n",
              "    </tr>\n",
              "  </thead>\n",
              "  <tbody>\n",
              "    <tr>\n",
              "      <th>0</th>\n",
              "      <td>1</td>\n",
              "      <td>5</td>\n",
              "      <td>2015-07-31</td>\n",
              "      <td>5263</td>\n",
              "      <td>555</td>\n",
              "      <td>1</td>\n",
              "      <td>1</td>\n",
              "      <td>0</td>\n",
              "      <td>1</td>\n",
              "      <td>c</td>\n",
              "      <td>a</td>\n",
              "      <td>1270.0</td>\n",
              "      <td>9.0</td>\n",
              "      <td>2008.0</td>\n",
              "      <td>0</td>\n",
              "      <td>NaN</td>\n",
              "      <td>NaN</td>\n",
              "      <td>NaN</td>\n",
              "      <td>2015</td>\n",
              "      <td>7</td>\n",
              "      <td>31</td>\n",
              "      <td>31</td>\n",
              "    </tr>\n",
              "    <tr>\n",
              "      <th>1</th>\n",
              "      <td>2</td>\n",
              "      <td>5</td>\n",
              "      <td>2015-07-31</td>\n",
              "      <td>6064</td>\n",
              "      <td>625</td>\n",
              "      <td>1</td>\n",
              "      <td>1</td>\n",
              "      <td>0</td>\n",
              "      <td>1</td>\n",
              "      <td>a</td>\n",
              "      <td>a</td>\n",
              "      <td>570.0</td>\n",
              "      <td>11.0</td>\n",
              "      <td>2007.0</td>\n",
              "      <td>1</td>\n",
              "      <td>13.0</td>\n",
              "      <td>2010.0</td>\n",
              "      <td>Jan,Apr,Jul,Oct</td>\n",
              "      <td>2015</td>\n",
              "      <td>7</td>\n",
              "      <td>31</td>\n",
              "      <td>31</td>\n",
              "    </tr>\n",
              "    <tr>\n",
              "      <th>2</th>\n",
              "      <td>3</td>\n",
              "      <td>5</td>\n",
              "      <td>2015-07-31</td>\n",
              "      <td>8314</td>\n",
              "      <td>821</td>\n",
              "      <td>1</td>\n",
              "      <td>1</td>\n",
              "      <td>0</td>\n",
              "      <td>1</td>\n",
              "      <td>a</td>\n",
              "      <td>a</td>\n",
              "      <td>14130.0</td>\n",
              "      <td>12.0</td>\n",
              "      <td>2006.0</td>\n",
              "      <td>1</td>\n",
              "      <td>14.0</td>\n",
              "      <td>2011.0</td>\n",
              "      <td>Jan,Apr,Jul,Oct</td>\n",
              "      <td>2015</td>\n",
              "      <td>7</td>\n",
              "      <td>31</td>\n",
              "      <td>31</td>\n",
              "    </tr>\n",
              "    <tr>\n",
              "      <th>3</th>\n",
              "      <td>4</td>\n",
              "      <td>5</td>\n",
              "      <td>2015-07-31</td>\n",
              "      <td>13995</td>\n",
              "      <td>1498</td>\n",
              "      <td>1</td>\n",
              "      <td>1</td>\n",
              "      <td>0</td>\n",
              "      <td>1</td>\n",
              "      <td>c</td>\n",
              "      <td>c</td>\n",
              "      <td>620.0</td>\n",
              "      <td>9.0</td>\n",
              "      <td>2009.0</td>\n",
              "      <td>0</td>\n",
              "      <td>NaN</td>\n",
              "      <td>NaN</td>\n",
              "      <td>NaN</td>\n",
              "      <td>2015</td>\n",
              "      <td>7</td>\n",
              "      <td>31</td>\n",
              "      <td>31</td>\n",
              "    </tr>\n",
              "    <tr>\n",
              "      <th>4</th>\n",
              "      <td>5</td>\n",
              "      <td>5</td>\n",
              "      <td>2015-07-31</td>\n",
              "      <td>4822</td>\n",
              "      <td>559</td>\n",
              "      <td>1</td>\n",
              "      <td>1</td>\n",
              "      <td>0</td>\n",
              "      <td>1</td>\n",
              "      <td>a</td>\n",
              "      <td>a</td>\n",
              "      <td>29910.0</td>\n",
              "      <td>4.0</td>\n",
              "      <td>2015.0</td>\n",
              "      <td>0</td>\n",
              "      <td>NaN</td>\n",
              "      <td>NaN</td>\n",
              "      <td>NaN</td>\n",
              "      <td>2015</td>\n",
              "      <td>7</td>\n",
              "      <td>31</td>\n",
              "      <td>31</td>\n",
              "    </tr>\n",
              "    <tr>\n",
              "      <th>...</th>\n",
              "      <td>...</td>\n",
              "      <td>...</td>\n",
              "      <td>...</td>\n",
              "      <td>...</td>\n",
              "      <td>...</td>\n",
              "      <td>...</td>\n",
              "      <td>...</td>\n",
              "      <td>...</td>\n",
              "      <td>...</td>\n",
              "      <td>...</td>\n",
              "      <td>...</td>\n",
              "      <td>...</td>\n",
              "      <td>...</td>\n",
              "      <td>...</td>\n",
              "      <td>...</td>\n",
              "      <td>...</td>\n",
              "      <td>...</td>\n",
              "      <td>...</td>\n",
              "      <td>...</td>\n",
              "      <td>...</td>\n",
              "      <td>...</td>\n",
              "      <td>...</td>\n",
              "    </tr>\n",
              "    <tr>\n",
              "      <th>1016776</th>\n",
              "      <td>682</td>\n",
              "      <td>2</td>\n",
              "      <td>2013-01-01</td>\n",
              "      <td>3375</td>\n",
              "      <td>566</td>\n",
              "      <td>1</td>\n",
              "      <td>0</td>\n",
              "      <td>a</td>\n",
              "      <td>1</td>\n",
              "      <td>b</td>\n",
              "      <td>a</td>\n",
              "      <td>150.0</td>\n",
              "      <td>9.0</td>\n",
              "      <td>2006.0</td>\n",
              "      <td>0</td>\n",
              "      <td>NaN</td>\n",
              "      <td>NaN</td>\n",
              "      <td>NaN</td>\n",
              "      <td>2013</td>\n",
              "      <td>1</td>\n",
              "      <td>1</td>\n",
              "      <td>1</td>\n",
              "    </tr>\n",
              "    <tr>\n",
              "      <th>1016827</th>\n",
              "      <td>733</td>\n",
              "      <td>2</td>\n",
              "      <td>2013-01-01</td>\n",
              "      <td>10765</td>\n",
              "      <td>2377</td>\n",
              "      <td>1</td>\n",
              "      <td>0</td>\n",
              "      <td>a</td>\n",
              "      <td>1</td>\n",
              "      <td>b</td>\n",
              "      <td>b</td>\n",
              "      <td>860.0</td>\n",
              "      <td>10.0</td>\n",
              "      <td>1999.0</td>\n",
              "      <td>0</td>\n",
              "      <td>NaN</td>\n",
              "      <td>NaN</td>\n",
              "      <td>NaN</td>\n",
              "      <td>2013</td>\n",
              "      <td>1</td>\n",
              "      <td>1</td>\n",
              "      <td>1</td>\n",
              "    </tr>\n",
              "    <tr>\n",
              "      <th>1016863</th>\n",
              "      <td>769</td>\n",
              "      <td>2</td>\n",
              "      <td>2013-01-01</td>\n",
              "      <td>5035</td>\n",
              "      <td>1248</td>\n",
              "      <td>1</td>\n",
              "      <td>0</td>\n",
              "      <td>a</td>\n",
              "      <td>1</td>\n",
              "      <td>b</td>\n",
              "      <td>b</td>\n",
              "      <td>840.0</td>\n",
              "      <td>NaN</td>\n",
              "      <td>NaN</td>\n",
              "      <td>1</td>\n",
              "      <td>48.0</td>\n",
              "      <td>2012.0</td>\n",
              "      <td>Jan,Apr,Jul,Oct</td>\n",
              "      <td>2013</td>\n",
              "      <td>1</td>\n",
              "      <td>1</td>\n",
              "      <td>1</td>\n",
              "    </tr>\n",
              "    <tr>\n",
              "      <th>1017042</th>\n",
              "      <td>948</td>\n",
              "      <td>2</td>\n",
              "      <td>2013-01-01</td>\n",
              "      <td>4491</td>\n",
              "      <td>1039</td>\n",
              "      <td>1</td>\n",
              "      <td>0</td>\n",
              "      <td>a</td>\n",
              "      <td>1</td>\n",
              "      <td>b</td>\n",
              "      <td>b</td>\n",
              "      <td>1430.0</td>\n",
              "      <td>NaN</td>\n",
              "      <td>NaN</td>\n",
              "      <td>0</td>\n",
              "      <td>NaN</td>\n",
              "      <td>NaN</td>\n",
              "      <td>NaN</td>\n",
              "      <td>2013</td>\n",
              "      <td>1</td>\n",
              "      <td>1</td>\n",
              "      <td>1</td>\n",
              "    </tr>\n",
              "    <tr>\n",
              "      <th>1017190</th>\n",
              "      <td>1097</td>\n",
              "      <td>2</td>\n",
              "      <td>2013-01-01</td>\n",
              "      <td>5961</td>\n",
              "      <td>1405</td>\n",
              "      <td>1</td>\n",
              "      <td>0</td>\n",
              "      <td>a</td>\n",
              "      <td>1</td>\n",
              "      <td>b</td>\n",
              "      <td>b</td>\n",
              "      <td>720.0</td>\n",
              "      <td>3.0</td>\n",
              "      <td>2002.0</td>\n",
              "      <td>0</td>\n",
              "      <td>NaN</td>\n",
              "      <td>NaN</td>\n",
              "      <td>NaN</td>\n",
              "      <td>2013</td>\n",
              "      <td>1</td>\n",
              "      <td>1</td>\n",
              "      <td>1</td>\n",
              "    </tr>\n",
              "  </tbody>\n",
              "</table>\n",
              "<p>844392 rows × 22 columns</p>\n",
              "</div>"
            ],
            "text/plain": [
              "         Store  DayOfWeek       Date  Sales  ...  Year  Month  Day WeekOfYear\n",
              "0            1          5 2015-07-31   5263  ...  2015      7   31         31\n",
              "1            2          5 2015-07-31   6064  ...  2015      7   31         31\n",
              "2            3          5 2015-07-31   8314  ...  2015      7   31         31\n",
              "3            4          5 2015-07-31  13995  ...  2015      7   31         31\n",
              "4            5          5 2015-07-31   4822  ...  2015      7   31         31\n",
              "...        ...        ...        ...    ...  ...   ...    ...  ...        ...\n",
              "1016776    682          2 2013-01-01   3375  ...  2013      1    1          1\n",
              "1016827    733          2 2013-01-01  10765  ...  2013      1    1          1\n",
              "1016863    769          2 2013-01-01   5035  ...  2013      1    1          1\n",
              "1017042    948          2 2013-01-01   4491  ...  2013      1    1          1\n",
              "1017190   1097          2 2013-01-01   5961  ...  2013      1    1          1\n",
              "\n",
              "[844392 rows x 22 columns]"
            ]
          },
          "metadata": {},
          "execution_count": 41
        }
      ]
    },
    {
      "cell_type": "markdown",
      "metadata": {
        "id": "3c8e0317",
        "papermill": {
          "duration": 0.065203,
          "end_time": "2021-11-17T08:57:18.062755",
          "exception": false,
          "start_time": "2021-11-17T08:57:17.997552",
          "status": "completed"
        },
        "tags": []
      },
      "source": [
        "Computing the number of months for which a competitor has been open near the store"
      ],
      "id": "3c8e0317"
    },
    {
      "cell_type": "code",
      "metadata": {
        "execution": {
          "iopub.execute_input": "2021-11-17T08:57:18.201490Z",
          "iopub.status.busy": "2021-11-17T08:57:18.200723Z",
          "iopub.status.idle": "2021-11-17T08:57:18.203549Z",
          "shell.execute_reply": "2021-11-17T08:57:18.202891Z",
          "shell.execute_reply.started": "2021-11-17T08:24:54.279198Z"
        },
        "id": "e7cfad85",
        "papermill": {
          "duration": 0.07318,
          "end_time": "2021-11-17T08:57:18.203702",
          "exception": false,
          "start_time": "2021-11-17T08:57:18.130522",
          "status": "completed"
        },
        "tags": []
      },
      "source": [
        "def comp_months(df):\n",
        "  df['CompetitionOpen'] = 12 * (df.Year - df.CompetitionOpenSinceYear) + (df.Month - df.CompetitionOpenSinceMonth)\n",
        "  df['CompetitionOpen'] = df['CompetitionOpen'].map(lambda x: 0 if x < 0 else x).fillna(0)"
      ],
      "id": "e7cfad85",
      "execution_count": 42,
      "outputs": []
    },
    {
      "cell_type": "code",
      "metadata": {
        "execution": {
          "iopub.execute_input": "2021-11-17T08:57:18.343593Z",
          "iopub.status.busy": "2021-11-17T08:57:18.342809Z",
          "iopub.status.idle": "2021-11-17T08:57:18.592474Z",
          "shell.execute_reply": "2021-11-17T08:57:18.591793Z",
          "shell.execute_reply.started": "2021-11-17T08:24:54.287314Z"
        },
        "id": "67220916",
        "papermill": {
          "duration": 0.322826,
          "end_time": "2021-11-17T08:57:18.592630",
          "exception": false,
          "start_time": "2021-11-17T08:57:18.269804",
          "status": "completed"
        },
        "tags": []
      },
      "source": [
        "comp_months(merged_df)\n",
        "comp_months(merged_test_df)"
      ],
      "id": "67220916",
      "execution_count": 43,
      "outputs": []
    },
    {
      "cell_type": "code",
      "metadata": {
        "execution": {
          "iopub.execute_input": "2021-11-17T08:57:18.732258Z",
          "iopub.status.busy": "2021-11-17T08:57:18.731560Z",
          "iopub.status.idle": "2021-11-17T08:57:18.800602Z",
          "shell.execute_reply": "2021-11-17T08:57:18.800048Z",
          "shell.execute_reply.started": "2021-11-17T08:24:54.683445Z"
        },
        "id": "c02e2dc3",
        "papermill": {
          "duration": 0.141996,
          "end_time": "2021-11-17T08:57:18.800744",
          "exception": false,
          "start_time": "2021-11-17T08:57:18.658748",
          "status": "completed"
        },
        "tags": []
      },
      "source": [
        "merged_df[['Date', 'CompetitionDistance', 'CompetitionOpenSinceYear', 'CompetitionOpenSinceMonth', 'CompetitionOpen']].sample(20)"
      ],
      "id": "c02e2dc3",
      "execution_count": null,
      "outputs": []
    },
    {
      "cell_type": "markdown",
      "metadata": {
        "id": "28a8c726",
        "papermill": {
          "duration": 0.065868,
          "end_time": "2021-11-17T08:57:18.933195",
          "exception": false,
          "start_time": "2021-11-17T08:57:18.867327",
          "status": "completed"
        },
        "tags": []
      },
      "source": [
        "#### Additional Promotion"
      ],
      "id": "28a8c726"
    },
    {
      "cell_type": "code",
      "metadata": {
        "execution": {
          "iopub.execute_input": "2021-11-17T08:57:19.071883Z",
          "iopub.status.busy": "2021-11-17T08:57:19.070922Z",
          "iopub.status.idle": "2021-11-17T08:57:19.078754Z",
          "shell.execute_reply": "2021-11-17T08:57:19.079302Z",
          "shell.execute_reply.started": "2021-11-17T08:24:54.763338Z"
        },
        "id": "b87bac75",
        "papermill": {
          "duration": 0.07823,
          "end_time": "2021-11-17T08:57:19.079473",
          "exception": false,
          "start_time": "2021-11-17T08:57:19.001243",
          "status": "completed"
        },
        "tags": []
      },
      "source": [
        "def check_promo_month(row):\n",
        "    month2str = {1:'Jan', 2:'Feb', 3:'Mar', 4:'Apr', 5:'May', 6:'Jun',              \n",
        "                 7:'Jul', 8:'Aug', 9:'Sept', 10:'Oct', 11:'Nov', 12:'Dec'}\n",
        "    try:\n",
        "        months = (row['PromoInterval'] or '').split(',')\n",
        "        if row['Promo2Open'] and month2str[row['Month']] in months:\n",
        "            return 1\n",
        "        else:\n",
        "            return 0\n",
        "    except Exception:\n",
        "        return 0\n",
        "\n",
        "def promo_cols(df):\n",
        "    # Months since Promo2 was open\n",
        "    df['Promo2Open'] = 12 * (df.Year - df.Promo2SinceYear) +  (df.WeekOfYear - df.Promo2SinceWeek)*7/30.5\n",
        "    df['Promo2Open'] = df['Promo2Open'].map(lambda x: 0 if x < 0 else x).fillna(0) * df['Promo2']\n",
        "    # Whether a new round of promotions was started in the current month\n",
        "    df['IsPromo2Month'] = df.apply(check_promo_month, axis=1) * df['Promo2']"
      ],
      "id": "b87bac75",
      "execution_count": 44,
      "outputs": []
    },
    {
      "cell_type": "code",
      "metadata": {
        "execution": {
          "iopub.execute_input": "2021-11-17T08:57:19.215278Z",
          "iopub.status.busy": "2021-11-17T08:57:19.214318Z",
          "iopub.status.idle": "2021-11-17T08:57:35.620965Z",
          "shell.execute_reply": "2021-11-17T08:57:35.620301Z",
          "shell.execute_reply.started": "2021-11-17T08:24:54.773568Z"
        },
        "id": "5b6f7d89",
        "papermill": {
          "duration": 16.475376,
          "end_time": "2021-11-17T08:57:35.621121",
          "exception": false,
          "start_time": "2021-11-17T08:57:19.145745",
          "status": "completed"
        },
        "tags": []
      },
      "source": [
        "promo_cols(merged_df)\n",
        "promo_cols(merged_test_df)"
      ],
      "id": "5b6f7d89",
      "execution_count": 45,
      "outputs": []
    },
    {
      "cell_type": "code",
      "metadata": {
        "execution": {
          "iopub.execute_input": "2021-11-17T08:57:35.763412Z",
          "iopub.status.busy": "2021-11-17T08:57:35.762681Z",
          "iopub.status.idle": "2021-11-17T08:57:35.876486Z",
          "shell.execute_reply": "2021-11-17T08:57:35.875920Z",
          "shell.execute_reply.started": "2021-11-17T08:25:19.840200Z"
        },
        "id": "79db1131",
        "papermill": {
          "duration": 0.185975,
          "end_time": "2021-11-17T08:57:35.876631",
          "exception": false,
          "start_time": "2021-11-17T08:57:35.690656",
          "status": "completed"
        },
        "tags": [],
        "colab": {
          "base_uri": "https://localhost:8080/",
          "height": 677
        },
        "outputId": "2b114bc2-417b-45f4-d7e8-60d3887246fb"
      },
      "source": [
        "merged_df[['Date', 'Promo2', 'Promo2SinceYear', 'Promo2SinceWeek', 'PromoInterval', 'Promo2Open', 'IsPromo2Month']].sample(20)"
      ],
      "id": "79db1131",
      "execution_count": 46,
      "outputs": [
        {
          "output_type": "execute_result",
          "data": {
            "text/html": [
              "<div>\n",
              "<style scoped>\n",
              "    .dataframe tbody tr th:only-of-type {\n",
              "        vertical-align: middle;\n",
              "    }\n",
              "\n",
              "    .dataframe tbody tr th {\n",
              "        vertical-align: top;\n",
              "    }\n",
              "\n",
              "    .dataframe thead th {\n",
              "        text-align: right;\n",
              "    }\n",
              "</style>\n",
              "<table border=\"1\" class=\"dataframe\">\n",
              "  <thead>\n",
              "    <tr style=\"text-align: right;\">\n",
              "      <th></th>\n",
              "      <th>Date</th>\n",
              "      <th>Promo2</th>\n",
              "      <th>Promo2SinceYear</th>\n",
              "      <th>Promo2SinceWeek</th>\n",
              "      <th>PromoInterval</th>\n",
              "      <th>Promo2Open</th>\n",
              "      <th>IsPromo2Month</th>\n",
              "    </tr>\n",
              "  </thead>\n",
              "  <tbody>\n",
              "    <tr>\n",
              "      <th>16583</th>\n",
              "      <td>2015-07-17</td>\n",
              "      <td>1</td>\n",
              "      <td>2014.0</td>\n",
              "      <td>40.0</td>\n",
              "      <td>Jan,Apr,Jul,Oct</td>\n",
              "      <td>9.475410</td>\n",
              "      <td>1</td>\n",
              "    </tr>\n",
              "    <tr>\n",
              "      <th>58054</th>\n",
              "      <td>2015-06-09</td>\n",
              "      <td>0</td>\n",
              "      <td>NaN</td>\n",
              "      <td>NaN</td>\n",
              "      <td>NaN</td>\n",
              "      <td>0.000000</td>\n",
              "      <td>0</td>\n",
              "    </tr>\n",
              "    <tr>\n",
              "      <th>762001</th>\n",
              "      <td>2013-08-17</td>\n",
              "      <td>1</td>\n",
              "      <td>2010.0</td>\n",
              "      <td>13.0</td>\n",
              "      <td>Jan,Apr,Jul,Oct</td>\n",
              "      <td>40.590164</td>\n",
              "      <td>0</td>\n",
              "    </tr>\n",
              "    <tr>\n",
              "      <th>88167</th>\n",
              "      <td>2015-05-13</td>\n",
              "      <td>0</td>\n",
              "      <td>NaN</td>\n",
              "      <td>NaN</td>\n",
              "      <td>NaN</td>\n",
              "      <td>0.000000</td>\n",
              "      <td>0</td>\n",
              "    </tr>\n",
              "    <tr>\n",
              "      <th>798609</th>\n",
              "      <td>2013-07-16</td>\n",
              "      <td>0</td>\n",
              "      <td>NaN</td>\n",
              "      <td>NaN</td>\n",
              "      <td>NaN</td>\n",
              "      <td>0.000000</td>\n",
              "      <td>0</td>\n",
              "    </tr>\n",
              "    <tr>\n",
              "      <th>313538</th>\n",
              "      <td>2014-10-10</td>\n",
              "      <td>0</td>\n",
              "      <td>NaN</td>\n",
              "      <td>NaN</td>\n",
              "      <td>NaN</td>\n",
              "      <td>0.000000</td>\n",
              "      <td>0</td>\n",
              "    </tr>\n",
              "    <tr>\n",
              "      <th>379047</th>\n",
              "      <td>2014-08-01</td>\n",
              "      <td>1</td>\n",
              "      <td>2014.0</td>\n",
              "      <td>10.0</td>\n",
              "      <td>Jan,Apr,Jul,Oct</td>\n",
              "      <td>4.819672</td>\n",
              "      <td>0</td>\n",
              "    </tr>\n",
              "    <tr>\n",
              "      <th>471328</th>\n",
              "      <td>2014-05-05</td>\n",
              "      <td>0</td>\n",
              "      <td>NaN</td>\n",
              "      <td>NaN</td>\n",
              "      <td>NaN</td>\n",
              "      <td>0.000000</td>\n",
              "      <td>0</td>\n",
              "    </tr>\n",
              "    <tr>\n",
              "      <th>947383</th>\n",
              "      <td>2013-03-04</td>\n",
              "      <td>0</td>\n",
              "      <td>NaN</td>\n",
              "      <td>NaN</td>\n",
              "      <td>NaN</td>\n",
              "      <td>0.000000</td>\n",
              "      <td>0</td>\n",
              "    </tr>\n",
              "    <tr>\n",
              "      <th>767954</th>\n",
              "      <td>2013-08-12</td>\n",
              "      <td>1</td>\n",
              "      <td>2013.0</td>\n",
              "      <td>5.0</td>\n",
              "      <td>Feb,May,Aug,Nov</td>\n",
              "      <td>6.426230</td>\n",
              "      <td>1</td>\n",
              "    </tr>\n",
              "    <tr>\n",
              "      <th>826193</th>\n",
              "      <td>2013-06-21</td>\n",
              "      <td>1</td>\n",
              "      <td>2014.0</td>\n",
              "      <td>10.0</td>\n",
              "      <td>Mar,Jun,Sept,Dec</td>\n",
              "      <td>0.000000</td>\n",
              "      <td>0</td>\n",
              "    </tr>\n",
              "    <tr>\n",
              "      <th>218480</th>\n",
              "      <td>2015-01-17</td>\n",
              "      <td>1</td>\n",
              "      <td>2012.0</td>\n",
              "      <td>40.0</td>\n",
              "      <td>Jan,Apr,Jul,Oct</td>\n",
              "      <td>27.508197</td>\n",
              "      <td>1</td>\n",
              "    </tr>\n",
              "    <tr>\n",
              "      <th>222019</th>\n",
              "      <td>2015-01-13</td>\n",
              "      <td>1</td>\n",
              "      <td>2013.0</td>\n",
              "      <td>1.0</td>\n",
              "      <td>Jan,Apr,Jul,Oct</td>\n",
              "      <td>24.459016</td>\n",
              "      <td>1</td>\n",
              "    </tr>\n",
              "    <tr>\n",
              "      <th>326043</th>\n",
              "      <td>2014-09-27</td>\n",
              "      <td>1</td>\n",
              "      <td>2011.0</td>\n",
              "      <td>14.0</td>\n",
              "      <td>Jan,Apr,Jul,Oct</td>\n",
              "      <td>41.737705</td>\n",
              "      <td>0</td>\n",
              "    </tr>\n",
              "    <tr>\n",
              "      <th>134797</th>\n",
              "      <td>2015-04-02</td>\n",
              "      <td>1</td>\n",
              "      <td>2013.0</td>\n",
              "      <td>5.0</td>\n",
              "      <td>Feb,May,Aug,Nov</td>\n",
              "      <td>26.065574</td>\n",
              "      <td>0</td>\n",
              "    </tr>\n",
              "    <tr>\n",
              "      <th>142980</th>\n",
              "      <td>2015-03-25</td>\n",
              "      <td>1</td>\n",
              "      <td>2009.0</td>\n",
              "      <td>39.0</td>\n",
              "      <td>Jan,Apr,Jul,Oct</td>\n",
              "      <td>66.032787</td>\n",
              "      <td>0</td>\n",
              "    </tr>\n",
              "    <tr>\n",
              "      <th>374565</th>\n",
              "      <td>2014-08-06</td>\n",
              "      <td>0</td>\n",
              "      <td>NaN</td>\n",
              "      <td>NaN</td>\n",
              "      <td>NaN</td>\n",
              "      <td>0.000000</td>\n",
              "      <td>0</td>\n",
              "    </tr>\n",
              "    <tr>\n",
              "      <th>203199</th>\n",
              "      <td>2015-01-30</td>\n",
              "      <td>0</td>\n",
              "      <td>NaN</td>\n",
              "      <td>NaN</td>\n",
              "      <td>NaN</td>\n",
              "      <td>0.000000</td>\n",
              "      <td>0</td>\n",
              "    </tr>\n",
              "    <tr>\n",
              "      <th>806006</th>\n",
              "      <td>2013-07-09</td>\n",
              "      <td>0</td>\n",
              "      <td>NaN</td>\n",
              "      <td>NaN</td>\n",
              "      <td>NaN</td>\n",
              "      <td>0.000000</td>\n",
              "      <td>0</td>\n",
              "    </tr>\n",
              "    <tr>\n",
              "      <th>570527</th>\n",
              "      <td>2014-02-05</td>\n",
              "      <td>0</td>\n",
              "      <td>NaN</td>\n",
              "      <td>NaN</td>\n",
              "      <td>NaN</td>\n",
              "      <td>0.000000</td>\n",
              "      <td>0</td>\n",
              "    </tr>\n",
              "  </tbody>\n",
              "</table>\n",
              "</div>"
            ],
            "text/plain": [
              "             Date  Promo2  ...  Promo2Open  IsPromo2Month\n",
              "16583  2015-07-17       1  ...    9.475410              1\n",
              "58054  2015-06-09       0  ...    0.000000              0\n",
              "762001 2013-08-17       1  ...   40.590164              0\n",
              "88167  2015-05-13       0  ...    0.000000              0\n",
              "798609 2013-07-16       0  ...    0.000000              0\n",
              "313538 2014-10-10       0  ...    0.000000              0\n",
              "379047 2014-08-01       1  ...    4.819672              0\n",
              "471328 2014-05-05       0  ...    0.000000              0\n",
              "947383 2013-03-04       0  ...    0.000000              0\n",
              "767954 2013-08-12       1  ...    6.426230              1\n",
              "826193 2013-06-21       1  ...    0.000000              0\n",
              "218480 2015-01-17       1  ...   27.508197              1\n",
              "222019 2015-01-13       1  ...   24.459016              1\n",
              "326043 2014-09-27       1  ...   41.737705              0\n",
              "134797 2015-04-02       1  ...   26.065574              0\n",
              "142980 2015-03-25       1  ...   66.032787              0\n",
              "374565 2014-08-06       0  ...    0.000000              0\n",
              "203199 2015-01-30       0  ...    0.000000              0\n",
              "806006 2013-07-09       0  ...    0.000000              0\n",
              "570527 2014-02-05       0  ...    0.000000              0\n",
              "\n",
              "[20 rows x 7 columns]"
            ]
          },
          "metadata": {},
          "execution_count": 46
        }
      ]
    },
    {
      "cell_type": "markdown",
      "metadata": {
        "id": "b46721bc",
        "papermill": {
          "duration": 0.066819,
          "end_time": "2021-11-17T08:57:36.010060",
          "exception": false,
          "start_time": "2021-11-17T08:57:35.943241",
          "status": "completed"
        },
        "tags": []
      },
      "source": [
        "#### Identify Input and Target columns"
      ],
      "id": "b46721bc"
    },
    {
      "cell_type": "code",
      "metadata": {
        "execution": {
          "iopub.execute_input": "2021-11-17T08:57:36.152344Z",
          "iopub.status.busy": "2021-11-17T08:57:36.151562Z",
          "iopub.status.idle": "2021-11-17T08:57:36.154765Z",
          "shell.execute_reply": "2021-11-17T08:57:36.155289Z",
          "shell.execute_reply.started": "2021-11-17T08:25:19.956024Z"
        },
        "id": "5f002e2a",
        "papermill": {
          "duration": 0.078913,
          "end_time": "2021-11-17T08:57:36.155480",
          "exception": false,
          "start_time": "2021-11-17T08:57:36.076567",
          "status": "completed"
        },
        "tags": [],
        "colab": {
          "base_uri": "https://localhost:8080/"
        },
        "outputId": "76787d6d-c9d8-48c7-ae3e-8acaff888357"
      },
      "source": [
        "merged_df.columns"
      ],
      "id": "5f002e2a",
      "execution_count": 47,
      "outputs": [
        {
          "output_type": "execute_result",
          "data": {
            "text/plain": [
              "Index(['Store', 'DayOfWeek', 'Date', 'Sales', 'Customers', 'Open', 'Promo',\n",
              "       'StateHoliday', 'SchoolHoliday', 'StoreType', 'Assortment',\n",
              "       'CompetitionDistance', 'CompetitionOpenSinceMonth',\n",
              "       'CompetitionOpenSinceYear', 'Promo2', 'Promo2SinceWeek',\n",
              "       'Promo2SinceYear', 'PromoInterval', 'Year', 'Month', 'Day',\n",
              "       'WeekOfYear', 'CompetitionOpen', 'Promo2Open', 'IsPromo2Month'],\n",
              "      dtype='object')"
            ]
          },
          "metadata": {},
          "execution_count": 47
        }
      ]
    },
    {
      "cell_type": "code",
      "metadata": {
        "execution": {
          "iopub.execute_input": "2021-11-17T08:57:36.292188Z",
          "iopub.status.busy": "2021-11-17T08:57:36.290723Z",
          "iopub.status.idle": "2021-11-17T08:57:36.294425Z",
          "shell.execute_reply": "2021-11-17T08:57:36.294868Z",
          "shell.execute_reply.started": "2021-11-17T08:25:19.964409Z"
        },
        "id": "7fb05f45",
        "papermill": {
          "duration": 0.073452,
          "end_time": "2021-11-17T08:57:36.295069",
          "exception": false,
          "start_time": "2021-11-17T08:57:36.221617",
          "status": "completed"
        },
        "tags": []
      },
      "source": [
        "input_cols = ['Store', 'DayOfWeek', 'Promo', 'StateHoliday', 'SchoolHoliday', \n",
        "              'StoreType', 'Assortment', 'CompetitionDistance', 'CompetitionOpen', \n",
        "              'Day', 'Month', 'Year', 'WeekOfYear',  'Promo2', \n",
        "              'Promo2Open', 'IsPromo2Month']\n",
        "\n",
        "target_col = 'Sales'"
      ],
      "id": "7fb05f45",
      "execution_count": 48,
      "outputs": []
    },
    {
      "cell_type": "code",
      "metadata": {
        "execution": {
          "iopub.execute_input": "2021-11-17T08:57:36.433195Z",
          "iopub.status.busy": "2021-11-17T08:57:36.432504Z",
          "iopub.status.idle": "2021-11-17T08:57:36.522092Z",
          "shell.execute_reply": "2021-11-17T08:57:36.522541Z",
          "shell.execute_reply.started": "2021-11-17T08:25:19.975355Z"
        },
        "id": "5129c2cc",
        "papermill": {
          "duration": 0.158948,
          "end_time": "2021-11-17T08:57:36.522731",
          "exception": false,
          "start_time": "2021-11-17T08:57:36.363783",
          "status": "completed"
        },
        "tags": []
      },
      "source": [
        "inputs = merged_df[input_cols].copy()\n",
        "target = merged_df[target_col].copy()"
      ],
      "id": "5129c2cc",
      "execution_count": 49,
      "outputs": []
    },
    {
      "cell_type": "code",
      "metadata": {
        "execution": {
          "iopub.execute_input": "2021-11-17T08:57:36.659981Z",
          "iopub.status.busy": "2021-11-17T08:57:36.659306Z",
          "iopub.status.idle": "2021-11-17T08:57:36.669299Z",
          "shell.execute_reply": "2021-11-17T08:57:36.668729Z",
          "shell.execute_reply.started": "2021-11-17T08:25:20.072124Z"
        },
        "id": "7677829c",
        "papermill": {
          "duration": 0.08004,
          "end_time": "2021-11-17T08:57:36.669467",
          "exception": false,
          "start_time": "2021-11-17T08:57:36.589427",
          "status": "completed"
        },
        "tags": []
      },
      "source": [
        "test_inputs = merged_test_df[input_cols].copy()"
      ],
      "id": "7677829c",
      "execution_count": 50,
      "outputs": []
    },
    {
      "cell_type": "code",
      "metadata": {
        "execution": {
          "iopub.execute_input": "2021-11-17T08:57:36.811676Z",
          "iopub.status.busy": "2021-11-17T08:57:36.810985Z",
          "iopub.status.idle": "2021-11-17T08:57:36.829867Z",
          "shell.execute_reply": "2021-11-17T08:57:36.830419Z",
          "shell.execute_reply.started": "2021-11-17T08:25:20.088460Z"
        },
        "id": "7b93432e",
        "papermill": {
          "duration": 0.094198,
          "end_time": "2021-11-17T08:57:36.830592",
          "exception": false,
          "start_time": "2021-11-17T08:57:36.736394",
          "status": "completed"
        },
        "tags": [],
        "colab": {
          "base_uri": "https://localhost:8080/",
          "height": 444
        },
        "outputId": "df7da904-b5fd-42b3-82b1-fbcdcc32113e"
      },
      "source": [
        "inputs"
      ],
      "id": "7b93432e",
      "execution_count": 51,
      "outputs": [
        {
          "output_type": "execute_result",
          "data": {
            "text/html": [
              "<div>\n",
              "<style scoped>\n",
              "    .dataframe tbody tr th:only-of-type {\n",
              "        vertical-align: middle;\n",
              "    }\n",
              "\n",
              "    .dataframe tbody tr th {\n",
              "        vertical-align: top;\n",
              "    }\n",
              "\n",
              "    .dataframe thead th {\n",
              "        text-align: right;\n",
              "    }\n",
              "</style>\n",
              "<table border=\"1\" class=\"dataframe\">\n",
              "  <thead>\n",
              "    <tr style=\"text-align: right;\">\n",
              "      <th></th>\n",
              "      <th>Store</th>\n",
              "      <th>DayOfWeek</th>\n",
              "      <th>Promo</th>\n",
              "      <th>StateHoliday</th>\n",
              "      <th>SchoolHoliday</th>\n",
              "      <th>StoreType</th>\n",
              "      <th>Assortment</th>\n",
              "      <th>CompetitionDistance</th>\n",
              "      <th>CompetitionOpen</th>\n",
              "      <th>Day</th>\n",
              "      <th>Month</th>\n",
              "      <th>Year</th>\n",
              "      <th>WeekOfYear</th>\n",
              "      <th>Promo2</th>\n",
              "      <th>Promo2Open</th>\n",
              "      <th>IsPromo2Month</th>\n",
              "    </tr>\n",
              "  </thead>\n",
              "  <tbody>\n",
              "    <tr>\n",
              "      <th>0</th>\n",
              "      <td>1</td>\n",
              "      <td>5</td>\n",
              "      <td>1</td>\n",
              "      <td>0</td>\n",
              "      <td>1</td>\n",
              "      <td>c</td>\n",
              "      <td>a</td>\n",
              "      <td>1270.0</td>\n",
              "      <td>82.0</td>\n",
              "      <td>31</td>\n",
              "      <td>7</td>\n",
              "      <td>2015</td>\n",
              "      <td>31</td>\n",
              "      <td>0</td>\n",
              "      <td>0.000000</td>\n",
              "      <td>0</td>\n",
              "    </tr>\n",
              "    <tr>\n",
              "      <th>1</th>\n",
              "      <td>2</td>\n",
              "      <td>5</td>\n",
              "      <td>1</td>\n",
              "      <td>0</td>\n",
              "      <td>1</td>\n",
              "      <td>a</td>\n",
              "      <td>a</td>\n",
              "      <td>570.0</td>\n",
              "      <td>92.0</td>\n",
              "      <td>31</td>\n",
              "      <td>7</td>\n",
              "      <td>2015</td>\n",
              "      <td>31</td>\n",
              "      <td>1</td>\n",
              "      <td>64.131148</td>\n",
              "      <td>1</td>\n",
              "    </tr>\n",
              "    <tr>\n",
              "      <th>2</th>\n",
              "      <td>3</td>\n",
              "      <td>5</td>\n",
              "      <td>1</td>\n",
              "      <td>0</td>\n",
              "      <td>1</td>\n",
              "      <td>a</td>\n",
              "      <td>a</td>\n",
              "      <td>14130.0</td>\n",
              "      <td>103.0</td>\n",
              "      <td>31</td>\n",
              "      <td>7</td>\n",
              "      <td>2015</td>\n",
              "      <td>31</td>\n",
              "      <td>1</td>\n",
              "      <td>51.901639</td>\n",
              "      <td>1</td>\n",
              "    </tr>\n",
              "    <tr>\n",
              "      <th>3</th>\n",
              "      <td>4</td>\n",
              "      <td>5</td>\n",
              "      <td>1</td>\n",
              "      <td>0</td>\n",
              "      <td>1</td>\n",
              "      <td>c</td>\n",
              "      <td>c</td>\n",
              "      <td>620.0</td>\n",
              "      <td>70.0</td>\n",
              "      <td>31</td>\n",
              "      <td>7</td>\n",
              "      <td>2015</td>\n",
              "      <td>31</td>\n",
              "      <td>0</td>\n",
              "      <td>0.000000</td>\n",
              "      <td>0</td>\n",
              "    </tr>\n",
              "    <tr>\n",
              "      <th>4</th>\n",
              "      <td>5</td>\n",
              "      <td>5</td>\n",
              "      <td>1</td>\n",
              "      <td>0</td>\n",
              "      <td>1</td>\n",
              "      <td>a</td>\n",
              "      <td>a</td>\n",
              "      <td>29910.0</td>\n",
              "      <td>3.0</td>\n",
              "      <td>31</td>\n",
              "      <td>7</td>\n",
              "      <td>2015</td>\n",
              "      <td>31</td>\n",
              "      <td>0</td>\n",
              "      <td>0.000000</td>\n",
              "      <td>0</td>\n",
              "    </tr>\n",
              "    <tr>\n",
              "      <th>...</th>\n",
              "      <td>...</td>\n",
              "      <td>...</td>\n",
              "      <td>...</td>\n",
              "      <td>...</td>\n",
              "      <td>...</td>\n",
              "      <td>...</td>\n",
              "      <td>...</td>\n",
              "      <td>...</td>\n",
              "      <td>...</td>\n",
              "      <td>...</td>\n",
              "      <td>...</td>\n",
              "      <td>...</td>\n",
              "      <td>...</td>\n",
              "      <td>...</td>\n",
              "      <td>...</td>\n",
              "      <td>...</td>\n",
              "    </tr>\n",
              "    <tr>\n",
              "      <th>1016776</th>\n",
              "      <td>682</td>\n",
              "      <td>2</td>\n",
              "      <td>0</td>\n",
              "      <td>a</td>\n",
              "      <td>1</td>\n",
              "      <td>b</td>\n",
              "      <td>a</td>\n",
              "      <td>150.0</td>\n",
              "      <td>76.0</td>\n",
              "      <td>1</td>\n",
              "      <td>1</td>\n",
              "      <td>2013</td>\n",
              "      <td>1</td>\n",
              "      <td>0</td>\n",
              "      <td>0.000000</td>\n",
              "      <td>0</td>\n",
              "    </tr>\n",
              "    <tr>\n",
              "      <th>1016827</th>\n",
              "      <td>733</td>\n",
              "      <td>2</td>\n",
              "      <td>0</td>\n",
              "      <td>a</td>\n",
              "      <td>1</td>\n",
              "      <td>b</td>\n",
              "      <td>b</td>\n",
              "      <td>860.0</td>\n",
              "      <td>159.0</td>\n",
              "      <td>1</td>\n",
              "      <td>1</td>\n",
              "      <td>2013</td>\n",
              "      <td>1</td>\n",
              "      <td>0</td>\n",
              "      <td>0.000000</td>\n",
              "      <td>0</td>\n",
              "    </tr>\n",
              "    <tr>\n",
              "      <th>1016863</th>\n",
              "      <td>769</td>\n",
              "      <td>2</td>\n",
              "      <td>0</td>\n",
              "      <td>a</td>\n",
              "      <td>1</td>\n",
              "      <td>b</td>\n",
              "      <td>b</td>\n",
              "      <td>840.0</td>\n",
              "      <td>0.0</td>\n",
              "      <td>1</td>\n",
              "      <td>1</td>\n",
              "      <td>2013</td>\n",
              "      <td>1</td>\n",
              "      <td>1</td>\n",
              "      <td>1.213115</td>\n",
              "      <td>1</td>\n",
              "    </tr>\n",
              "    <tr>\n",
              "      <th>1017042</th>\n",
              "      <td>948</td>\n",
              "      <td>2</td>\n",
              "      <td>0</td>\n",
              "      <td>a</td>\n",
              "      <td>1</td>\n",
              "      <td>b</td>\n",
              "      <td>b</td>\n",
              "      <td>1430.0</td>\n",
              "      <td>0.0</td>\n",
              "      <td>1</td>\n",
              "      <td>1</td>\n",
              "      <td>2013</td>\n",
              "      <td>1</td>\n",
              "      <td>0</td>\n",
              "      <td>0.000000</td>\n",
              "      <td>0</td>\n",
              "    </tr>\n",
              "    <tr>\n",
              "      <th>1017190</th>\n",
              "      <td>1097</td>\n",
              "      <td>2</td>\n",
              "      <td>0</td>\n",
              "      <td>a</td>\n",
              "      <td>1</td>\n",
              "      <td>b</td>\n",
              "      <td>b</td>\n",
              "      <td>720.0</td>\n",
              "      <td>130.0</td>\n",
              "      <td>1</td>\n",
              "      <td>1</td>\n",
              "      <td>2013</td>\n",
              "      <td>1</td>\n",
              "      <td>0</td>\n",
              "      <td>0.000000</td>\n",
              "      <td>0</td>\n",
              "    </tr>\n",
              "  </tbody>\n",
              "</table>\n",
              "<p>844392 rows × 16 columns</p>\n",
              "</div>"
            ],
            "text/plain": [
              "         Store  DayOfWeek  Promo  ... Promo2  Promo2Open IsPromo2Month\n",
              "0            1          5      1  ...      0    0.000000             0\n",
              "1            2          5      1  ...      1   64.131148             1\n",
              "2            3          5      1  ...      1   51.901639             1\n",
              "3            4          5      1  ...      0    0.000000             0\n",
              "4            5          5      1  ...      0    0.000000             0\n",
              "...        ...        ...    ...  ...    ...         ...           ...\n",
              "1016776    682          2      0  ...      0    0.000000             0\n",
              "1016827    733          2      0  ...      0    0.000000             0\n",
              "1016863    769          2      0  ...      1    1.213115             1\n",
              "1017042    948          2      0  ...      0    0.000000             0\n",
              "1017190   1097          2      0  ...      0    0.000000             0\n",
              "\n",
              "[844392 rows x 16 columns]"
            ]
          },
          "metadata": {},
          "execution_count": 51
        }
      ]
    },
    {
      "cell_type": "code",
      "metadata": {
        "execution": {
          "iopub.execute_input": "2021-11-17T08:57:36.974161Z",
          "iopub.status.busy": "2021-11-17T08:57:36.973055Z",
          "iopub.status.idle": "2021-11-17T08:57:36.975309Z",
          "shell.execute_reply": "2021-11-17T08:57:36.975787Z",
          "shell.execute_reply.started": "2021-11-17T08:25:20.116003Z"
        },
        "id": "122a8751",
        "papermill": {
          "duration": 0.075631,
          "end_time": "2021-11-17T08:57:36.975988",
          "exception": false,
          "start_time": "2021-11-17T08:57:36.900357",
          "status": "completed"
        },
        "tags": []
      },
      "source": [
        "numeric_cols = ['Store', 'Promo', 'SchoolHoliday', \n",
        "              'CompetitionDistance', 'CompetitionOpen', 'Promo2', 'Promo2Open', 'IsPromo2Month',\n",
        "              'Day', 'Month', 'Year', 'WeekOfYear',  ]\n",
        "categorical_cols = ['DayOfWeek', 'StateHoliday', 'StoreType', 'Assortment']"
      ],
      "id": "122a8751",
      "execution_count": 77,
      "outputs": []
    },
    {
      "cell_type": "markdown",
      "metadata": {
        "id": "cdff153a",
        "papermill": {
          "duration": 0.066627,
          "end_time": "2021-11-17T08:57:37.111062",
          "exception": false,
          "start_time": "2021-11-17T08:57:37.044435",
          "status": "completed"
        },
        "tags": []
      },
      "source": [
        "#### Imputing Missing Numerical Data"
      ],
      "id": "cdff153a"
    },
    {
      "cell_type": "code",
      "metadata": {
        "execution": {
          "iopub.execute_input": "2021-11-17T08:57:37.252162Z",
          "iopub.status.busy": "2021-11-17T08:57:37.251081Z",
          "iopub.status.idle": "2021-11-17T08:57:37.291545Z",
          "shell.execute_reply": "2021-11-17T08:57:37.291020Z",
          "shell.execute_reply.started": "2021-11-17T08:25:20.122422Z"
        },
        "id": "fa0a3651",
        "papermill": {
          "duration": 0.111691,
          "end_time": "2021-11-17T08:57:37.291698",
          "exception": false,
          "start_time": "2021-11-17T08:57:37.180007",
          "status": "completed"
        },
        "tags": [],
        "colab": {
          "base_uri": "https://localhost:8080/"
        },
        "outputId": "e3f6b49e-ba2a-489b-beaf-4f551df2ddd1"
      },
      "source": [
        "inputs[numeric_cols].isna().sum()"
      ],
      "id": "fa0a3651",
      "execution_count": 53,
      "outputs": [
        {
          "output_type": "execute_result",
          "data": {
            "text/plain": [
              "Store                     0\n",
              "Promo                     0\n",
              "SchoolHoliday             0\n",
              "CompetitionDistance    2186\n",
              "CompetitionOpen           0\n",
              "Promo2                    0\n",
              "Promo2Open                0\n",
              "IsPromo2Month             0\n",
              "Day                       0\n",
              "Month                     0\n",
              "Year                      0\n",
              "WeekOfYear                0\n",
              "dtype: int64"
            ]
          },
          "metadata": {},
          "execution_count": 53
        }
      ]
    },
    {
      "cell_type": "code",
      "metadata": {
        "execution": {
          "iopub.execute_input": "2021-11-17T08:57:37.433583Z",
          "iopub.status.busy": "2021-11-17T08:57:37.432770Z",
          "iopub.status.idle": "2021-11-17T08:57:37.444021Z",
          "shell.execute_reply": "2021-11-17T08:57:37.444509Z",
          "shell.execute_reply.started": "2021-11-17T08:25:20.176413Z"
        },
        "id": "ef10a7e7",
        "papermill": {
          "duration": 0.084517,
          "end_time": "2021-11-17T08:57:37.444726",
          "exception": false,
          "start_time": "2021-11-17T08:57:37.360209",
          "status": "completed"
        },
        "tags": [],
        "colab": {
          "base_uri": "https://localhost:8080/"
        },
        "outputId": "a144e3f8-0035-4951-9aea-a1123f966e45"
      },
      "source": [
        "test_inputs[numeric_cols].isna().sum()"
      ],
      "id": "ef10a7e7",
      "execution_count": 54,
      "outputs": [
        {
          "output_type": "execute_result",
          "data": {
            "text/plain": [
              "Store                   0\n",
              "Promo                   0\n",
              "SchoolHoliday           0\n",
              "CompetitionDistance    96\n",
              "CompetitionOpen         0\n",
              "Promo2                  0\n",
              "Promo2Open              0\n",
              "IsPromo2Month           0\n",
              "Day                     0\n",
              "Month                   0\n",
              "Year                    0\n",
              "WeekOfYear              0\n",
              "dtype: int64"
            ]
          },
          "metadata": {},
          "execution_count": 54
        }
      ]
    },
    {
      "cell_type": "code",
      "metadata": {
        "execution": {
          "iopub.execute_input": "2021-11-17T08:57:37.590054Z",
          "iopub.status.busy": "2021-11-17T08:57:37.587973Z",
          "iopub.status.idle": "2021-11-17T08:57:37.595951Z",
          "shell.execute_reply": "2021-11-17T08:57:37.596509Z",
          "shell.execute_reply.started": "2021-11-17T08:25:20.188860Z"
        },
        "id": "94a45e31",
        "papermill": {
          "duration": 0.083163,
          "end_time": "2021-11-17T08:57:37.596697",
          "exception": false,
          "start_time": "2021-11-17T08:57:37.513534",
          "status": "completed"
        },
        "tags": [],
        "colab": {
          "base_uri": "https://localhost:8080/"
        },
        "outputId": "800c7c99-a37f-4083-993a-9e501f3bbcf8"
      },
      "source": [
        "max_distance = inputs.CompetitionDistance.max()\n",
        "max_distance"
      ],
      "id": "94a45e31",
      "execution_count": 55,
      "outputs": [
        {
          "output_type": "execute_result",
          "data": {
            "text/plain": [
              "75860.0"
            ]
          },
          "metadata": {},
          "execution_count": 55
        }
      ]
    },
    {
      "cell_type": "code",
      "metadata": {
        "execution": {
          "iopub.execute_input": "2021-11-17T08:57:37.739312Z",
          "iopub.status.busy": "2021-11-17T08:57:37.738607Z",
          "iopub.status.idle": "2021-11-17T08:57:37.745753Z",
          "shell.execute_reply": "2021-11-17T08:57:37.746310Z",
          "shell.execute_reply.started": "2021-11-17T08:25:20.197548Z"
        },
        "id": "86a91cb8",
        "papermill": {
          "duration": 0.080459,
          "end_time": "2021-11-17T08:57:37.746530",
          "exception": false,
          "start_time": "2021-11-17T08:57:37.666071",
          "status": "completed"
        },
        "tags": []
      },
      "source": [
        "inputs['CompetitionDistance'].fillna(max_distance * 2, inplace=True)\n",
        "test_inputs['CompetitionDistance'].fillna(max_distance * 2, inplace=True)"
      ],
      "id": "86a91cb8",
      "execution_count": 56,
      "outputs": []
    },
    {
      "cell_type": "code",
      "metadata": {
        "execution": {
          "iopub.execute_input": "2021-11-17T08:57:37.916700Z",
          "iopub.status.busy": "2021-11-17T08:57:37.915764Z",
          "iopub.status.idle": "2021-11-17T08:57:37.938257Z",
          "shell.execute_reply": "2021-11-17T08:57:37.938798Z",
          "shell.execute_reply.started": "2021-11-17T08:25:20.208229Z"
        },
        "id": "4a4ff6b8",
        "papermill": {
          "duration": 0.119629,
          "end_time": "2021-11-17T08:57:37.939018",
          "exception": false,
          "start_time": "2021-11-17T08:57:37.819389",
          "status": "completed"
        },
        "tags": [],
        "colab": {
          "base_uri": "https://localhost:8080/"
        },
        "outputId": "f2f79cb5-cc90-43bd-f205-33482aa91ac8"
      },
      "source": [
        "inputs[numeric_cols].isna().sum()"
      ],
      "id": "4a4ff6b8",
      "execution_count": 57,
      "outputs": [
        {
          "output_type": "execute_result",
          "data": {
            "text/plain": [
              "Store                  0\n",
              "Promo                  0\n",
              "SchoolHoliday          0\n",
              "CompetitionDistance    0\n",
              "CompetitionOpen        0\n",
              "Promo2                 0\n",
              "Promo2Open             0\n",
              "IsPromo2Month          0\n",
              "Day                    0\n",
              "Month                  0\n",
              "Year                   0\n",
              "WeekOfYear             0\n",
              "dtype: int64"
            ]
          },
          "metadata": {},
          "execution_count": 57
        }
      ]
    },
    {
      "cell_type": "code",
      "metadata": {
        "execution": {
          "iopub.execute_input": "2021-11-17T08:57:38.085404Z",
          "iopub.status.busy": "2021-11-17T08:57:38.084645Z",
          "iopub.status.idle": "2021-11-17T08:57:38.094840Z",
          "shell.execute_reply": "2021-11-17T08:57:38.095527Z",
          "shell.execute_reply.started": "2021-11-17T08:25:20.264052Z"
        },
        "id": "3cea28a5",
        "papermill": {
          "duration": 0.087036,
          "end_time": "2021-11-17T08:57:38.095758",
          "exception": false,
          "start_time": "2021-11-17T08:57:38.008722",
          "status": "completed"
        },
        "tags": [],
        "colab": {
          "base_uri": "https://localhost:8080/"
        },
        "outputId": "f1f148e6-5734-4fe8-9a2b-8e556375a3f7"
      },
      "source": [
        "test_inputs[numeric_cols].isna().sum()"
      ],
      "id": "3cea28a5",
      "execution_count": 58,
      "outputs": [
        {
          "output_type": "execute_result",
          "data": {
            "text/plain": [
              "Store                  0\n",
              "Promo                  0\n",
              "SchoolHoliday          0\n",
              "CompetitionDistance    0\n",
              "CompetitionOpen        0\n",
              "Promo2                 0\n",
              "Promo2Open             0\n",
              "IsPromo2Month          0\n",
              "Day                    0\n",
              "Month                  0\n",
              "Year                   0\n",
              "WeekOfYear             0\n",
              "dtype: int64"
            ]
          },
          "metadata": {},
          "execution_count": 58
        }
      ]
    },
    {
      "cell_type": "markdown",
      "metadata": {
        "id": "f60f8f2b",
        "papermill": {
          "duration": 0.068927,
          "end_time": "2021-11-17T08:57:38.233576",
          "exception": false,
          "start_time": "2021-11-17T08:57:38.164649",
          "status": "completed"
        },
        "tags": []
      },
      "source": [
        "#### Scaling Numeric Values"
      ],
      "id": "f60f8f2b"
    },
    {
      "cell_type": "code",
      "metadata": {
        "execution": {
          "iopub.execute_input": "2021-11-17T08:57:38.373382Z",
          "iopub.status.busy": "2021-11-17T08:57:38.372688Z",
          "iopub.status.idle": "2021-11-17T08:57:38.522881Z",
          "shell.execute_reply": "2021-11-17T08:57:38.523551Z",
          "shell.execute_reply.started": "2021-11-17T08:25:20.277419Z"
        },
        "id": "33bd8703",
        "papermill": {
          "duration": 0.221844,
          "end_time": "2021-11-17T08:57:38.523739",
          "exception": false,
          "start_time": "2021-11-17T08:57:38.301895",
          "status": "completed"
        },
        "tags": []
      },
      "source": [
        "from sklearn.preprocessing import MinMaxScaler"
      ],
      "id": "33bd8703",
      "execution_count": 59,
      "outputs": []
    },
    {
      "cell_type": "code",
      "metadata": {
        "execution": {
          "iopub.execute_input": "2021-11-17T08:57:38.668341Z",
          "iopub.status.busy": "2021-11-17T08:57:38.667605Z",
          "iopub.status.idle": "2021-11-17T08:57:38.671323Z",
          "shell.execute_reply": "2021-11-17T08:57:38.671751Z",
          "shell.execute_reply.started": "2021-11-17T08:25:20.364387Z"
        },
        "id": "df51d31f",
        "papermill": {
          "duration": 0.07558,
          "end_time": "2021-11-17T08:57:38.671947",
          "exception": false,
          "start_time": "2021-11-17T08:57:38.596367",
          "status": "completed"
        },
        "tags": []
      },
      "source": [
        "scaler = MinMaxScaler()"
      ],
      "id": "df51d31f",
      "execution_count": 60,
      "outputs": []
    },
    {
      "cell_type": "code",
      "metadata": {
        "execution": {
          "iopub.execute_input": "2021-11-17T08:57:38.830242Z",
          "iopub.status.busy": "2021-11-17T08:57:38.829519Z",
          "iopub.status.idle": "2021-11-17T08:57:38.961660Z",
          "shell.execute_reply": "2021-11-17T08:57:38.962170Z",
          "shell.execute_reply.started": "2021-11-17T08:25:20.369248Z"
        },
        "id": "60330313",
        "papermill": {
          "duration": 0.221003,
          "end_time": "2021-11-17T08:57:38.962375",
          "exception": false,
          "start_time": "2021-11-17T08:57:38.741372",
          "status": "completed"
        },
        "tags": [],
        "colab": {
          "base_uri": "https://localhost:8080/"
        },
        "outputId": "b461dbf8-4528-4349-d418-28d0d6081dd6"
      },
      "source": [
        "scaler.fit(inputs[numeric_cols])"
      ],
      "id": "60330313",
      "execution_count": 61,
      "outputs": [
        {
          "output_type": "execute_result",
          "data": {
            "text/plain": [
              "MinMaxScaler()"
            ]
          },
          "metadata": {},
          "execution_count": 61
        }
      ]
    },
    {
      "cell_type": "code",
      "metadata": {
        "execution": {
          "iopub.execute_input": "2021-11-17T08:57:39.105924Z",
          "iopub.status.busy": "2021-11-17T08:57:39.104858Z",
          "iopub.status.idle": "2021-11-17T08:57:39.742790Z",
          "shell.execute_reply": "2021-11-17T08:57:39.742219Z",
          "shell.execute_reply.started": "2021-11-17T08:25:20.521950Z"
        },
        "id": "2c39cea4",
        "papermill": {
          "duration": 0.710255,
          "end_time": "2021-11-17T08:57:39.742953",
          "exception": false,
          "start_time": "2021-11-17T08:57:39.032698",
          "status": "completed"
        },
        "tags": []
      },
      "source": [
        "inputs[numeric_cols] = scaler.transform(inputs[numeric_cols])\n",
        "test_inputs[numeric_cols] = scaler.transform(test_inputs[numeric_cols])"
      ],
      "id": "2c39cea4",
      "execution_count": 62,
      "outputs": []
    },
    {
      "cell_type": "code",
      "metadata": {
        "execution": {
          "iopub.execute_input": "2021-11-17T08:57:39.895386Z",
          "iopub.status.busy": "2021-11-17T08:57:39.894297Z",
          "iopub.status.idle": "2021-11-17T08:57:39.922168Z",
          "shell.execute_reply": "2021-11-17T08:57:39.921382Z",
          "shell.execute_reply.started": "2021-11-17T08:25:21.337580Z"
        },
        "id": "bb5324f1",
        "papermill": {
          "duration": 0.106254,
          "end_time": "2021-11-17T08:57:39.922342",
          "exception": false,
          "start_time": "2021-11-17T08:57:39.816088",
          "status": "completed"
        },
        "tags": [],
        "colab": {
          "base_uri": "https://localhost:8080/",
          "height": 444
        },
        "outputId": "f1562508-b922-4101-d03b-10d7f2d0a9e2"
      },
      "source": [
        "inputs"
      ],
      "id": "bb5324f1",
      "execution_count": 63,
      "outputs": [
        {
          "output_type": "execute_result",
          "data": {
            "text/html": [
              "<div>\n",
              "<style scoped>\n",
              "    .dataframe tbody tr th:only-of-type {\n",
              "        vertical-align: middle;\n",
              "    }\n",
              "\n",
              "    .dataframe tbody tr th {\n",
              "        vertical-align: top;\n",
              "    }\n",
              "\n",
              "    .dataframe thead th {\n",
              "        text-align: right;\n",
              "    }\n",
              "</style>\n",
              "<table border=\"1\" class=\"dataframe\">\n",
              "  <thead>\n",
              "    <tr style=\"text-align: right;\">\n",
              "      <th></th>\n",
              "      <th>Store</th>\n",
              "      <th>DayOfWeek</th>\n",
              "      <th>Promo</th>\n",
              "      <th>StateHoliday</th>\n",
              "      <th>SchoolHoliday</th>\n",
              "      <th>StoreType</th>\n",
              "      <th>Assortment</th>\n",
              "      <th>CompetitionDistance</th>\n",
              "      <th>CompetitionOpen</th>\n",
              "      <th>Day</th>\n",
              "      <th>Month</th>\n",
              "      <th>Year</th>\n",
              "      <th>WeekOfYear</th>\n",
              "      <th>Promo2</th>\n",
              "      <th>Promo2Open</th>\n",
              "      <th>IsPromo2Month</th>\n",
              "    </tr>\n",
              "  </thead>\n",
              "  <tbody>\n",
              "    <tr>\n",
              "      <th>0</th>\n",
              "      <td>0.000000</td>\n",
              "      <td>5</td>\n",
              "      <td>1.0</td>\n",
              "      <td>0</td>\n",
              "      <td>1.0</td>\n",
              "      <td>c</td>\n",
              "      <td>a</td>\n",
              "      <td>0.008240</td>\n",
              "      <td>0.059163</td>\n",
              "      <td>1.0</td>\n",
              "      <td>0.545455</td>\n",
              "      <td>1.0</td>\n",
              "      <td>0.588235</td>\n",
              "      <td>0.0</td>\n",
              "      <td>0.000000</td>\n",
              "      <td>0.0</td>\n",
              "    </tr>\n",
              "    <tr>\n",
              "      <th>1</th>\n",
              "      <td>0.000898</td>\n",
              "      <td>5</td>\n",
              "      <td>1.0</td>\n",
              "      <td>0</td>\n",
              "      <td>1.0</td>\n",
              "      <td>a</td>\n",
              "      <td>a</td>\n",
              "      <td>0.003626</td>\n",
              "      <td>0.066378</td>\n",
              "      <td>1.0</td>\n",
              "      <td>0.545455</td>\n",
              "      <td>1.0</td>\n",
              "      <td>0.588235</td>\n",
              "      <td>1.0</td>\n",
              "      <td>0.890710</td>\n",
              "      <td>1.0</td>\n",
              "    </tr>\n",
              "    <tr>\n",
              "      <th>2</th>\n",
              "      <td>0.001795</td>\n",
              "      <td>5</td>\n",
              "      <td>1.0</td>\n",
              "      <td>0</td>\n",
              "      <td>1.0</td>\n",
              "      <td>a</td>\n",
              "      <td>a</td>\n",
              "      <td>0.093013</td>\n",
              "      <td>0.074315</td>\n",
              "      <td>1.0</td>\n",
              "      <td>0.545455</td>\n",
              "      <td>1.0</td>\n",
              "      <td>0.588235</td>\n",
              "      <td>1.0</td>\n",
              "      <td>0.720856</td>\n",
              "      <td>1.0</td>\n",
              "    </tr>\n",
              "    <tr>\n",
              "      <th>3</th>\n",
              "      <td>0.002693</td>\n",
              "      <td>5</td>\n",
              "      <td>1.0</td>\n",
              "      <td>0</td>\n",
              "      <td>1.0</td>\n",
              "      <td>c</td>\n",
              "      <td>c</td>\n",
              "      <td>0.003955</td>\n",
              "      <td>0.050505</td>\n",
              "      <td>1.0</td>\n",
              "      <td>0.545455</td>\n",
              "      <td>1.0</td>\n",
              "      <td>0.588235</td>\n",
              "      <td>0.0</td>\n",
              "      <td>0.000000</td>\n",
              "      <td>0.0</td>\n",
              "    </tr>\n",
              "    <tr>\n",
              "      <th>4</th>\n",
              "      <td>0.003591</td>\n",
              "      <td>5</td>\n",
              "      <td>1.0</td>\n",
              "      <td>0</td>\n",
              "      <td>1.0</td>\n",
              "      <td>a</td>\n",
              "      <td>a</td>\n",
              "      <td>0.197034</td>\n",
              "      <td>0.002165</td>\n",
              "      <td>1.0</td>\n",
              "      <td>0.545455</td>\n",
              "      <td>1.0</td>\n",
              "      <td>0.588235</td>\n",
              "      <td>0.0</td>\n",
              "      <td>0.000000</td>\n",
              "      <td>0.0</td>\n",
              "    </tr>\n",
              "    <tr>\n",
              "      <th>...</th>\n",
              "      <td>...</td>\n",
              "      <td>...</td>\n",
              "      <td>...</td>\n",
              "      <td>...</td>\n",
              "      <td>...</td>\n",
              "      <td>...</td>\n",
              "      <td>...</td>\n",
              "      <td>...</td>\n",
              "      <td>...</td>\n",
              "      <td>...</td>\n",
              "      <td>...</td>\n",
              "      <td>...</td>\n",
              "      <td>...</td>\n",
              "      <td>...</td>\n",
              "      <td>...</td>\n",
              "      <td>...</td>\n",
              "    </tr>\n",
              "    <tr>\n",
              "      <th>1016776</th>\n",
              "      <td>0.611311</td>\n",
              "      <td>2</td>\n",
              "      <td>0.0</td>\n",
              "      <td>a</td>\n",
              "      <td>1.0</td>\n",
              "      <td>b</td>\n",
              "      <td>a</td>\n",
              "      <td>0.000857</td>\n",
              "      <td>0.054834</td>\n",
              "      <td>0.0</td>\n",
              "      <td>0.000000</td>\n",
              "      <td>0.0</td>\n",
              "      <td>0.000000</td>\n",
              "      <td>0.0</td>\n",
              "      <td>0.000000</td>\n",
              "      <td>0.0</td>\n",
              "    </tr>\n",
              "    <tr>\n",
              "      <th>1016827</th>\n",
              "      <td>0.657092</td>\n",
              "      <td>2</td>\n",
              "      <td>0.0</td>\n",
              "      <td>a</td>\n",
              "      <td>1.0</td>\n",
              "      <td>b</td>\n",
              "      <td>b</td>\n",
              "      <td>0.005537</td>\n",
              "      <td>0.114719</td>\n",
              "      <td>0.0</td>\n",
              "      <td>0.000000</td>\n",
              "      <td>0.0</td>\n",
              "      <td>0.000000</td>\n",
              "      <td>0.0</td>\n",
              "      <td>0.000000</td>\n",
              "      <td>0.0</td>\n",
              "    </tr>\n",
              "    <tr>\n",
              "      <th>1016863</th>\n",
              "      <td>0.689408</td>\n",
              "      <td>2</td>\n",
              "      <td>0.0</td>\n",
              "      <td>a</td>\n",
              "      <td>1.0</td>\n",
              "      <td>b</td>\n",
              "      <td>b</td>\n",
              "      <td>0.005405</td>\n",
              "      <td>0.000000</td>\n",
              "      <td>0.0</td>\n",
              "      <td>0.000000</td>\n",
              "      <td>0.0</td>\n",
              "      <td>0.000000</td>\n",
              "      <td>1.0</td>\n",
              "      <td>0.016849</td>\n",
              "      <td>1.0</td>\n",
              "    </tr>\n",
              "    <tr>\n",
              "      <th>1017042</th>\n",
              "      <td>0.850090</td>\n",
              "      <td>2</td>\n",
              "      <td>0.0</td>\n",
              "      <td>a</td>\n",
              "      <td>1.0</td>\n",
              "      <td>b</td>\n",
              "      <td>b</td>\n",
              "      <td>0.009295</td>\n",
              "      <td>0.000000</td>\n",
              "      <td>0.0</td>\n",
              "      <td>0.000000</td>\n",
              "      <td>0.0</td>\n",
              "      <td>0.000000</td>\n",
              "      <td>0.0</td>\n",
              "      <td>0.000000</td>\n",
              "      <td>0.0</td>\n",
              "    </tr>\n",
              "    <tr>\n",
              "      <th>1017190</th>\n",
              "      <td>0.983842</td>\n",
              "      <td>2</td>\n",
              "      <td>0.0</td>\n",
              "      <td>a</td>\n",
              "      <td>1.0</td>\n",
              "      <td>b</td>\n",
              "      <td>b</td>\n",
              "      <td>0.004614</td>\n",
              "      <td>0.093795</td>\n",
              "      <td>0.0</td>\n",
              "      <td>0.000000</td>\n",
              "      <td>0.0</td>\n",
              "      <td>0.000000</td>\n",
              "      <td>0.0</td>\n",
              "      <td>0.000000</td>\n",
              "      <td>0.0</td>\n",
              "    </tr>\n",
              "  </tbody>\n",
              "</table>\n",
              "<p>844392 rows × 16 columns</p>\n",
              "</div>"
            ],
            "text/plain": [
              "            Store  DayOfWeek  Promo  ... Promo2  Promo2Open IsPromo2Month\n",
              "0        0.000000          5    1.0  ...    0.0    0.000000           0.0\n",
              "1        0.000898          5    1.0  ...    1.0    0.890710           1.0\n",
              "2        0.001795          5    1.0  ...    1.0    0.720856           1.0\n",
              "3        0.002693          5    1.0  ...    0.0    0.000000           0.0\n",
              "4        0.003591          5    1.0  ...    0.0    0.000000           0.0\n",
              "...           ...        ...    ...  ...    ...         ...           ...\n",
              "1016776  0.611311          2    0.0  ...    0.0    0.000000           0.0\n",
              "1016827  0.657092          2    0.0  ...    0.0    0.000000           0.0\n",
              "1016863  0.689408          2    0.0  ...    1.0    0.016849           1.0\n",
              "1017042  0.850090          2    0.0  ...    0.0    0.000000           0.0\n",
              "1017190  0.983842          2    0.0  ...    0.0    0.000000           0.0\n",
              "\n",
              "[844392 rows x 16 columns]"
            ]
          },
          "metadata": {},
          "execution_count": 63
        }
      ]
    },
    {
      "cell_type": "markdown",
      "metadata": {
        "id": "ba2c5be5",
        "papermill": {
          "duration": 0.070565,
          "end_time": "2021-11-17T08:57:40.063156",
          "exception": false,
          "start_time": "2021-11-17T08:57:39.992591",
          "status": "completed"
        },
        "tags": []
      },
      "source": [
        "#### Encoding Categorical Data"
      ],
      "id": "ba2c5be5"
    },
    {
      "cell_type": "code",
      "metadata": {
        "execution": {
          "iopub.execute_input": "2021-11-17T08:57:40.211635Z",
          "iopub.status.busy": "2021-11-17T08:57:40.210659Z",
          "iopub.status.idle": "2021-11-17T08:57:40.214653Z",
          "shell.execute_reply": "2021-11-17T08:57:40.214161Z",
          "shell.execute_reply.started": "2021-11-17T08:25:21.370746Z"
        },
        "id": "f5ec559c",
        "papermill": {
          "duration": 0.080646,
          "end_time": "2021-11-17T08:57:40.214819",
          "exception": false,
          "start_time": "2021-11-17T08:57:40.134173",
          "status": "completed"
        },
        "tags": []
      },
      "source": [
        "from sklearn.preprocessing import OneHotEncoder"
      ],
      "id": "f5ec559c",
      "execution_count": 65,
      "outputs": []
    },
    {
      "cell_type": "code",
      "metadata": {
        "execution": {
          "iopub.execute_input": "2021-11-17T08:57:40.364687Z",
          "iopub.status.busy": "2021-11-17T08:57:40.363691Z",
          "iopub.status.idle": "2021-11-17T08:57:40.368034Z",
          "shell.execute_reply": "2021-11-17T08:57:40.367448Z",
          "shell.execute_reply.started": "2021-11-17T08:25:21.375195Z"
        },
        "id": "ff1b98ac",
        "papermill": {
          "duration": 0.081324,
          "end_time": "2021-11-17T08:57:40.368199",
          "exception": false,
          "start_time": "2021-11-17T08:57:40.286875",
          "status": "completed"
        },
        "tags": []
      },
      "source": [
        "encoder = OneHotEncoder(sparse=False, handle_unknown='ignore')"
      ],
      "id": "ff1b98ac",
      "execution_count": 68,
      "outputs": []
    },
    {
      "cell_type": "code",
      "metadata": {
        "execution": {
          "iopub.execute_input": "2021-11-17T08:57:40.519126Z",
          "iopub.status.busy": "2021-11-17T08:57:40.517447Z",
          "iopub.status.idle": "2021-11-17T08:57:40.703645Z",
          "shell.execute_reply": "2021-11-17T08:57:40.703010Z",
          "shell.execute_reply.started": "2021-11-17T08:25:21.385904Z"
        },
        "id": "44b7b0d9",
        "papermill": {
          "duration": 0.26544,
          "end_time": "2021-11-17T08:57:40.703790",
          "exception": false,
          "start_time": "2021-11-17T08:57:40.438350",
          "status": "completed"
        },
        "tags": [],
        "colab": {
          "base_uri": "https://localhost:8080/",
          "height": 432
        },
        "outputId": "cd91633d-efd1-4339-aa63-3f01642bcdbe"
      },
      "source": [
        "encoder.fit(inputs[categorical_cols])"
      ],
      "id": "44b7b0d9",
      "execution_count": 78,
      "outputs": [
        {
          "output_type": "error",
          "ename": "TypeError",
          "evalue": "ignored",
          "traceback": [
            "\u001b[0;31m---------------------------------------------------------------------------\u001b[0m",
            "\u001b[0;31mTypeError\u001b[0m                                 Traceback (most recent call last)",
            "\u001b[0;32m/usr/local/lib/python3.7/dist-packages/sklearn/utils/_encode.py\u001b[0m in \u001b[0;36m_unique_python\u001b[0;34m(values, return_inverse)\u001b[0m\n\u001b[1;32m    134\u001b[0m \u001b[0;34m\u001b[0m\u001b[0m\n\u001b[0;32m--> 135\u001b[0;31m         \u001b[0muniques\u001b[0m \u001b[0;34m=\u001b[0m \u001b[0msorted\u001b[0m\u001b[0;34m(\u001b[0m\u001b[0muniques_set\u001b[0m\u001b[0;34m)\u001b[0m\u001b[0;34m\u001b[0m\u001b[0;34m\u001b[0m\u001b[0m\n\u001b[0m\u001b[1;32m    136\u001b[0m         \u001b[0muniques\u001b[0m\u001b[0;34m.\u001b[0m\u001b[0mextend\u001b[0m\u001b[0;34m(\u001b[0m\u001b[0mmissing_values\u001b[0m\u001b[0;34m.\u001b[0m\u001b[0mto_list\u001b[0m\u001b[0;34m(\u001b[0m\u001b[0;34m)\u001b[0m\u001b[0;34m)\u001b[0m\u001b[0;34m\u001b[0m\u001b[0;34m\u001b[0m\u001b[0m\n",
            "\u001b[0;31mTypeError\u001b[0m: '<' not supported between instances of 'str' and 'int'",
            "\nDuring handling of the above exception, another exception occurred:\n",
            "\u001b[0;31mTypeError\u001b[0m                                 Traceback (most recent call last)",
            "\u001b[0;32m<ipython-input-78-5d536de7d57f>\u001b[0m in \u001b[0;36m<module>\u001b[0;34m()\u001b[0m\n\u001b[0;32m----> 1\u001b[0;31m \u001b[0mencoder\u001b[0m\u001b[0;34m.\u001b[0m\u001b[0mfit\u001b[0m\u001b[0;34m(\u001b[0m\u001b[0minputs\u001b[0m\u001b[0;34m[\u001b[0m\u001b[0mcategorical_cols\u001b[0m\u001b[0;34m]\u001b[0m\u001b[0;34m)\u001b[0m\u001b[0;34m\u001b[0m\u001b[0;34m\u001b[0m\u001b[0m\n\u001b[0m",
            "\u001b[0;32m/usr/local/lib/python3.7/dist-packages/sklearn/preprocessing/_encoders.py\u001b[0m in \u001b[0;36mfit\u001b[0;34m(self, X, y)\u001b[0m\n\u001b[1;32m    459\u001b[0m         \"\"\"\n\u001b[1;32m    460\u001b[0m         \u001b[0mself\u001b[0m\u001b[0;34m.\u001b[0m\u001b[0m_validate_keywords\u001b[0m\u001b[0;34m(\u001b[0m\u001b[0;34m)\u001b[0m\u001b[0;34m\u001b[0m\u001b[0;34m\u001b[0m\u001b[0m\n\u001b[0;32m--> 461\u001b[0;31m         \u001b[0mself\u001b[0m\u001b[0;34m.\u001b[0m\u001b[0m_fit\u001b[0m\u001b[0;34m(\u001b[0m\u001b[0mX\u001b[0m\u001b[0;34m,\u001b[0m \u001b[0mhandle_unknown\u001b[0m\u001b[0;34m=\u001b[0m\u001b[0mself\u001b[0m\u001b[0;34m.\u001b[0m\u001b[0mhandle_unknown\u001b[0m\u001b[0;34m,\u001b[0m \u001b[0mforce_all_finite\u001b[0m\u001b[0;34m=\u001b[0m\u001b[0;34m\"allow-nan\"\u001b[0m\u001b[0;34m)\u001b[0m\u001b[0;34m\u001b[0m\u001b[0;34m\u001b[0m\u001b[0m\n\u001b[0m\u001b[1;32m    462\u001b[0m         \u001b[0mself\u001b[0m\u001b[0;34m.\u001b[0m\u001b[0mdrop_idx_\u001b[0m \u001b[0;34m=\u001b[0m \u001b[0mself\u001b[0m\u001b[0;34m.\u001b[0m\u001b[0m_compute_drop_idx\u001b[0m\u001b[0;34m(\u001b[0m\u001b[0;34m)\u001b[0m\u001b[0;34m\u001b[0m\u001b[0;34m\u001b[0m\u001b[0m\n\u001b[1;32m    463\u001b[0m         \u001b[0;32mreturn\u001b[0m \u001b[0mself\u001b[0m\u001b[0;34m\u001b[0m\u001b[0;34m\u001b[0m\u001b[0m\n",
            "\u001b[0;32m/usr/local/lib/python3.7/dist-packages/sklearn/preprocessing/_encoders.py\u001b[0m in \u001b[0;36m_fit\u001b[0;34m(self, X, handle_unknown, force_all_finite)\u001b[0m\n\u001b[1;32m     92\u001b[0m             \u001b[0mXi\u001b[0m \u001b[0;34m=\u001b[0m \u001b[0mX_list\u001b[0m\u001b[0;34m[\u001b[0m\u001b[0mi\u001b[0m\u001b[0;34m]\u001b[0m\u001b[0;34m\u001b[0m\u001b[0;34m\u001b[0m\u001b[0m\n\u001b[1;32m     93\u001b[0m             \u001b[0;32mif\u001b[0m \u001b[0mself\u001b[0m\u001b[0;34m.\u001b[0m\u001b[0mcategories\u001b[0m \u001b[0;34m==\u001b[0m \u001b[0;34m\"auto\"\u001b[0m\u001b[0;34m:\u001b[0m\u001b[0;34m\u001b[0m\u001b[0;34m\u001b[0m\u001b[0m\n\u001b[0;32m---> 94\u001b[0;31m                 \u001b[0mcats\u001b[0m \u001b[0;34m=\u001b[0m \u001b[0m_unique\u001b[0m\u001b[0;34m(\u001b[0m\u001b[0mXi\u001b[0m\u001b[0;34m)\u001b[0m\u001b[0;34m\u001b[0m\u001b[0;34m\u001b[0m\u001b[0m\n\u001b[0m\u001b[1;32m     95\u001b[0m             \u001b[0;32melse\u001b[0m\u001b[0;34m:\u001b[0m\u001b[0;34m\u001b[0m\u001b[0;34m\u001b[0m\u001b[0m\n\u001b[1;32m     96\u001b[0m                 \u001b[0mcats\u001b[0m \u001b[0;34m=\u001b[0m \u001b[0mnp\u001b[0m\u001b[0;34m.\u001b[0m\u001b[0marray\u001b[0m\u001b[0;34m(\u001b[0m\u001b[0mself\u001b[0m\u001b[0;34m.\u001b[0m\u001b[0mcategories\u001b[0m\u001b[0;34m[\u001b[0m\u001b[0mi\u001b[0m\u001b[0;34m]\u001b[0m\u001b[0;34m,\u001b[0m \u001b[0mdtype\u001b[0m\u001b[0;34m=\u001b[0m\u001b[0mXi\u001b[0m\u001b[0;34m.\u001b[0m\u001b[0mdtype\u001b[0m\u001b[0;34m)\u001b[0m\u001b[0;34m\u001b[0m\u001b[0;34m\u001b[0m\u001b[0m\n",
            "\u001b[0;32m/usr/local/lib/python3.7/dist-packages/sklearn/utils/_encode.py\u001b[0m in \u001b[0;36m_unique\u001b[0;34m(values, return_inverse)\u001b[0m\n\u001b[1;32m     29\u001b[0m     \"\"\"\n\u001b[1;32m     30\u001b[0m     \u001b[0;32mif\u001b[0m \u001b[0mvalues\u001b[0m\u001b[0;34m.\u001b[0m\u001b[0mdtype\u001b[0m \u001b[0;34m==\u001b[0m \u001b[0mobject\u001b[0m\u001b[0;34m:\u001b[0m\u001b[0;34m\u001b[0m\u001b[0;34m\u001b[0m\u001b[0m\n\u001b[0;32m---> 31\u001b[0;31m         \u001b[0;32mreturn\u001b[0m \u001b[0m_unique_python\u001b[0m\u001b[0;34m(\u001b[0m\u001b[0mvalues\u001b[0m\u001b[0;34m,\u001b[0m \u001b[0mreturn_inverse\u001b[0m\u001b[0;34m=\u001b[0m\u001b[0mreturn_inverse\u001b[0m\u001b[0;34m)\u001b[0m\u001b[0;34m\u001b[0m\u001b[0;34m\u001b[0m\u001b[0m\n\u001b[0m\u001b[1;32m     32\u001b[0m     \u001b[0;31m# numerical\u001b[0m\u001b[0;34m\u001b[0m\u001b[0;34m\u001b[0m\u001b[0;34m\u001b[0m\u001b[0m\n\u001b[1;32m     33\u001b[0m     \u001b[0mout\u001b[0m \u001b[0;34m=\u001b[0m \u001b[0mnp\u001b[0m\u001b[0;34m.\u001b[0m\u001b[0munique\u001b[0m\u001b[0;34m(\u001b[0m\u001b[0mvalues\u001b[0m\u001b[0;34m,\u001b[0m \u001b[0mreturn_inverse\u001b[0m\u001b[0;34m=\u001b[0m\u001b[0mreturn_inverse\u001b[0m\u001b[0;34m)\u001b[0m\u001b[0;34m\u001b[0m\u001b[0;34m\u001b[0m\u001b[0m\n",
            "\u001b[0;32m/usr/local/lib/python3.7/dist-packages/sklearn/utils/_encode.py\u001b[0m in \u001b[0;36m_unique_python\u001b[0;34m(values, return_inverse)\u001b[0m\n\u001b[1;32m    139\u001b[0m         \u001b[0mtypes\u001b[0m \u001b[0;34m=\u001b[0m \u001b[0msorted\u001b[0m\u001b[0;34m(\u001b[0m\u001b[0mt\u001b[0m\u001b[0;34m.\u001b[0m\u001b[0m__qualname__\u001b[0m \u001b[0;32mfor\u001b[0m \u001b[0mt\u001b[0m \u001b[0;32min\u001b[0m \u001b[0mset\u001b[0m\u001b[0;34m(\u001b[0m\u001b[0mtype\u001b[0m\u001b[0;34m(\u001b[0m\u001b[0mv\u001b[0m\u001b[0;34m)\u001b[0m \u001b[0;32mfor\u001b[0m \u001b[0mv\u001b[0m \u001b[0;32min\u001b[0m \u001b[0mvalues\u001b[0m\u001b[0;34m)\u001b[0m\u001b[0;34m)\u001b[0m\u001b[0;34m\u001b[0m\u001b[0;34m\u001b[0m\u001b[0m\n\u001b[1;32m    140\u001b[0m         raise TypeError(\n\u001b[0;32m--> 141\u001b[0;31m             \u001b[0;34m\"Encoders require their input to be uniformly \"\u001b[0m\u001b[0;34m\u001b[0m\u001b[0;34m\u001b[0m\u001b[0m\n\u001b[0m\u001b[1;32m    142\u001b[0m             \u001b[0;34mf\"strings or numbers. Got {types}\"\u001b[0m\u001b[0;34m\u001b[0m\u001b[0;34m\u001b[0m\u001b[0m\n\u001b[1;32m    143\u001b[0m         )\n",
            "\u001b[0;31mTypeError\u001b[0m: Encoders require their input to be uniformly strings or numbers. Got ['int', 'str']"
          ]
        }
      ]
    },
    {
      "cell_type": "code",
      "metadata": {
        "execution": {
          "iopub.execute_input": "2021-11-17T08:57:40.848158Z",
          "iopub.status.busy": "2021-11-17T08:57:40.847296Z",
          "iopub.status.idle": "2021-11-17T08:57:40.851136Z",
          "shell.execute_reply": "2021-11-17T08:57:40.851627Z",
          "shell.execute_reply.started": "2021-11-17T08:25:21.578852Z"
        },
        "id": "269f94dd",
        "papermill": {
          "duration": 0.077646,
          "end_time": "2021-11-17T08:57:40.851807",
          "exception": false,
          "start_time": "2021-11-17T08:57:40.774161",
          "status": "completed"
        },
        "tags": [],
        "colab": {
          "base_uri": "https://localhost:8080/",
          "height": 365
        },
        "outputId": "8197950e-8c7c-46b3-c19e-bfe10a21fa01"
      },
      "source": [
        "encoded_cols = list(encoder.get_feature_names(categorical_cols))"
      ],
      "id": "269f94dd",
      "execution_count": 70,
      "outputs": [
        {
          "output_type": "stream",
          "name": "stderr",
          "text": [
            "/usr/local/lib/python3.7/dist-packages/sklearn/utils/deprecation.py:87: FutureWarning: Function get_feature_names is deprecated; get_feature_names is deprecated in 1.0 and will be removed in 1.2. Please use get_feature_names_out instead.\n",
            "  warnings.warn(msg, category=FutureWarning)\n"
          ]
        },
        {
          "output_type": "error",
          "ename": "ValueError",
          "evalue": "ignored",
          "traceback": [
            "\u001b[0;31m---------------------------------------------------------------------------\u001b[0m",
            "\u001b[0;31mValueError\u001b[0m                                Traceback (most recent call last)",
            "\u001b[0;32m<ipython-input-70-a530ec418924>\u001b[0m in \u001b[0;36m<module>\u001b[0;34m()\u001b[0m\n\u001b[0;32m----> 1\u001b[0;31m \u001b[0mencoded_cols\u001b[0m \u001b[0;34m=\u001b[0m \u001b[0mlist\u001b[0m\u001b[0;34m(\u001b[0m\u001b[0mencoder\u001b[0m\u001b[0;34m.\u001b[0m\u001b[0mget_feature_names\u001b[0m\u001b[0;34m(\u001b[0m\u001b[0mcategorical_cols\u001b[0m\u001b[0;34m)\u001b[0m\u001b[0;34m)\u001b[0m\u001b[0;34m\u001b[0m\u001b[0;34m\u001b[0m\u001b[0m\n\u001b[0m",
            "\u001b[0;32m/usr/local/lib/python3.7/dist-packages/sklearn/utils/deprecation.py\u001b[0m in \u001b[0;36mwrapped\u001b[0;34m(*args, **kwargs)\u001b[0m\n\u001b[1;32m     86\u001b[0m         \u001b[0;32mdef\u001b[0m \u001b[0mwrapped\u001b[0m\u001b[0;34m(\u001b[0m\u001b[0;34m*\u001b[0m\u001b[0margs\u001b[0m\u001b[0;34m,\u001b[0m \u001b[0;34m**\u001b[0m\u001b[0mkwargs\u001b[0m\u001b[0;34m)\u001b[0m\u001b[0;34m:\u001b[0m\u001b[0;34m\u001b[0m\u001b[0;34m\u001b[0m\u001b[0m\n\u001b[1;32m     87\u001b[0m             \u001b[0mwarnings\u001b[0m\u001b[0;34m.\u001b[0m\u001b[0mwarn\u001b[0m\u001b[0;34m(\u001b[0m\u001b[0mmsg\u001b[0m\u001b[0;34m,\u001b[0m \u001b[0mcategory\u001b[0m\u001b[0;34m=\u001b[0m\u001b[0mFutureWarning\u001b[0m\u001b[0;34m)\u001b[0m\u001b[0;34m\u001b[0m\u001b[0;34m\u001b[0m\u001b[0m\n\u001b[0;32m---> 88\u001b[0;31m             \u001b[0;32mreturn\u001b[0m \u001b[0mfun\u001b[0m\u001b[0;34m(\u001b[0m\u001b[0;34m*\u001b[0m\u001b[0margs\u001b[0m\u001b[0;34m,\u001b[0m \u001b[0;34m**\u001b[0m\u001b[0mkwargs\u001b[0m\u001b[0;34m)\u001b[0m\u001b[0;34m\u001b[0m\u001b[0;34m\u001b[0m\u001b[0m\n\u001b[0m\u001b[1;32m     89\u001b[0m \u001b[0;34m\u001b[0m\u001b[0m\n\u001b[1;32m     90\u001b[0m         \u001b[0mwrapped\u001b[0m\u001b[0;34m.\u001b[0m\u001b[0m__doc__\u001b[0m \u001b[0;34m=\u001b[0m \u001b[0mself\u001b[0m\u001b[0;34m.\u001b[0m\u001b[0m_update_doc\u001b[0m\u001b[0;34m(\u001b[0m\u001b[0mwrapped\u001b[0m\u001b[0;34m.\u001b[0m\u001b[0m__doc__\u001b[0m\u001b[0;34m)\u001b[0m\u001b[0;34m\u001b[0m\u001b[0;34m\u001b[0m\u001b[0m\n",
            "\u001b[0;32m/usr/local/lib/python3.7/dist-packages/sklearn/preprocessing/_encoders.py\u001b[0m in \u001b[0;36mget_feature_names\u001b[0;34m(self, input_features)\u001b[0m\n\u001b[1;32m    687\u001b[0m                 \u001b[0;34m\"input_features should have length equal to number of \"\u001b[0m\u001b[0;34m\u001b[0m\u001b[0;34m\u001b[0m\u001b[0m\n\u001b[1;32m    688\u001b[0m                 \"features ({}), got {}\".format(\n\u001b[0;32m--> 689\u001b[0;31m                     \u001b[0mlen\u001b[0m\u001b[0;34m(\u001b[0m\u001b[0mself\u001b[0m\u001b[0;34m.\u001b[0m\u001b[0mcategories_\u001b[0m\u001b[0;34m)\u001b[0m\u001b[0;34m,\u001b[0m \u001b[0mlen\u001b[0m\u001b[0;34m(\u001b[0m\u001b[0minput_features\u001b[0m\u001b[0;34m)\u001b[0m\u001b[0;34m\u001b[0m\u001b[0;34m\u001b[0m\u001b[0m\n\u001b[0m\u001b[1;32m    690\u001b[0m                 )\n\u001b[1;32m    691\u001b[0m             )\n",
            "\u001b[0;31mValueError\u001b[0m: input_features should have length equal to number of features (1), got 4"
          ]
        }
      ]
    },
    {
      "cell_type": "code",
      "metadata": {
        "execution": {
          "iopub.execute_input": "2021-11-17T08:57:40.997392Z",
          "iopub.status.busy": "2021-11-17T08:57:40.996559Z",
          "iopub.status.idle": "2021-11-17T08:57:41.982018Z",
          "shell.execute_reply": "2021-11-17T08:57:41.981400Z",
          "shell.execute_reply.started": "2021-11-17T08:25:21.585226Z"
        },
        "id": "053f132a",
        "papermill": {
          "duration": 1.059177,
          "end_time": "2021-11-17T08:57:41.982179",
          "exception": false,
          "start_time": "2021-11-17T08:57:40.923002",
          "status": "completed"
        },
        "tags": [],
        "colab": {
          "base_uri": "https://localhost:8080/",
          "height": 183
        },
        "outputId": "2c480785-152e-4ff4-a5e0-a57705ce79a8"
      },
      "source": [
        "inputs[encoded_cols] = encoder.transform(inputs[categorical_cols])\n",
        "test_inputs[encoded_cols] = encoder.transform(test_inputs[categorical_cols])"
      ],
      "id": "053f132a",
      "execution_count": 27,
      "outputs": [
        {
          "output_type": "error",
          "ename": "NameError",
          "evalue": "ignored",
          "traceback": [
            "\u001b[0;31m---------------------------------------------------------------------------\u001b[0m",
            "\u001b[0;31mNameError\u001b[0m                                 Traceback (most recent call last)",
            "\u001b[0;32m<ipython-input-27-1399771090b3>\u001b[0m in \u001b[0;36m<module>\u001b[0;34m()\u001b[0m\n\u001b[0;32m----> 1\u001b[0;31m \u001b[0minputs\u001b[0m\u001b[0;34m[\u001b[0m\u001b[0mencoded_cols\u001b[0m\u001b[0;34m]\u001b[0m \u001b[0;34m=\u001b[0m \u001b[0mencoder\u001b[0m\u001b[0;34m.\u001b[0m\u001b[0mtransform\u001b[0m\u001b[0;34m(\u001b[0m\u001b[0minputs\u001b[0m\u001b[0;34m[\u001b[0m\u001b[0mcategorical_cols\u001b[0m\u001b[0;34m]\u001b[0m\u001b[0;34m)\u001b[0m\u001b[0;34m\u001b[0m\u001b[0;34m\u001b[0m\u001b[0m\n\u001b[0m\u001b[1;32m      2\u001b[0m \u001b[0mtest_inputs\u001b[0m\u001b[0;34m[\u001b[0m\u001b[0mencoded_cols\u001b[0m\u001b[0;34m]\u001b[0m \u001b[0;34m=\u001b[0m \u001b[0mencoder\u001b[0m\u001b[0;34m.\u001b[0m\u001b[0mtransform\u001b[0m\u001b[0;34m(\u001b[0m\u001b[0mtest_inputs\u001b[0m\u001b[0;34m[\u001b[0m\u001b[0mcategorical_cols\u001b[0m\u001b[0;34m]\u001b[0m\u001b[0;34m)\u001b[0m\u001b[0;34m\u001b[0m\u001b[0;34m\u001b[0m\u001b[0m\n",
            "\u001b[0;31mNameError\u001b[0m: name 'inputs' is not defined"
          ]
        }
      ]
    },
    {
      "cell_type": "markdown",
      "metadata": {
        "id": "18e5a956",
        "papermill": {
          "duration": 0.073298,
          "end_time": "2021-11-17T08:57:42.125774",
          "exception": false,
          "start_time": "2021-11-17T08:57:42.052476",
          "status": "completed"
        },
        "tags": []
      },
      "source": [
        "Extract all data for training"
      ],
      "id": "18e5a956"
    },
    {
      "cell_type": "code",
      "metadata": {
        "execution": {
          "iopub.execute_input": "2021-11-17T08:57:42.274357Z",
          "iopub.status.busy": "2021-11-17T08:57:42.273653Z",
          "iopub.status.idle": "2021-11-17T08:57:42.484663Z",
          "shell.execute_reply": "2021-11-17T08:57:42.484071Z",
          "shell.execute_reply.started": "2021-11-17T08:25:23.003438Z"
        },
        "id": "1fe4668a",
        "papermill": {
          "duration": 0.28592,
          "end_time": "2021-11-17T08:57:42.484802",
          "exception": false,
          "start_time": "2021-11-17T08:57:42.198882",
          "status": "completed"
        },
        "tags": [],
        "colab": {
          "base_uri": "https://localhost:8080/",
          "height": 165
        },
        "outputId": "8fe55dcb-d8cc-4cbf-c68b-6567b05daa11"
      },
      "source": [
        "X = inputs[numeric_cols + encoded_cols]"
      ],
      "id": "1fe4668a",
      "execution_count": 73,
      "outputs": [
        {
          "output_type": "error",
          "ename": "NameError",
          "evalue": "ignored",
          "traceback": [
            "\u001b[0;31m---------------------------------------------------------------------------\u001b[0m",
            "\u001b[0;31mNameError\u001b[0m                                 Traceback (most recent call last)",
            "\u001b[0;32m<ipython-input-73-1265c10f6944>\u001b[0m in \u001b[0;36m<module>\u001b[0;34m()\u001b[0m\n\u001b[0;32m----> 1\u001b[0;31m \u001b[0mX\u001b[0m \u001b[0;34m=\u001b[0m \u001b[0minputs\u001b[0m\u001b[0;34m[\u001b[0m\u001b[0mnumeric_cols\u001b[0m \u001b[0;34m+\u001b[0m \u001b[0mencoded_cols\u001b[0m\u001b[0;34m]\u001b[0m\u001b[0;34m\u001b[0m\u001b[0;34m\u001b[0m\u001b[0m\n\u001b[0m",
            "\u001b[0;31mNameError\u001b[0m: name 'encoded_cols' is not defined"
          ]
        }
      ]
    },
    {
      "cell_type": "code",
      "metadata": {
        "execution": {
          "iopub.execute_input": "2021-11-17T08:57:42.636125Z",
          "iopub.status.busy": "2021-11-17T08:57:42.635408Z",
          "iopub.status.idle": "2021-11-17T08:57:42.644473Z",
          "shell.execute_reply": "2021-11-17T08:57:42.644987Z",
          "shell.execute_reply.started": "2021-11-17T08:25:23.216188Z"
        },
        "id": "20a76773",
        "papermill": {
          "duration": 0.085333,
          "end_time": "2021-11-17T08:57:42.645213",
          "exception": false,
          "start_time": "2021-11-17T08:57:42.559880",
          "status": "completed"
        },
        "tags": []
      },
      "source": [
        "X_test = test_inputs[numeric_cols + encoded_cols]"
      ],
      "id": "20a76773",
      "execution_count": null,
      "outputs": []
    },
    {
      "cell_type": "code",
      "metadata": {
        "execution": {
          "iopub.execute_input": "2021-11-17T08:57:42.794833Z",
          "iopub.status.busy": "2021-11-17T08:57:42.793866Z",
          "iopub.status.idle": "2021-11-17T08:57:42.836540Z",
          "shell.execute_reply": "2021-11-17T08:57:42.837079Z",
          "shell.execute_reply.started": "2021-11-17T08:25:23.230018Z"
        },
        "id": "16e938e5",
        "papermill": {
          "duration": 0.120508,
          "end_time": "2021-11-17T08:57:42.837272",
          "exception": false,
          "start_time": "2021-11-17T08:57:42.716764",
          "status": "completed"
        },
        "tags": [],
        "colab": {
          "base_uri": "https://localhost:8080/",
          "height": 165
        },
        "outputId": "80ad4c23-d186-4086-a3b9-37d284f750c6"
      },
      "source": [
        "X"
      ],
      "id": "16e938e5",
      "execution_count": 74,
      "outputs": [
        {
          "output_type": "error",
          "ename": "NameError",
          "evalue": "ignored",
          "traceback": [
            "\u001b[0;31m---------------------------------------------------------------------------\u001b[0m",
            "\u001b[0;31mNameError\u001b[0m                                 Traceback (most recent call last)",
            "\u001b[0;32m<ipython-input-74-b5fec669aca1>\u001b[0m in \u001b[0;36m<module>\u001b[0;34m()\u001b[0m\n\u001b[0;32m----> 1\u001b[0;31m \u001b[0mX\u001b[0m\u001b[0;34m\u001b[0m\u001b[0;34m\u001b[0m\u001b[0m\n\u001b[0m",
            "\u001b[0;31mNameError\u001b[0m: name 'X' is not defined"
          ]
        }
      ]
    },
    {
      "cell_type": "markdown",
      "metadata": {
        "id": "d807b550",
        "papermill": {
          "duration": 0.071815,
          "end_time": "2021-11-17T08:57:42.982359",
          "exception": false,
          "start_time": "2021-11-17T08:57:42.910544",
          "status": "completed"
        },
        "tags": []
      },
      "source": [
        "### Train Gradient Boosting Model"
      ],
      "id": "d807b550"
    },
    {
      "cell_type": "code",
      "metadata": {
        "execution": {
          "iopub.execute_input": "2021-11-17T08:57:43.131310Z",
          "iopub.status.busy": "2021-11-17T08:57:43.130606Z",
          "iopub.status.idle": "2021-11-17T08:57:43.293213Z",
          "shell.execute_reply": "2021-11-17T08:57:43.292670Z",
          "shell.execute_reply.started": "2021-11-17T08:25:23.282755Z"
        },
        "id": "ab65bc8e",
        "papermill": {
          "duration": 0.238891,
          "end_time": "2021-11-17T08:57:43.293369",
          "exception": false,
          "start_time": "2021-11-17T08:57:43.054478",
          "status": "completed"
        },
        "tags": []
      },
      "source": [
        "from xgboost import XGBRegressor"
      ],
      "id": "ab65bc8e",
      "execution_count": 82,
      "outputs": []
    },
    {
      "cell_type": "code",
      "metadata": {
        "execution": {
          "iopub.execute_input": "2021-11-17T08:57:43.440105Z",
          "iopub.status.busy": "2021-11-17T08:57:43.439468Z",
          "iopub.status.idle": "2021-11-17T08:57:43.443467Z",
          "shell.execute_reply": "2021-11-17T08:57:43.443937Z",
          "shell.execute_reply.started": "2021-11-17T08:25:23.387522Z"
        },
        "id": "363b7fd4",
        "papermill": {
          "duration": 0.078376,
          "end_time": "2021-11-17T08:57:43.444105",
          "exception": false,
          "start_time": "2021-11-17T08:57:43.365729",
          "status": "completed"
        },
        "tags": []
      },
      "source": [
        "model = XGBRegressor(random_state=42, n_jobs=-1, n_estimators=20, max_depth=4)"
      ],
      "id": "363b7fd4",
      "execution_count": 83,
      "outputs": []
    },
    {
      "cell_type": "code",
      "metadata": {
        "execution": {
          "iopub.execute_input": "2021-11-17T08:57:43.621460Z",
          "iopub.status.busy": "2021-11-17T08:57:43.620809Z",
          "iopub.status.idle": "2021-11-17T08:57:53.904755Z",
          "shell.execute_reply": "2021-11-17T08:57:53.905213Z",
          "shell.execute_reply.started": "2021-11-17T08:25:23.392713Z"
        },
        "id": "6d00e18b",
        "papermill": {
          "duration": 10.377372,
          "end_time": "2021-11-17T08:57:53.905407",
          "exception": false,
          "start_time": "2021-11-17T08:57:43.528035",
          "status": "completed"
        },
        "tags": [],
        "colab": {
          "base_uri": "https://localhost:8080/",
          "height": 380
        },
        "outputId": "b601a85e-5c74-443e-b38d-7afe2c5620b9"
      },
      "source": [
        "%%time\n",
        "model.fit(X, target)"
      ],
      "id": "6d00e18b",
      "execution_count": 84,
      "outputs": [
        {
          "output_type": "error",
          "ename": "NameError",
          "evalue": "ignored",
          "traceback": [
            "\u001b[0;31m---------------------------------------------------------------------------\u001b[0m",
            "\u001b[0;31mNameError\u001b[0m                                 Traceback (most recent call last)",
            "\u001b[0;32m<ipython-input-84-4e2d10e76383>\u001b[0m in \u001b[0;36m<module>\u001b[0;34m()\u001b[0m\n\u001b[0;32m----> 1\u001b[0;31m \u001b[0mget_ipython\u001b[0m\u001b[0;34m(\u001b[0m\u001b[0;34m)\u001b[0m\u001b[0;34m.\u001b[0m\u001b[0mrun_cell_magic\u001b[0m\u001b[0;34m(\u001b[0m\u001b[0;34m'time'\u001b[0m\u001b[0;34m,\u001b[0m \u001b[0;34m''\u001b[0m\u001b[0;34m,\u001b[0m \u001b[0;34m'model.fit(X, target)'\u001b[0m\u001b[0;34m)\u001b[0m\u001b[0;34m\u001b[0m\u001b[0;34m\u001b[0m\u001b[0m\n\u001b[0m",
            "\u001b[0;32m/usr/local/lib/python3.7/dist-packages/IPython/core/interactiveshell.py\u001b[0m in \u001b[0;36mrun_cell_magic\u001b[0;34m(self, magic_name, line, cell)\u001b[0m\n\u001b[1;32m   2115\u001b[0m             \u001b[0mmagic_arg_s\u001b[0m \u001b[0;34m=\u001b[0m \u001b[0mself\u001b[0m\u001b[0;34m.\u001b[0m\u001b[0mvar_expand\u001b[0m\u001b[0;34m(\u001b[0m\u001b[0mline\u001b[0m\u001b[0;34m,\u001b[0m \u001b[0mstack_depth\u001b[0m\u001b[0;34m)\u001b[0m\u001b[0;34m\u001b[0m\u001b[0;34m\u001b[0m\u001b[0m\n\u001b[1;32m   2116\u001b[0m             \u001b[0;32mwith\u001b[0m \u001b[0mself\u001b[0m\u001b[0;34m.\u001b[0m\u001b[0mbuiltin_trap\u001b[0m\u001b[0;34m:\u001b[0m\u001b[0;34m\u001b[0m\u001b[0;34m\u001b[0m\u001b[0m\n\u001b[0;32m-> 2117\u001b[0;31m                 \u001b[0mresult\u001b[0m \u001b[0;34m=\u001b[0m \u001b[0mfn\u001b[0m\u001b[0;34m(\u001b[0m\u001b[0mmagic_arg_s\u001b[0m\u001b[0;34m,\u001b[0m \u001b[0mcell\u001b[0m\u001b[0;34m)\u001b[0m\u001b[0;34m\u001b[0m\u001b[0;34m\u001b[0m\u001b[0m\n\u001b[0m\u001b[1;32m   2118\u001b[0m             \u001b[0;32mreturn\u001b[0m \u001b[0mresult\u001b[0m\u001b[0;34m\u001b[0m\u001b[0;34m\u001b[0m\u001b[0m\n\u001b[1;32m   2119\u001b[0m \u001b[0;34m\u001b[0m\u001b[0m\n",
            "\u001b[0;32m<decorator-gen-53>\u001b[0m in \u001b[0;36mtime\u001b[0;34m(self, line, cell, local_ns)\u001b[0m\n",
            "\u001b[0;32m/usr/local/lib/python3.7/dist-packages/IPython/core/magic.py\u001b[0m in \u001b[0;36m<lambda>\u001b[0;34m(f, *a, **k)\u001b[0m\n\u001b[1;32m    186\u001b[0m     \u001b[0;31m# but it's overkill for just that one bit of state.\u001b[0m\u001b[0;34m\u001b[0m\u001b[0;34m\u001b[0m\u001b[0;34m\u001b[0m\u001b[0m\n\u001b[1;32m    187\u001b[0m     \u001b[0;32mdef\u001b[0m \u001b[0mmagic_deco\u001b[0m\u001b[0;34m(\u001b[0m\u001b[0marg\u001b[0m\u001b[0;34m)\u001b[0m\u001b[0;34m:\u001b[0m\u001b[0;34m\u001b[0m\u001b[0;34m\u001b[0m\u001b[0m\n\u001b[0;32m--> 188\u001b[0;31m         \u001b[0mcall\u001b[0m \u001b[0;34m=\u001b[0m \u001b[0;32mlambda\u001b[0m \u001b[0mf\u001b[0m\u001b[0;34m,\u001b[0m \u001b[0;34m*\u001b[0m\u001b[0ma\u001b[0m\u001b[0;34m,\u001b[0m \u001b[0;34m**\u001b[0m\u001b[0mk\u001b[0m\u001b[0;34m:\u001b[0m \u001b[0mf\u001b[0m\u001b[0;34m(\u001b[0m\u001b[0;34m*\u001b[0m\u001b[0ma\u001b[0m\u001b[0;34m,\u001b[0m \u001b[0;34m**\u001b[0m\u001b[0mk\u001b[0m\u001b[0;34m)\u001b[0m\u001b[0;34m\u001b[0m\u001b[0;34m\u001b[0m\u001b[0m\n\u001b[0m\u001b[1;32m    189\u001b[0m \u001b[0;34m\u001b[0m\u001b[0m\n\u001b[1;32m    190\u001b[0m         \u001b[0;32mif\u001b[0m \u001b[0mcallable\u001b[0m\u001b[0;34m(\u001b[0m\u001b[0marg\u001b[0m\u001b[0;34m)\u001b[0m\u001b[0;34m:\u001b[0m\u001b[0;34m\u001b[0m\u001b[0;34m\u001b[0m\u001b[0m\n",
            "\u001b[0;32m/usr/local/lib/python3.7/dist-packages/IPython/core/magics/execution.py\u001b[0m in \u001b[0;36mtime\u001b[0;34m(self, line, cell, local_ns)\u001b[0m\n\u001b[1;32m   1187\u001b[0m         \u001b[0;32mif\u001b[0m \u001b[0mmode\u001b[0m\u001b[0;34m==\u001b[0m\u001b[0;34m'eval'\u001b[0m\u001b[0;34m:\u001b[0m\u001b[0;34m\u001b[0m\u001b[0;34m\u001b[0m\u001b[0m\n\u001b[1;32m   1188\u001b[0m             \u001b[0mst\u001b[0m \u001b[0;34m=\u001b[0m \u001b[0mclock2\u001b[0m\u001b[0;34m(\u001b[0m\u001b[0;34m)\u001b[0m\u001b[0;34m\u001b[0m\u001b[0;34m\u001b[0m\u001b[0m\n\u001b[0;32m-> 1189\u001b[0;31m             \u001b[0mout\u001b[0m \u001b[0;34m=\u001b[0m \u001b[0meval\u001b[0m\u001b[0;34m(\u001b[0m\u001b[0mcode\u001b[0m\u001b[0;34m,\u001b[0m \u001b[0mglob\u001b[0m\u001b[0;34m,\u001b[0m \u001b[0mlocal_ns\u001b[0m\u001b[0;34m)\u001b[0m\u001b[0;34m\u001b[0m\u001b[0;34m\u001b[0m\u001b[0m\n\u001b[0m\u001b[1;32m   1190\u001b[0m             \u001b[0mend\u001b[0m \u001b[0;34m=\u001b[0m \u001b[0mclock2\u001b[0m\u001b[0;34m(\u001b[0m\u001b[0;34m)\u001b[0m\u001b[0;34m\u001b[0m\u001b[0;34m\u001b[0m\u001b[0m\n\u001b[1;32m   1191\u001b[0m         \u001b[0;32melse\u001b[0m\u001b[0;34m:\u001b[0m\u001b[0;34m\u001b[0m\u001b[0;34m\u001b[0m\u001b[0m\n",
            "\u001b[0;32m<timed eval>\u001b[0m in \u001b[0;36m<module>\u001b[0;34m()\u001b[0m\n",
            "\u001b[0;31mNameError\u001b[0m: name 'X' is not defined"
          ]
        }
      ]
    },
    {
      "cell_type": "markdown",
      "metadata": {
        "id": "d2914278",
        "papermill": {
          "duration": 0.071954,
          "end_time": "2021-11-17T08:57:54.049705",
          "exception": false,
          "start_time": "2021-11-17T08:57:53.977751",
          "status": "completed"
        },
        "tags": []
      },
      "source": [
        "#### Prediction"
      ],
      "id": "d2914278"
    },
    {
      "cell_type": "code",
      "metadata": {
        "execution": {
          "iopub.execute_input": "2021-11-17T08:57:54.201013Z",
          "iopub.status.busy": "2021-11-17T08:57:54.200083Z",
          "iopub.status.idle": "2021-11-17T08:57:54.580605Z",
          "shell.execute_reply": "2021-11-17T08:57:54.581240Z",
          "shell.execute_reply.started": "2021-11-17T08:25:33.238729Z"
        },
        "id": "36f32ee0",
        "papermill": {
          "duration": 0.459534,
          "end_time": "2021-11-17T08:57:54.581469",
          "exception": false,
          "start_time": "2021-11-17T08:57:54.121935",
          "status": "completed"
        },
        "tags": [],
        "colab": {
          "base_uri": "https://localhost:8080/",
          "height": 165
        },
        "outputId": "9166f2e7-6eaf-4528-d98d-53fca42dca38"
      },
      "source": [
        "preds = model.predict(X)"
      ],
      "id": "36f32ee0",
      "execution_count": 85,
      "outputs": [
        {
          "output_type": "error",
          "ename": "NameError",
          "evalue": "ignored",
          "traceback": [
            "\u001b[0;31m---------------------------------------------------------------------------\u001b[0m",
            "\u001b[0;31mNameError\u001b[0m                                 Traceback (most recent call last)",
            "\u001b[0;32m<ipython-input-85-c0283a282a79>\u001b[0m in \u001b[0;36m<module>\u001b[0;34m()\u001b[0m\n\u001b[0;32m----> 1\u001b[0;31m \u001b[0mpreds\u001b[0m \u001b[0;34m=\u001b[0m \u001b[0mmodel\u001b[0m\u001b[0;34m.\u001b[0m\u001b[0mpredict\u001b[0m\u001b[0;34m(\u001b[0m\u001b[0mX\u001b[0m\u001b[0;34m)\u001b[0m\u001b[0;34m\u001b[0m\u001b[0;34m\u001b[0m\u001b[0m\n\u001b[0m",
            "\u001b[0;31mNameError\u001b[0m: name 'X' is not defined"
          ]
        }
      ]
    },
    {
      "cell_type": "code",
      "metadata": {
        "execution": {
          "iopub.execute_input": "2021-11-17T08:57:54.756097Z",
          "iopub.status.busy": "2021-11-17T08:57:54.755296Z",
          "iopub.status.idle": "2021-11-17T08:57:54.758370Z",
          "shell.execute_reply": "2021-11-17T08:57:54.758805Z",
          "shell.execute_reply.started": "2021-11-17T08:25:33.591437Z"
        },
        "id": "47a4f2c5",
        "papermill": {
          "duration": 0.08015,
          "end_time": "2021-11-17T08:57:54.758991",
          "exception": false,
          "start_time": "2021-11-17T08:57:54.678841",
          "status": "completed"
        },
        "tags": [],
        "colab": {
          "base_uri": "https://localhost:8080/",
          "height": 165
        },
        "outputId": "91176ffc-cea4-4ecc-8faf-b7584313525a"
      },
      "source": [
        "preds"
      ],
      "id": "47a4f2c5",
      "execution_count": 86,
      "outputs": [
        {
          "output_type": "error",
          "ename": "NameError",
          "evalue": "ignored",
          "traceback": [
            "\u001b[0;31m---------------------------------------------------------------------------\u001b[0m",
            "\u001b[0;31mNameError\u001b[0m                                 Traceback (most recent call last)",
            "\u001b[0;32m<ipython-input-86-c66c8509e20f>\u001b[0m in \u001b[0;36m<module>\u001b[0;34m()\u001b[0m\n\u001b[0;32m----> 1\u001b[0;31m \u001b[0mpreds\u001b[0m\u001b[0;34m\u001b[0m\u001b[0;34m\u001b[0m\u001b[0m\n\u001b[0m",
            "\u001b[0;31mNameError\u001b[0m: name 'preds' is not defined"
          ]
        }
      ]
    },
    {
      "cell_type": "markdown",
      "metadata": {
        "id": "cb58ce8d",
        "papermill": {
          "duration": 0.072181,
          "end_time": "2021-11-17T08:57:54.904566",
          "exception": false,
          "start_time": "2021-11-17T08:57:54.832385",
          "status": "completed"
        },
        "tags": []
      },
      "source": [
        "#### Evaluating"
      ],
      "id": "cb58ce8d"
    },
    {
      "cell_type": "code",
      "metadata": {
        "execution": {
          "iopub.execute_input": "2021-11-17T08:57:55.054395Z",
          "iopub.status.busy": "2021-11-17T08:57:55.053404Z",
          "iopub.status.idle": "2021-11-17T08:57:55.057585Z",
          "shell.execute_reply": "2021-11-17T08:57:55.058133Z",
          "shell.execute_reply.started": "2021-11-17T08:25:33.602011Z"
        },
        "id": "84b4930f",
        "papermill": {
          "duration": 0.081648,
          "end_time": "2021-11-17T08:57:55.058322",
          "exception": false,
          "start_time": "2021-11-17T08:57:54.976674",
          "status": "completed"
        },
        "tags": []
      },
      "source": [
        "from sklearn.metrics import mean_squared_error\n",
        "\n",
        "def rmse(a, b):\n",
        "  return mean_squared_error(a, b, squared=False)"
      ],
      "id": "84b4930f",
      "execution_count": 87,
      "outputs": []
    },
    {
      "cell_type": "code",
      "metadata": {
        "execution": {
          "iopub.execute_input": "2021-11-17T08:57:55.206235Z",
          "iopub.status.busy": "2021-11-17T08:57:55.205228Z",
          "iopub.status.idle": "2021-11-17T08:57:55.216125Z",
          "shell.execute_reply": "2021-11-17T08:57:55.216652Z",
          "shell.execute_reply.started": "2021-11-17T08:25:33.609038Z"
        },
        "id": "861988ae",
        "papermill": {
          "duration": 0.086378,
          "end_time": "2021-11-17T08:57:55.216821",
          "exception": false,
          "start_time": "2021-11-17T08:57:55.130443",
          "status": "completed"
        },
        "tags": [],
        "colab": {
          "base_uri": "https://localhost:8080/",
          "height": 165
        },
        "outputId": "67bc9da5-b628-4721-eb07-a463e23ea489"
      },
      "source": [
        "rmse(preds, target)"
      ],
      "id": "861988ae",
      "execution_count": 88,
      "outputs": [
        {
          "output_type": "error",
          "ename": "NameError",
          "evalue": "ignored",
          "traceback": [
            "\u001b[0;31m---------------------------------------------------------------------------\u001b[0m",
            "\u001b[0;31mNameError\u001b[0m                                 Traceback (most recent call last)",
            "\u001b[0;32m<ipython-input-88-01bcafe5f35a>\u001b[0m in \u001b[0;36m<module>\u001b[0;34m()\u001b[0m\n\u001b[0;32m----> 1\u001b[0;31m \u001b[0mrmse\u001b[0m\u001b[0;34m(\u001b[0m\u001b[0mpreds\u001b[0m\u001b[0;34m,\u001b[0m \u001b[0mtarget\u001b[0m\u001b[0;34m)\u001b[0m\u001b[0;34m\u001b[0m\u001b[0;34m\u001b[0m\u001b[0m\n\u001b[0m",
            "\u001b[0;31mNameError\u001b[0m: name 'preds' is not defined"
          ]
        }
      ]
    },
    {
      "cell_type": "code",
      "metadata": {
        "execution": {
          "iopub.execute_input": "2021-11-17T08:57:55.374514Z",
          "iopub.status.busy": "2021-11-17T08:57:55.373514Z",
          "iopub.status.idle": "2021-11-17T08:57:55.379168Z",
          "shell.execute_reply": "2021-11-17T08:57:55.379660Z",
          "shell.execute_reply.started": "2021-11-17T08:25:33.629457Z"
        },
        "id": "98cb394d",
        "papermill": {
          "duration": 0.086794,
          "end_time": "2021-11-17T08:57:55.379844",
          "exception": false,
          "start_time": "2021-11-17T08:57:55.293050",
          "status": "completed"
        },
        "tags": []
      },
      "source": [
        "merged_df.Sales.min(), merged_df.Sales.max()"
      ],
      "id": "98cb394d",
      "execution_count": null,
      "outputs": []
    },
    {
      "cell_type": "code",
      "metadata": {
        "execution": {
          "iopub.execute_input": "2021-11-17T08:57:55.531085Z",
          "iopub.status.busy": "2021-11-17T08:57:55.530026Z",
          "iopub.status.idle": "2021-11-17T08:57:55.778836Z",
          "shell.execute_reply": "2021-11-17T08:57:55.778276Z",
          "shell.execute_reply.started": "2021-11-17T08:25:33.638617Z"
        },
        "id": "573556cd",
        "papermill": {
          "duration": 0.325122,
          "end_time": "2021-11-17T08:57:55.779003",
          "exception": false,
          "start_time": "2021-11-17T08:57:55.453881",
          "status": "completed"
        },
        "tags": []
      },
      "source": [
        "plt.hist(merged_df.Sales.sample(10000));"
      ],
      "id": "573556cd",
      "execution_count": null,
      "outputs": []
    },
    {
      "cell_type": "markdown",
      "metadata": {
        "id": "d7b86c31",
        "papermill": {
          "duration": 0.073581,
          "end_time": "2021-11-17T08:57:55.927941",
          "exception": false,
          "start_time": "2021-11-17T08:57:55.854360",
          "status": "completed"
        },
        "tags": []
      },
      "source": [
        "#### Feature Importance"
      ],
      "id": "d7b86c31"
    },
    {
      "cell_type": "code",
      "metadata": {
        "execution": {
          "iopub.execute_input": "2021-11-17T08:57:56.082798Z",
          "iopub.status.busy": "2021-11-17T08:57:56.081728Z",
          "iopub.status.idle": "2021-11-17T08:57:56.089141Z",
          "shell.execute_reply": "2021-11-17T08:57:56.089637Z",
          "shell.execute_reply.started": "2021-11-17T08:25:33.940582Z"
        },
        "id": "e516275f",
        "papermill": {
          "duration": 0.086065,
          "end_time": "2021-11-17T08:57:56.089826",
          "exception": false,
          "start_time": "2021-11-17T08:57:56.003761",
          "status": "completed"
        },
        "tags": [],
        "colab": {
          "base_uri": "https://localhost:8080/",
          "height": 217
        },
        "outputId": "c1b12abd-b385-4089-a831-156ff908705a"
      },
      "source": [
        "importance_df = pd.DataFrame({\n",
        "    'feature': X.columns,\n",
        "    'importance': model.feature_importances_\n",
        "}).sort_values('importance', ascending=False)"
      ],
      "id": "e516275f",
      "execution_count": 89,
      "outputs": [
        {
          "output_type": "error",
          "ename": "NameError",
          "evalue": "ignored",
          "traceback": [
            "\u001b[0;31m---------------------------------------------------------------------------\u001b[0m",
            "\u001b[0;31mNameError\u001b[0m                                 Traceback (most recent call last)",
            "\u001b[0;32m<ipython-input-89-a9f40a25c6a0>\u001b[0m in \u001b[0;36m<module>\u001b[0;34m()\u001b[0m\n\u001b[1;32m      1\u001b[0m importance_df = pd.DataFrame({\n\u001b[0;32m----> 2\u001b[0;31m     \u001b[0;34m'feature'\u001b[0m\u001b[0;34m:\u001b[0m \u001b[0mX\u001b[0m\u001b[0;34m.\u001b[0m\u001b[0mcolumns\u001b[0m\u001b[0;34m,\u001b[0m\u001b[0;34m\u001b[0m\u001b[0;34m\u001b[0m\u001b[0m\n\u001b[0m\u001b[1;32m      3\u001b[0m     \u001b[0;34m'importance'\u001b[0m\u001b[0;34m:\u001b[0m \u001b[0mmodel\u001b[0m\u001b[0;34m.\u001b[0m\u001b[0mfeature_importances_\u001b[0m\u001b[0;34m\u001b[0m\u001b[0;34m\u001b[0m\u001b[0m\n\u001b[1;32m      4\u001b[0m }).sort_values('importance', ascending=False)\n",
            "\u001b[0;31mNameError\u001b[0m: name 'X' is not defined"
          ]
        }
      ]
    },
    {
      "cell_type": "code",
      "metadata": {
        "execution": {
          "iopub.execute_input": "2021-11-17T08:57:56.253943Z",
          "iopub.status.busy": "2021-11-17T08:57:56.246964Z",
          "iopub.status.idle": "2021-11-17T08:57:56.258166Z",
          "shell.execute_reply": "2021-11-17T08:57:56.257619Z",
          "shell.execute_reply.started": "2021-11-17T08:25:33.950516Z"
        },
        "id": "29a0cdc0",
        "papermill": {
          "duration": 0.091865,
          "end_time": "2021-11-17T08:57:56.258328",
          "exception": false,
          "start_time": "2021-11-17T08:57:56.166463",
          "status": "completed"
        },
        "tags": []
      },
      "source": [
        "importance_df.head(10)"
      ],
      "id": "29a0cdc0",
      "execution_count": null,
      "outputs": []
    },
    {
      "cell_type": "code",
      "metadata": {
        "execution": {
          "iopub.execute_input": "2021-11-17T08:57:56.414591Z",
          "iopub.status.busy": "2021-11-17T08:57:56.413857Z",
          "iopub.status.idle": "2021-11-17T08:57:56.641433Z",
          "shell.execute_reply": "2021-11-17T08:57:56.642117Z",
          "shell.execute_reply.started": "2021-11-17T08:25:33.965558Z"
        },
        "id": "767f7175",
        "papermill": {
          "duration": 0.308009,
          "end_time": "2021-11-17T08:57:56.642320",
          "exception": false,
          "start_time": "2021-11-17T08:57:56.334311",
          "status": "completed"
        },
        "tags": []
      },
      "source": [
        "sns.barplot(data=importance_df.head(10), x='importance', y='feature')\n",
        "plt.title('Feature Importance')\n",
        "plt.xlabel('Importance')\n",
        "plt.ylabel('Feature');"
      ],
      "id": "767f7175",
      "execution_count": null,
      "outputs": []
    },
    {
      "cell_type": "markdown",
      "metadata": {
        "id": "f87b937e",
        "papermill": {
          "duration": 0.075152,
          "end_time": "2021-11-17T08:57:56.792719",
          "exception": false,
          "start_time": "2021-11-17T08:57:56.717567",
          "status": "completed"
        },
        "tags": []
      },
      "source": [
        "### K-Fold Cross Validation"
      ],
      "id": "f87b937e"
    },
    {
      "cell_type": "code",
      "metadata": {
        "execution": {
          "iopub.execute_input": "2021-11-17T08:57:56.951547Z",
          "iopub.status.busy": "2021-11-17T08:57:56.950545Z",
          "iopub.status.idle": "2021-11-17T08:57:56.954716Z",
          "shell.execute_reply": "2021-11-17T08:57:56.955289Z",
          "shell.execute_reply.started": "2021-11-17T08:25:34.266235Z"
        },
        "id": "1880481b",
        "papermill": {
          "duration": 0.085348,
          "end_time": "2021-11-17T08:57:56.955473",
          "exception": false,
          "start_time": "2021-11-17T08:57:56.870125",
          "status": "completed"
        },
        "tags": []
      },
      "source": [
        "from sklearn.model_selection import KFold"
      ],
      "id": "1880481b",
      "execution_count": 16,
      "outputs": []
    },
    {
      "cell_type": "code",
      "metadata": {
        "execution": {
          "iopub.execute_input": "2021-11-17T08:57:57.111502Z",
          "iopub.status.busy": "2021-11-17T08:57:57.110482Z",
          "iopub.status.idle": "2021-11-17T08:57:57.114654Z",
          "shell.execute_reply": "2021-11-17T08:57:57.115191Z",
          "shell.execute_reply.started": "2021-11-17T08:25:34.271019Z"
        },
        "id": "3218fdf3",
        "papermill": {
          "duration": 0.084547,
          "end_time": "2021-11-17T08:57:57.115379",
          "exception": false,
          "start_time": "2021-11-17T08:57:57.030832",
          "status": "completed"
        },
        "tags": []
      },
      "source": [
        "kfold = KFold(n_splits=5)"
      ],
      "id": "3218fdf3",
      "execution_count": 81,
      "outputs": []
    },
    {
      "cell_type": "code",
      "metadata": {
        "execution": {
          "iopub.execute_input": "2021-11-17T08:57:57.271477Z",
          "iopub.status.busy": "2021-11-17T08:57:57.270429Z",
          "iopub.status.idle": "2021-11-17T08:57:57.275788Z",
          "shell.execute_reply": "2021-11-17T08:57:57.276343Z",
          "shell.execute_reply.started": "2021-11-17T08:25:34.284227Z"
        },
        "id": "fc55ca36",
        "papermill": {
          "duration": 0.083901,
          "end_time": "2021-11-17T08:57:57.276538",
          "exception": false,
          "start_time": "2021-11-17T08:57:57.192637",
          "status": "completed"
        },
        "tags": []
      },
      "source": [
        "def train_and_evaluate(X_train, train_targets, X_val, val_targets, **params):\n",
        "    model = XGBRegressor(random_state=42, n_jobs=-1, **params)\n",
        "    model.fit(X_train, train_targets)\n",
        "    train_rmse = rmse(model.predict(X_train), train_targets)\n",
        "    val_rmse = rmse(model.predict(X_val), val_targets)\n",
        "    return model, train_rmse, val_rmse"
      ],
      "id": "fc55ca36",
      "execution_count": 80,
      "outputs": []
    },
    {
      "cell_type": "code",
      "metadata": {
        "execution": {
          "iopub.execute_input": "2021-11-17T08:57:57.435024Z",
          "iopub.status.busy": "2021-11-17T08:57:57.433856Z",
          "iopub.status.idle": "2021-11-17T08:58:39.724414Z",
          "shell.execute_reply": "2021-11-17T08:58:39.724933Z",
          "shell.execute_reply.started": "2021-11-17T08:25:34.296504Z"
        },
        "id": "0a0ca7cf",
        "papermill": {
          "duration": 42.370861,
          "end_time": "2021-11-17T08:58:39.725197",
          "exception": false,
          "start_time": "2021-11-17T08:57:57.354336",
          "status": "completed"
        },
        "tags": [],
        "colab": {
          "base_uri": "https://localhost:8080/",
          "height": 235
        },
        "outputId": "e60c2475-8fff-4cc0-fb7d-967b735b45d4"
      },
      "source": [
        "models = []\n",
        "\n",
        "for train_idxs, val_idxs in kfold.split(X):\n",
        "    X_train, train_targets = X.iloc[train_idxs], target.iloc[train_idxs]\n",
        "    X_val, val_targets = X.iloc[val_idxs], target.iloc[val_idxs]\n",
        "    model, train_rmse, val_rmse = train_and_evaluate(X_train, \n",
        "                                                     train_targets, \n",
        "                                                     X_val, \n",
        "                                                     val_targets, \n",
        "                                                     max_depth=4, \n",
        "                                                     n_estimators=20)\n",
        "    models.append(model)\n",
        "    print('Train RMSE: {}, Validation RMSE: {}'.format(train_rmse, val_rmse))"
      ],
      "id": "0a0ca7cf",
      "execution_count": 79,
      "outputs": [
        {
          "output_type": "error",
          "ename": "NameError",
          "evalue": "ignored",
          "traceback": [
            "\u001b[0;31m---------------------------------------------------------------------------\u001b[0m",
            "\u001b[0;31mNameError\u001b[0m                                 Traceback (most recent call last)",
            "\u001b[0;32m<ipython-input-79-61a9201bf23c>\u001b[0m in \u001b[0;36m<module>\u001b[0;34m()\u001b[0m\n\u001b[1;32m      1\u001b[0m \u001b[0mmodels\u001b[0m \u001b[0;34m=\u001b[0m \u001b[0;34m[\u001b[0m\u001b[0;34m]\u001b[0m\u001b[0;34m\u001b[0m\u001b[0;34m\u001b[0m\u001b[0m\n\u001b[1;32m      2\u001b[0m \u001b[0;34m\u001b[0m\u001b[0m\n\u001b[0;32m----> 3\u001b[0;31m \u001b[0;32mfor\u001b[0m \u001b[0mtrain_idxs\u001b[0m\u001b[0;34m,\u001b[0m \u001b[0mval_idxs\u001b[0m \u001b[0;32min\u001b[0m \u001b[0mkfold\u001b[0m\u001b[0;34m.\u001b[0m\u001b[0msplit\u001b[0m\u001b[0;34m(\u001b[0m\u001b[0mX\u001b[0m\u001b[0;34m)\u001b[0m\u001b[0;34m:\u001b[0m\u001b[0;34m\u001b[0m\u001b[0;34m\u001b[0m\u001b[0m\n\u001b[0m\u001b[1;32m      4\u001b[0m     \u001b[0mX_train\u001b[0m\u001b[0;34m,\u001b[0m \u001b[0mtrain_targets\u001b[0m \u001b[0;34m=\u001b[0m \u001b[0mX\u001b[0m\u001b[0;34m.\u001b[0m\u001b[0miloc\u001b[0m\u001b[0;34m[\u001b[0m\u001b[0mtrain_idxs\u001b[0m\u001b[0;34m]\u001b[0m\u001b[0;34m,\u001b[0m \u001b[0mtarget\u001b[0m\u001b[0;34m.\u001b[0m\u001b[0miloc\u001b[0m\u001b[0;34m[\u001b[0m\u001b[0mtrain_idxs\u001b[0m\u001b[0;34m]\u001b[0m\u001b[0;34m\u001b[0m\u001b[0;34m\u001b[0m\u001b[0m\n\u001b[1;32m      5\u001b[0m     \u001b[0mX_val\u001b[0m\u001b[0;34m,\u001b[0m \u001b[0mval_targets\u001b[0m \u001b[0;34m=\u001b[0m \u001b[0mX\u001b[0m\u001b[0;34m.\u001b[0m\u001b[0miloc\u001b[0m\u001b[0;34m[\u001b[0m\u001b[0mval_idxs\u001b[0m\u001b[0;34m]\u001b[0m\u001b[0;34m,\u001b[0m \u001b[0mtarget\u001b[0m\u001b[0;34m.\u001b[0m\u001b[0miloc\u001b[0m\u001b[0;34m[\u001b[0m\u001b[0mval_idxs\u001b[0m\u001b[0;34m]\u001b[0m\u001b[0;34m\u001b[0m\u001b[0;34m\u001b[0m\u001b[0m\n",
            "\u001b[0;31mNameError\u001b[0m: name 'X' is not defined"
          ]
        }
      ]
    },
    {
      "cell_type": "code",
      "metadata": {
        "execution": {
          "iopub.execute_input": "2021-11-17T08:58:39.881084Z",
          "iopub.status.busy": "2021-11-17T08:58:39.878600Z",
          "iopub.status.idle": "2021-11-17T08:58:39.884012Z",
          "shell.execute_reply": "2021-11-17T08:58:39.883503Z",
          "shell.execute_reply.started": "2021-11-17T08:26:14.177560Z"
        },
        "id": "3f4ec380",
        "papermill": {
          "duration": 0.083513,
          "end_time": "2021-11-17T08:58:39.884173",
          "exception": false,
          "start_time": "2021-11-17T08:58:39.800660",
          "status": "completed"
        },
        "tags": []
      },
      "source": [
        "import numpy as np\n",
        "\n",
        "def predict_avg(models, inputs):\n",
        "    return np.mean([model.predict(inputs) for model in models], axis=0)"
      ],
      "id": "3f4ec380",
      "execution_count": null,
      "outputs": []
    },
    {
      "cell_type": "code",
      "metadata": {
        "execution": {
          "iopub.execute_input": "2021-11-17T08:58:40.040636Z",
          "iopub.status.busy": "2021-11-17T08:58:40.039957Z",
          "iopub.status.idle": "2021-11-17T08:58:41.820722Z",
          "shell.execute_reply": "2021-11-17T08:58:41.820067Z",
          "shell.execute_reply.started": "2021-11-17T08:26:14.186800Z"
        },
        "id": "fd6f106e",
        "papermill": {
          "duration": 1.860039,
          "end_time": "2021-11-17T08:58:41.820864",
          "exception": false,
          "start_time": "2021-11-17T08:58:39.960825",
          "status": "completed"
        },
        "tags": []
      },
      "source": [
        "preds = predict_avg(models, X)"
      ],
      "id": "fd6f106e",
      "execution_count": null,
      "outputs": []
    },
    {
      "cell_type": "code",
      "metadata": {
        "execution": {
          "iopub.execute_input": "2021-11-17T08:58:41.979091Z",
          "iopub.status.busy": "2021-11-17T08:58:41.978439Z",
          "iopub.status.idle": "2021-11-17T08:58:41.980867Z",
          "shell.execute_reply": "2021-11-17T08:58:41.981384Z",
          "shell.execute_reply.started": "2021-11-17T08:26:15.971523Z"
        },
        "id": "b9ec0af9",
        "papermill": {
          "duration": 0.08394,
          "end_time": "2021-11-17T08:58:41.981561",
          "exception": false,
          "start_time": "2021-11-17T08:58:41.897621",
          "status": "completed"
        },
        "tags": []
      },
      "source": [
        "preds"
      ],
      "id": "b9ec0af9",
      "execution_count": null,
      "outputs": []
    },
    {
      "cell_type": "markdown",
      "metadata": {
        "id": "0bc90f36",
        "papermill": {
          "duration": 0.07641,
          "end_time": "2021-11-17T08:58:42.134450",
          "exception": false,
          "start_time": "2021-11-17T08:58:42.058040",
          "status": "completed"
        },
        "tags": []
      },
      "source": [
        "### HyperParameter Tuning and Regularisation"
      ],
      "id": "0bc90f36"
    },
    {
      "cell_type": "code",
      "metadata": {
        "execution": {
          "iopub.execute_input": "2021-11-17T08:58:42.290022Z",
          "iopub.status.busy": "2021-11-17T08:58:42.289351Z",
          "iopub.status.idle": "2021-11-17T08:58:42.292415Z",
          "shell.execute_reply": "2021-11-17T08:58:42.291867Z",
          "shell.execute_reply.started": "2021-11-17T08:26:15.978969Z"
        },
        "id": "6c2aaad9",
        "papermill": {
          "duration": 0.082448,
          "end_time": "2021-11-17T08:58:42.292561",
          "exception": false,
          "start_time": "2021-11-17T08:58:42.210113",
          "status": "completed"
        },
        "tags": []
      },
      "source": [
        "from sklearn.model_selection import train_test_split"
      ],
      "id": "6c2aaad9",
      "execution_count": 14,
      "outputs": []
    },
    {
      "cell_type": "code",
      "metadata": {
        "execution": {
          "iopub.execute_input": "2021-11-17T08:58:42.450339Z",
          "iopub.status.busy": "2021-11-17T08:58:42.449396Z",
          "iopub.status.idle": "2021-11-17T08:58:42.787840Z",
          "shell.execute_reply": "2021-11-17T08:58:42.788343Z",
          "shell.execute_reply.started": "2021-11-17T08:26:15.993429Z"
        },
        "id": "eee0b9dd",
        "papermill": {
          "duration": 0.41942,
          "end_time": "2021-11-17T08:58:42.788546",
          "exception": false,
          "start_time": "2021-11-17T08:58:42.369126",
          "status": "completed"
        },
        "tags": [],
        "colab": {
          "base_uri": "https://localhost:8080/",
          "height": 165
        },
        "outputId": "52b5bc09-2cd2-4ee0-88cc-2ad0f6d8f418"
      },
      "source": [
        "X_train, X_val, train_targets, val_targets = train_test_split(X, target, test_size=0.1)"
      ],
      "id": "eee0b9dd",
      "execution_count": 15,
      "outputs": [
        {
          "output_type": "error",
          "ename": "NameError",
          "evalue": "ignored",
          "traceback": [
            "\u001b[0;31m---------------------------------------------------------------------------\u001b[0m",
            "\u001b[0;31mNameError\u001b[0m                                 Traceback (most recent call last)",
            "\u001b[0;32m<ipython-input-15-0b273745769f>\u001b[0m in \u001b[0;36m<module>\u001b[0;34m()\u001b[0m\n\u001b[0;32m----> 1\u001b[0;31m \u001b[0mX_train\u001b[0m\u001b[0;34m,\u001b[0m \u001b[0mX_val\u001b[0m\u001b[0;34m,\u001b[0m \u001b[0mtrain_targets\u001b[0m\u001b[0;34m,\u001b[0m \u001b[0mval_targets\u001b[0m \u001b[0;34m=\u001b[0m \u001b[0mtrain_test_split\u001b[0m\u001b[0;34m(\u001b[0m\u001b[0mX\u001b[0m\u001b[0;34m,\u001b[0m \u001b[0mtarget\u001b[0m\u001b[0;34m,\u001b[0m \u001b[0mtest_size\u001b[0m\u001b[0;34m=\u001b[0m\u001b[0;36m0.1\u001b[0m\u001b[0;34m)\u001b[0m\u001b[0;34m\u001b[0m\u001b[0;34m\u001b[0m\u001b[0m\n\u001b[0m",
            "\u001b[0;31mNameError\u001b[0m: name 'X' is not defined"
          ]
        }
      ]
    },
    {
      "cell_type": "code",
      "metadata": {
        "execution": {
          "iopub.execute_input": "2021-11-17T08:58:42.947266Z",
          "iopub.status.busy": "2021-11-17T08:58:42.945825Z",
          "iopub.status.idle": "2021-11-17T08:58:42.951285Z",
          "shell.execute_reply": "2021-11-17T08:58:42.951729Z",
          "shell.execute_reply.started": "2021-11-17T08:26:16.305340Z"
        },
        "id": "dab5bdd3",
        "papermill": {
          "duration": 0.087498,
          "end_time": "2021-11-17T08:58:42.951942",
          "exception": false,
          "start_time": "2021-11-17T08:58:42.864444",
          "status": "completed"
        },
        "tags": []
      },
      "source": [
        "def test_params(**params):\n",
        "    model = XGBRegressor(n_jobs=-1, random_state=42, **params)\n",
        "    model.fit(X_train, train_targets)\n",
        "    train_rmse = rmse(model.predict(X_train), train_targets)\n",
        "    val_rmse = rmse(model.predict(X_val), val_targets)\n",
        "    print('Train RMSE: {}, Validation RMSE: {}'.format(train_rmse, val_rmse))"
      ],
      "id": "dab5bdd3",
      "execution_count": null,
      "outputs": []
    },
    {
      "cell_type": "markdown",
      "metadata": {
        "id": "ecd080a1",
        "papermill": {
          "duration": 0.075743,
          "end_time": "2021-11-17T08:58:43.104546",
          "exception": false,
          "start_time": "2021-11-17T08:58:43.028803",
          "status": "completed"
        },
        "tags": []
      },
      "source": [
        "\n",
        "#### `n_estimators`\n"
      ],
      "id": "ecd080a1"
    },
    {
      "cell_type": "code",
      "metadata": {
        "execution": {
          "iopub.execute_input": "2021-11-17T08:58:43.277462Z",
          "iopub.status.busy": "2021-11-17T08:58:43.266092Z",
          "iopub.status.idle": "2021-11-17T08:58:51.980866Z",
          "shell.execute_reply": "2021-11-17T08:58:51.981674Z",
          "shell.execute_reply.started": "2021-11-17T08:26:16.312724Z"
        },
        "id": "89e4a2ee",
        "papermill": {
          "duration": 8.798683,
          "end_time": "2021-11-17T08:58:51.981970",
          "exception": false,
          "start_time": "2021-11-17T08:58:43.183287",
          "status": "completed"
        },
        "tags": []
      },
      "source": [
        "test_params(n_estimators=10)"
      ],
      "id": "89e4a2ee",
      "execution_count": null,
      "outputs": []
    },
    {
      "cell_type": "code",
      "metadata": {
        "execution": {
          "iopub.execute_input": "2021-11-17T08:58:52.142521Z",
          "iopub.status.busy": "2021-11-17T08:58:52.141464Z",
          "iopub.status.idle": "2021-11-17T08:59:13.922545Z",
          "shell.execute_reply": "2021-11-17T08:59:13.923317Z",
          "shell.execute_reply.started": "2021-11-17T08:26:24.050209Z"
        },
        "id": "1c6dd9d1",
        "papermill": {
          "duration": 21.863434,
          "end_time": "2021-11-17T08:59:13.923688",
          "exception": false,
          "start_time": "2021-11-17T08:58:52.060254",
          "status": "completed"
        },
        "tags": []
      },
      "source": [
        "test_params(n_estimators=30)"
      ],
      "id": "1c6dd9d1",
      "execution_count": null,
      "outputs": []
    },
    {
      "cell_type": "code",
      "metadata": {
        "execution": {
          "iopub.execute_input": "2021-11-17T08:59:14.084111Z",
          "iopub.status.busy": "2021-11-17T08:59:14.081338Z",
          "iopub.status.idle": "2021-11-17T09:00:23.933565Z",
          "shell.execute_reply": "2021-11-17T09:00:23.934612Z",
          "shell.execute_reply.started": "2021-11-17T08:26:44.767696Z"
        },
        "id": "81c45ce6",
        "papermill": {
          "duration": 69.93404,
          "end_time": "2021-11-17T09:00:23.934926",
          "exception": false,
          "start_time": "2021-11-17T08:59:14.000886",
          "status": "completed"
        },
        "tags": []
      },
      "source": [
        "test_params(n_estimators=100)"
      ],
      "id": "81c45ce6",
      "execution_count": null,
      "outputs": []
    },
    {
      "cell_type": "markdown",
      "metadata": {
        "id": "efbd698a",
        "papermill": {
          "duration": 0.077401,
          "end_time": "2021-11-17T09:00:24.093133",
          "exception": false,
          "start_time": "2021-11-17T09:00:24.015732",
          "status": "completed"
        },
        "tags": []
      },
      "source": [
        "#### `max_depth`"
      ],
      "id": "efbd698a"
    },
    {
      "cell_type": "code",
      "metadata": {
        "execution": {
          "iopub.execute_input": "2021-11-17T09:00:24.252196Z",
          "iopub.status.busy": "2021-11-17T09:00:24.251187Z",
          "iopub.status.idle": "2021-11-17T09:01:21.782748Z",
          "shell.execute_reply": "2021-11-17T09:01:21.783261Z",
          "shell.execute_reply.started": "2021-11-17T08:27:51.952225Z"
        },
        "id": "bacc3b0f",
        "papermill": {
          "duration": 57.612747,
          "end_time": "2021-11-17T09:01:21.783450",
          "exception": false,
          "start_time": "2021-11-17T09:00:24.170703",
          "status": "completed"
        },
        "tags": []
      },
      "source": [
        "test_params(max_depth=5)"
      ],
      "id": "bacc3b0f",
      "execution_count": null,
      "outputs": []
    },
    {
      "cell_type": "code",
      "metadata": {
        "execution": {
          "iopub.execute_input": "2021-11-17T09:01:21.942077Z",
          "iopub.status.busy": "2021-11-17T09:01:21.939499Z",
          "iopub.status.idle": "2021-11-17T09:03:31.374059Z",
          "shell.execute_reply": "2021-11-17T09:03:31.374570Z",
          "shell.execute_reply.started": "2021-11-17T08:28:44.210600Z"
        },
        "id": "27a318b6",
        "papermill": {
          "duration": 129.514457,
          "end_time": "2021-11-17T09:03:31.374777",
          "exception": false,
          "start_time": "2021-11-17T09:01:21.860320",
          "status": "completed"
        },
        "tags": []
      },
      "source": [
        "test_params(max_depth=10)"
      ],
      "id": "27a318b6",
      "execution_count": null,
      "outputs": []
    },
    {
      "cell_type": "markdown",
      "metadata": {
        "id": "cb73c2ce",
        "papermill": {
          "duration": 0.078308,
          "end_time": "2021-11-17T09:03:31.531547",
          "exception": false,
          "start_time": "2021-11-17T09:03:31.453239",
          "status": "completed"
        },
        "tags": []
      },
      "source": [
        "#### `learning_rate`"
      ],
      "id": "cb73c2ce"
    },
    {
      "cell_type": "code",
      "metadata": {
        "execution": {
          "iopub.execute_input": "2021-11-17T09:03:31.693069Z",
          "iopub.status.busy": "2021-11-17T09:03:31.692427Z",
          "iopub.status.idle": "2021-11-17T09:04:08.291274Z",
          "shell.execute_reply": "2021-11-17T09:04:08.292024Z",
          "shell.execute_reply.started": "2021-11-17T08:30:44.235691Z"
        },
        "id": "82d6ed03",
        "papermill": {
          "duration": 36.680016,
          "end_time": "2021-11-17T09:04:08.292273",
          "exception": false,
          "start_time": "2021-11-17T09:03:31.612257",
          "status": "completed"
        },
        "tags": []
      },
      "source": [
        "test_params(n_estimators=50, learning_rate=0.01)"
      ],
      "id": "82d6ed03",
      "execution_count": null,
      "outputs": []
    },
    {
      "cell_type": "code",
      "metadata": {
        "execution": {
          "iopub.execute_input": "2021-11-17T09:04:08.460452Z",
          "iopub.status.busy": "2021-11-17T09:04:08.454434Z",
          "iopub.status.idle": "2021-11-17T09:04:44.449778Z",
          "shell.execute_reply": "2021-11-17T09:04:44.450318Z",
          "shell.execute_reply.started": "2021-11-17T08:31:17.713229Z"
        },
        "id": "79718de9",
        "papermill": {
          "duration": 36.079286,
          "end_time": "2021-11-17T09:04:44.450508",
          "exception": false,
          "start_time": "2021-11-17T09:04:08.371222",
          "status": "completed"
        },
        "tags": []
      },
      "source": [
        "test_params(n_estimators=50, learning_rate=0.1)"
      ],
      "id": "79718de9",
      "execution_count": null,
      "outputs": []
    },
    {
      "cell_type": "code",
      "metadata": {
        "execution": {
          "iopub.execute_input": "2021-11-17T09:04:44.612235Z",
          "iopub.status.busy": "2021-11-17T09:04:44.611601Z",
          "iopub.status.idle": "2021-11-17T09:05:20.495806Z",
          "shell.execute_reply": "2021-11-17T09:05:20.496647Z",
          "shell.execute_reply.started": "2021-11-17T08:31:50.897501Z"
        },
        "id": "0fc18ed7",
        "papermill": {
          "duration": 35.967233,
          "end_time": "2021-11-17T09:05:20.496946",
          "exception": false,
          "start_time": "2021-11-17T09:04:44.529713",
          "status": "completed"
        },
        "tags": []
      },
      "source": [
        "test_params(n_estimators=50, learning_rate=0.3)"
      ],
      "id": "0fc18ed7",
      "execution_count": null,
      "outputs": []
    },
    {
      "cell_type": "markdown",
      "metadata": {
        "id": "1a1a99d8",
        "papermill": {
          "duration": 0.077763,
          "end_time": "2021-11-17T09:05:20.654201",
          "exception": false,
          "start_time": "2021-11-17T09:05:20.576438",
          "status": "completed"
        },
        "tags": []
      },
      "source": [
        "### Making Predictions"
      ],
      "id": "1a1a99d8"
    },
    {
      "cell_type": "code",
      "metadata": {
        "execution": {
          "iopub.execute_input": "2021-11-17T09:05:20.815348Z",
          "iopub.status.busy": "2021-11-17T09:05:20.814365Z",
          "iopub.status.idle": "2021-11-17T09:05:20.818509Z",
          "shell.execute_reply": "2021-11-17T09:05:20.819021Z",
          "shell.execute_reply.started": "2021-11-17T08:32:24.327048Z"
        },
        "id": "6f977945",
        "papermill": {
          "duration": 0.085595,
          "end_time": "2021-11-17T09:05:20.819213",
          "exception": false,
          "start_time": "2021-11-17T09:05:20.733618",
          "status": "completed"
        },
        "tags": [],
        "colab": {
          "base_uri": "https://localhost:8080/",
          "height": 200
        },
        "outputId": "c863158f-14fb-4e9c-a5f7-2f8c144734a8"
      },
      "source": [
        "model = XGBRegressor(n_jobs=-1, random_state=42, n_estimators=1000,\n",
        "                    learning_rate=0.2, max_depth=10, subsample=0.9,\n",
        "                    colsample_bytree=0.7)"
      ],
      "id": "6f977945",
      "execution_count": 12,
      "outputs": [
        {
          "output_type": "error",
          "ename": "NameError",
          "evalue": "ignored",
          "traceback": [
            "\u001b[0;31m---------------------------------------------------------------------------\u001b[0m",
            "\u001b[0;31mNameError\u001b[0m                                 Traceback (most recent call last)",
            "\u001b[0;32m<ipython-input-12-df88f257702f>\u001b[0m in \u001b[0;36m<module>\u001b[0;34m()\u001b[0m\n\u001b[0;32m----> 1\u001b[0;31m model = XGBRegressor(n_jobs=-1, random_state=42, n_estimators=1000,\n\u001b[0m\u001b[1;32m      2\u001b[0m                     \u001b[0mlearning_rate\u001b[0m\u001b[0;34m=\u001b[0m\u001b[0;36m0.2\u001b[0m\u001b[0;34m,\u001b[0m \u001b[0mmax_depth\u001b[0m\u001b[0;34m=\u001b[0m\u001b[0;36m10\u001b[0m\u001b[0;34m,\u001b[0m \u001b[0msubsample\u001b[0m\u001b[0;34m=\u001b[0m\u001b[0;36m0.9\u001b[0m\u001b[0;34m,\u001b[0m\u001b[0;34m\u001b[0m\u001b[0;34m\u001b[0m\u001b[0m\n\u001b[1;32m      3\u001b[0m                     colsample_bytree=0.7)\n",
            "\u001b[0;31mNameError\u001b[0m: name 'XGBRegressor' is not defined"
          ]
        }
      ]
    },
    {
      "cell_type": "code",
      "metadata": {
        "execution": {
          "iopub.execute_input": "2021-11-17T09:05:21.024157Z",
          "iopub.status.busy": "2021-11-17T09:05:21.023224Z",
          "iopub.status.idle": "2021-11-17T09:22:57.261212Z",
          "shell.execute_reply": "2021-11-17T09:22:57.260367Z",
          "shell.execute_reply.started": "2021-11-17T08:32:24.334396Z"
        },
        "id": "259da266",
        "papermill": {
          "duration": 1056.359606,
          "end_time": "2021-11-17T09:22:57.261430",
          "exception": false,
          "start_time": "2021-11-17T09:05:20.901824",
          "status": "completed"
        },
        "tags": [],
        "colab": {
          "base_uri": "https://localhost:8080/",
          "height": 380
        },
        "outputId": "7b09e73b-6a54-4902-c33f-d0208c80293d"
      },
      "source": [
        "%%time\n",
        "model.fit(X, target)"
      ],
      "id": "259da266",
      "execution_count": 13,
      "outputs": [
        {
          "output_type": "error",
          "ename": "NameError",
          "evalue": "ignored",
          "traceback": [
            "\u001b[0;31m---------------------------------------------------------------------------\u001b[0m",
            "\u001b[0;31mNameError\u001b[0m                                 Traceback (most recent call last)",
            "\u001b[0;32m<ipython-input-13-4e2d10e76383>\u001b[0m in \u001b[0;36m<module>\u001b[0;34m()\u001b[0m\n\u001b[0;32m----> 1\u001b[0;31m \u001b[0mget_ipython\u001b[0m\u001b[0;34m(\u001b[0m\u001b[0;34m)\u001b[0m\u001b[0;34m.\u001b[0m\u001b[0mrun_cell_magic\u001b[0m\u001b[0;34m(\u001b[0m\u001b[0;34m'time'\u001b[0m\u001b[0;34m,\u001b[0m \u001b[0;34m''\u001b[0m\u001b[0;34m,\u001b[0m \u001b[0;34m'model.fit(X, target)'\u001b[0m\u001b[0;34m)\u001b[0m\u001b[0;34m\u001b[0m\u001b[0;34m\u001b[0m\u001b[0m\n\u001b[0m",
            "\u001b[0;32m/usr/local/lib/python3.7/dist-packages/IPython/core/interactiveshell.py\u001b[0m in \u001b[0;36mrun_cell_magic\u001b[0;34m(self, magic_name, line, cell)\u001b[0m\n\u001b[1;32m   2115\u001b[0m             \u001b[0mmagic_arg_s\u001b[0m \u001b[0;34m=\u001b[0m \u001b[0mself\u001b[0m\u001b[0;34m.\u001b[0m\u001b[0mvar_expand\u001b[0m\u001b[0;34m(\u001b[0m\u001b[0mline\u001b[0m\u001b[0;34m,\u001b[0m \u001b[0mstack_depth\u001b[0m\u001b[0;34m)\u001b[0m\u001b[0;34m\u001b[0m\u001b[0;34m\u001b[0m\u001b[0m\n\u001b[1;32m   2116\u001b[0m             \u001b[0;32mwith\u001b[0m \u001b[0mself\u001b[0m\u001b[0;34m.\u001b[0m\u001b[0mbuiltin_trap\u001b[0m\u001b[0;34m:\u001b[0m\u001b[0;34m\u001b[0m\u001b[0;34m\u001b[0m\u001b[0m\n\u001b[0;32m-> 2117\u001b[0;31m                 \u001b[0mresult\u001b[0m \u001b[0;34m=\u001b[0m \u001b[0mfn\u001b[0m\u001b[0;34m(\u001b[0m\u001b[0mmagic_arg_s\u001b[0m\u001b[0;34m,\u001b[0m \u001b[0mcell\u001b[0m\u001b[0;34m)\u001b[0m\u001b[0;34m\u001b[0m\u001b[0;34m\u001b[0m\u001b[0m\n\u001b[0m\u001b[1;32m   2118\u001b[0m             \u001b[0;32mreturn\u001b[0m \u001b[0mresult\u001b[0m\u001b[0;34m\u001b[0m\u001b[0;34m\u001b[0m\u001b[0m\n\u001b[1;32m   2119\u001b[0m \u001b[0;34m\u001b[0m\u001b[0m\n",
            "\u001b[0;32m<decorator-gen-53>\u001b[0m in \u001b[0;36mtime\u001b[0;34m(self, line, cell, local_ns)\u001b[0m\n",
            "\u001b[0;32m/usr/local/lib/python3.7/dist-packages/IPython/core/magic.py\u001b[0m in \u001b[0;36m<lambda>\u001b[0;34m(f, *a, **k)\u001b[0m\n\u001b[1;32m    186\u001b[0m     \u001b[0;31m# but it's overkill for just that one bit of state.\u001b[0m\u001b[0;34m\u001b[0m\u001b[0;34m\u001b[0m\u001b[0;34m\u001b[0m\u001b[0m\n\u001b[1;32m    187\u001b[0m     \u001b[0;32mdef\u001b[0m \u001b[0mmagic_deco\u001b[0m\u001b[0;34m(\u001b[0m\u001b[0marg\u001b[0m\u001b[0;34m)\u001b[0m\u001b[0;34m:\u001b[0m\u001b[0;34m\u001b[0m\u001b[0;34m\u001b[0m\u001b[0m\n\u001b[0;32m--> 188\u001b[0;31m         \u001b[0mcall\u001b[0m \u001b[0;34m=\u001b[0m \u001b[0;32mlambda\u001b[0m \u001b[0mf\u001b[0m\u001b[0;34m,\u001b[0m \u001b[0;34m*\u001b[0m\u001b[0ma\u001b[0m\u001b[0;34m,\u001b[0m \u001b[0;34m**\u001b[0m\u001b[0mk\u001b[0m\u001b[0;34m:\u001b[0m \u001b[0mf\u001b[0m\u001b[0;34m(\u001b[0m\u001b[0;34m*\u001b[0m\u001b[0ma\u001b[0m\u001b[0;34m,\u001b[0m \u001b[0;34m**\u001b[0m\u001b[0mk\u001b[0m\u001b[0;34m)\u001b[0m\u001b[0;34m\u001b[0m\u001b[0;34m\u001b[0m\u001b[0m\n\u001b[0m\u001b[1;32m    189\u001b[0m \u001b[0;34m\u001b[0m\u001b[0m\n\u001b[1;32m    190\u001b[0m         \u001b[0;32mif\u001b[0m \u001b[0mcallable\u001b[0m\u001b[0;34m(\u001b[0m\u001b[0marg\u001b[0m\u001b[0;34m)\u001b[0m\u001b[0;34m:\u001b[0m\u001b[0;34m\u001b[0m\u001b[0;34m\u001b[0m\u001b[0m\n",
            "\u001b[0;32m/usr/local/lib/python3.7/dist-packages/IPython/core/magics/execution.py\u001b[0m in \u001b[0;36mtime\u001b[0;34m(self, line, cell, local_ns)\u001b[0m\n\u001b[1;32m   1187\u001b[0m         \u001b[0;32mif\u001b[0m \u001b[0mmode\u001b[0m\u001b[0;34m==\u001b[0m\u001b[0;34m'eval'\u001b[0m\u001b[0;34m:\u001b[0m\u001b[0;34m\u001b[0m\u001b[0;34m\u001b[0m\u001b[0m\n\u001b[1;32m   1188\u001b[0m             \u001b[0mst\u001b[0m \u001b[0;34m=\u001b[0m \u001b[0mclock2\u001b[0m\u001b[0;34m(\u001b[0m\u001b[0;34m)\u001b[0m\u001b[0;34m\u001b[0m\u001b[0;34m\u001b[0m\u001b[0m\n\u001b[0;32m-> 1189\u001b[0;31m             \u001b[0mout\u001b[0m \u001b[0;34m=\u001b[0m \u001b[0meval\u001b[0m\u001b[0;34m(\u001b[0m\u001b[0mcode\u001b[0m\u001b[0;34m,\u001b[0m \u001b[0mglob\u001b[0m\u001b[0;34m,\u001b[0m \u001b[0mlocal_ns\u001b[0m\u001b[0;34m)\u001b[0m\u001b[0;34m\u001b[0m\u001b[0;34m\u001b[0m\u001b[0m\n\u001b[0m\u001b[1;32m   1190\u001b[0m             \u001b[0mend\u001b[0m \u001b[0;34m=\u001b[0m \u001b[0mclock2\u001b[0m\u001b[0;34m(\u001b[0m\u001b[0;34m)\u001b[0m\u001b[0;34m\u001b[0m\u001b[0;34m\u001b[0m\u001b[0m\n\u001b[1;32m   1191\u001b[0m         \u001b[0;32melse\u001b[0m\u001b[0;34m:\u001b[0m\u001b[0;34m\u001b[0m\u001b[0;34m\u001b[0m\u001b[0m\n",
            "\u001b[0;32m<timed eval>\u001b[0m in \u001b[0;36m<module>\u001b[0;34m()\u001b[0m\n",
            "\u001b[0;31mNameError\u001b[0m: name 'model' is not defined"
          ]
        }
      ]
    },
    {
      "cell_type": "markdown",
      "metadata": {
        "id": "caf912bf",
        "papermill": {
          "duration": 0.139917,
          "end_time": "2021-11-17T09:22:57.481295",
          "exception": false,
          "start_time": "2021-11-17T09:22:57.341378",
          "status": "completed"
        },
        "tags": []
      },
      "source": [
        "Now the Model is trained we can make predictions on the test set"
      ],
      "id": "caf912bf"
    },
    {
      "cell_type": "code",
      "metadata": {
        "execution": {
          "iopub.execute_input": "2021-11-17T09:22:57.645571Z",
          "iopub.status.busy": "2021-11-17T09:22:57.644937Z",
          "iopub.status.idle": "2021-11-17T09:22:58.675391Z",
          "shell.execute_reply": "2021-11-17T09:22:58.675828Z",
          "shell.execute_reply.started": "2021-11-17T08:48:56.539667Z"
        },
        "id": "ce87113f",
        "papermill": {
          "duration": 1.113878,
          "end_time": "2021-11-17T09:22:58.676032",
          "exception": false,
          "start_time": "2021-11-17T09:22:57.562154",
          "status": "completed"
        },
        "tags": [],
        "colab": {
          "base_uri": "https://localhost:8080/",
          "height": 165
        },
        "outputId": "6163dd27-0066-488e-fbb9-4c96e5ef8722"
      },
      "source": [
        "test_preds = model.predict(X_test)"
      ],
      "id": "ce87113f",
      "execution_count": 90,
      "outputs": [
        {
          "output_type": "error",
          "ename": "NameError",
          "evalue": "ignored",
          "traceback": [
            "\u001b[0;31m---------------------------------------------------------------------------\u001b[0m",
            "\u001b[0;31mNameError\u001b[0m                                 Traceback (most recent call last)",
            "\u001b[0;32m<ipython-input-90-6c4bd3c77bd0>\u001b[0m in \u001b[0;36m<module>\u001b[0;34m()\u001b[0m\n\u001b[0;32m----> 1\u001b[0;31m \u001b[0mtest_preds\u001b[0m \u001b[0;34m=\u001b[0m \u001b[0mmodel\u001b[0m\u001b[0;34m.\u001b[0m\u001b[0mpredict\u001b[0m\u001b[0;34m(\u001b[0m\u001b[0mX_test\u001b[0m\u001b[0;34m)\u001b[0m\u001b[0;34m\u001b[0m\u001b[0;34m\u001b[0m\u001b[0m\n\u001b[0m",
            "\u001b[0;31mNameError\u001b[0m: name 'X_test' is not defined"
          ]
        }
      ]
    },
    {
      "cell_type": "code",
      "metadata": {
        "execution": {
          "iopub.execute_input": "2021-11-17T09:22:58.843623Z",
          "iopub.status.busy": "2021-11-17T09:22:58.842874Z",
          "iopub.status.idle": "2021-11-17T09:22:58.846334Z",
          "shell.execute_reply": "2021-11-17T09:22:58.846785Z",
          "shell.execute_reply.started": "2021-11-17T08:48:57.534753Z"
        },
        "id": "5065a1ca",
        "papermill": {
          "duration": 0.093187,
          "end_time": "2021-11-17T09:22:58.846969",
          "exception": false,
          "start_time": "2021-11-17T09:22:58.753782",
          "status": "completed"
        },
        "tags": []
      },
      "source": [
        "submission_df"
      ],
      "id": "5065a1ca",
      "execution_count": null,
      "outputs": []
    },
    {
      "cell_type": "code",
      "metadata": {
        "execution": {
          "iopub.execute_input": "2021-11-17T09:22:59.009464Z",
          "iopub.status.busy": "2021-11-17T09:22:59.008803Z",
          "iopub.status.idle": "2021-11-17T09:22:59.011020Z",
          "shell.execute_reply": "2021-11-17T09:22:59.011550Z",
          "shell.execute_reply.started": "2021-11-17T08:48:57.551479Z"
        },
        "id": "0a11357a",
        "papermill": {
          "duration": 0.086228,
          "end_time": "2021-11-17T09:22:59.011715",
          "exception": false,
          "start_time": "2021-11-17T09:22:58.925487",
          "status": "completed"
        },
        "tags": []
      },
      "source": [
        "submission_df['Sales'] = test_preds"
      ],
      "id": "0a11357a",
      "execution_count": null,
      "outputs": []
    },
    {
      "cell_type": "code",
      "metadata": {
        "execution": {
          "iopub.execute_input": "2021-11-17T09:22:59.171991Z",
          "iopub.status.busy": "2021-11-17T09:22:59.171433Z",
          "iopub.status.idle": "2021-11-17T09:22:59.176633Z",
          "shell.execute_reply": "2021-11-17T09:22:59.177106Z",
          "shell.execute_reply.started": "2021-11-17T08:48:57.558345Z"
        },
        "id": "8655ef9e",
        "papermill": {
          "duration": 0.086886,
          "end_time": "2021-11-17T09:22:59.177279",
          "exception": false,
          "start_time": "2021-11-17T09:22:59.090393",
          "status": "completed"
        },
        "tags": []
      },
      "source": [
        "test_df.Open.isna().sum()"
      ],
      "id": "8655ef9e",
      "execution_count": null,
      "outputs": []
    },
    {
      "cell_type": "code",
      "metadata": {
        "execution": {
          "iopub.execute_input": "2021-11-17T09:22:59.342059Z",
          "iopub.status.busy": "2021-11-17T09:22:59.341272Z",
          "iopub.status.idle": "2021-11-17T09:22:59.353523Z",
          "shell.execute_reply": "2021-11-17T09:22:59.354141Z",
          "shell.execute_reply.started": "2021-11-17T08:48:57.573277Z"
        },
        "id": "5a607569",
        "papermill": {
          "duration": 0.097827,
          "end_time": "2021-11-17T09:22:59.354335",
          "exception": false,
          "start_time": "2021-11-17T09:22:59.256508",
          "status": "completed"
        },
        "tags": []
      },
      "source": [
        "test_df[test_df.Open.isna()]"
      ],
      "id": "5a607569",
      "execution_count": null,
      "outputs": []
    }
  ]
}